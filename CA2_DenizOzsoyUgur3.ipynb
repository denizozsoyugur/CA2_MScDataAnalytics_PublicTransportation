{
 "cells": [
  {
   "cell_type": "markdown",
   "id": "5de7bb9d",
   "metadata": {},
   "source": [
    "# Link to Dataset"
   ]
  },
  {
   "cell_type": "markdown",
   "id": "326e9c2a",
   "metadata": {},
   "source": [
    "Ireland\n",
    "\n",
    "https://data.gov.ie/dataset/toa11-luas-passenger-numbers"
   ]
  },
  {
   "cell_type": "markdown",
   "id": "d33510a0",
   "metadata": {},
   "source": [
    "Turkey \n",
    "\n",
    "API\n",
    "\n",
    "https://data.ibb.gov.tr/tr/datastore/odata3.0/5c2b78fc-3b68-4722-844f-3051c358a13f\n",
    "        \n",
    "CSV\n",
    "\n",
    "https://data.ibb.gov.tr/en/dataset/d3df8db4-1ac6-4bfe-8896-7ec1159caa2b/resource/8bed95de-bbe2-4550-80f2-87ca51a97f3d/download/2022-yl-ya-grubuna-gore-rayl-sistemler-istasyon-bazl-yolcu-ve-yolculuk-saylar.csv\n",
    "\n",
    "https://data.ibb.gov.tr/tr/datastore/odata3.0/5c2b78fc-3b68-4722-844f-3051c358a13f?$top=5&$format=json"
   ]
  },
  {
   "cell_type": "code",
   "execution_count": 1,
   "id": "b5f77428",
   "metadata": {},
   "outputs": [],
   "source": [
    "# Import NumPy, Pandas, Matplotlib, Seaborn libraries and Plotly Express, and Sci\n",
    "\n",
    "import numpy as np\n",
    "import pandas as pd\n",
    "from matplotlib import pyplot as plt\n",
    "import seaborn as sns\n",
    "import plotly.express as px\n",
    "\n",
    "# Import warnings and applyt filterwarnings to ignore them.\n",
    "\n",
    "import warnings\n",
    "warnings.filterwarnings('ignore')"
   ]
  },
  {
   "cell_type": "code",
   "execution_count": 2,
   "id": "d999e623",
   "metadata": {},
   "outputs": [],
   "source": [
    "df = pd.read_csv(\"Luas_Passenger_Number.csv\")\n",
    "\n",
    "# pd.read_csv function in order to read the csv file containing the population estimated construction status report"
   ]
  },
  {
   "cell_type": "code",
   "execution_count": 3,
   "id": "5716df44",
   "metadata": {},
   "outputs": [],
   "source": [
    "df1=pd.read_csv(\"Turkey_Rail_Passenger_Number.csv\", encoding = 'latin-1')"
   ]
  },
  {
   "cell_type": "markdown",
   "id": "3ec32a57",
   "metadata": {},
   "source": [
    "df1 = pd.read_csv(\"Turkey_Rail_Passenger_Number.csv\")\n",
    "\n",
    "A problem was encountered when trying to open the file. To fix the problem, it was observed that there was a problem decoding a byte in the file using the 'utf-8' encoding, so an addition to the code was made accordingly."
   ]
  },
  {
   "cell_type": "code",
   "execution_count": 4,
   "id": "c2db7359",
   "metadata": {},
   "outputs": [
    {
     "data": {
      "text/html": [
       "<div>\n",
       "<style scoped>\n",
       "    .dataframe tbody tr th:only-of-type {\n",
       "        vertical-align: middle;\n",
       "    }\n",
       "\n",
       "    .dataframe tbody tr th {\n",
       "        vertical-align: top;\n",
       "    }\n",
       "\n",
       "    .dataframe thead th {\n",
       "        text-align: right;\n",
       "    }\n",
       "</style>\n",
       "<table border=\"1\" class=\"dataframe\">\n",
       "  <thead>\n",
       "    <tr style=\"text-align: right;\">\n",
       "      <th></th>\n",
       "      <th>STATISTIC</th>\n",
       "      <th>Statistic Label</th>\n",
       "      <th>TLIST(A1)</th>\n",
       "      <th>Year</th>\n",
       "      <th>C01885V02316</th>\n",
       "      <th>Month</th>\n",
       "      <th>UNIT</th>\n",
       "      <th>VALUE</th>\n",
       "    </tr>\n",
       "  </thead>\n",
       "  <tbody>\n",
       "    <tr>\n",
       "      <th>0</th>\n",
       "      <td>TOA11C01</td>\n",
       "      <td>Red line</td>\n",
       "      <td>2018</td>\n",
       "      <td>2018</td>\n",
       "      <td>1</td>\n",
       "      <td>January</td>\n",
       "      <td>Number</td>\n",
       "      <td>1664495</td>\n",
       "    </tr>\n",
       "    <tr>\n",
       "      <th>1</th>\n",
       "      <td>TOA11C01</td>\n",
       "      <td>Red line</td>\n",
       "      <td>2018</td>\n",
       "      <td>2018</td>\n",
       "      <td>2</td>\n",
       "      <td>February</td>\n",
       "      <td>Number</td>\n",
       "      <td>1657562</td>\n",
       "    </tr>\n",
       "    <tr>\n",
       "      <th>2</th>\n",
       "      <td>TOA11C01</td>\n",
       "      <td>Red line</td>\n",
       "      <td>2018</td>\n",
       "      <td>2018</td>\n",
       "      <td>3</td>\n",
       "      <td>March</td>\n",
       "      <td>Number</td>\n",
       "      <td>1661098</td>\n",
       "    </tr>\n",
       "    <tr>\n",
       "      <th>3</th>\n",
       "      <td>TOA11C01</td>\n",
       "      <td>Red line</td>\n",
       "      <td>2018</td>\n",
       "      <td>2018</td>\n",
       "      <td>4</td>\n",
       "      <td>April</td>\n",
       "      <td>Number</td>\n",
       "      <td>1794424</td>\n",
       "    </tr>\n",
       "    <tr>\n",
       "      <th>4</th>\n",
       "      <td>TOA11C01</td>\n",
       "      <td>Red line</td>\n",
       "      <td>2018</td>\n",
       "      <td>2018</td>\n",
       "      <td>5</td>\n",
       "      <td>May</td>\n",
       "      <td>Number</td>\n",
       "      <td>1934553</td>\n",
       "    </tr>\n",
       "  </tbody>\n",
       "</table>\n",
       "</div>"
      ],
      "text/plain": [
       "  STATISTIC Statistic Label  TLIST(A1)  Year C01885V02316     Month    UNIT  \\\n",
       "0  TOA11C01        Red line       2018  2018            1   January  Number   \n",
       "1  TOA11C01        Red line       2018  2018            2  February  Number   \n",
       "2  TOA11C01        Red line       2018  2018            3     March  Number   \n",
       "3  TOA11C01        Red line       2018  2018            4     April  Number   \n",
       "4  TOA11C01        Red line       2018  2018            5       May  Number   \n",
       "\n",
       "     VALUE  \n",
       "0  1664495  \n",
       "1  1657562  \n",
       "2  1661098  \n",
       "3  1794424  \n",
       "4  1934553  "
      ]
     },
     "execution_count": 4,
     "metadata": {},
     "output_type": "execute_result"
    }
   ],
   "source": [
    "df.head(5)"
   ]
  },
  {
   "cell_type": "code",
   "execution_count": 5,
   "id": "c7102f7f",
   "metadata": {},
   "outputs": [],
   "source": [
    "missing_values = ['/',' ','-','--','na','Na','n/a','NA','n.a.','?','nan','Nan','nul','Nul','null','Null']\n",
    "\n",
    "df= pd.read_csv('Luas_Passenger_Number.csv',na_values=missing_values)\n",
    "\n",
    "# Create a list with all the possible missing value formats. Create a name for the dataframe as report\n",
    "# ('PopulationEstimatesDatabase1')and apply the pd.read_csv function \n",
    "# Include the variable 'na_values' and define it with the 'missing values' list previously created"
   ]
  },
  {
   "cell_type": "code",
   "execution_count": 6,
   "id": "26914707",
   "metadata": {},
   "outputs": [
    {
     "data": {
      "text/plain": [
       "STATISTIC           0\n",
       "Statistic Label     0\n",
       "TLIST(A1)           0\n",
       "Year                0\n",
       "C01885V02316       15\n",
       "Month               0\n",
       "UNIT                0\n",
       "VALUE               0\n",
       "dtype: int64"
      ]
     },
     "execution_count": 6,
     "metadata": {},
     "output_type": "execute_result"
    }
   ],
   "source": [
    "df.isnull().sum()\n",
    "\n",
    "# Check missing values by applying the .isnull().sum method to the dataframe"
   ]
  },
  {
   "cell_type": "code",
   "execution_count": 7,
   "id": "2c457a06",
   "metadata": {},
   "outputs": [
    {
     "data": {
      "text/plain": [
       "Index(['STATISTIC', 'Statistic Label', 'TLIST(A1)', 'Year', 'C01885V02316',\n",
       "       'Month', 'UNIT', 'VALUE'],\n",
       "      dtype='object')"
      ]
     },
     "execution_count": 7,
     "metadata": {},
     "output_type": "execute_result"
    }
   ],
   "source": [
    "df.columns"
   ]
  },
  {
   "cell_type": "code",
   "execution_count": 8,
   "id": "c089710e",
   "metadata": {},
   "outputs": [],
   "source": [
    "df.rename(columns={'Statistic Label':'Luas Type', \n",
    "                   'UNIT':'Unit', 'VALUE':'Value_Ireland', 'Month':'Month_Ireland'}, inplace=True)"
   ]
  },
  {
   "cell_type": "code",
   "execution_count": 9,
   "id": "661486a3",
   "metadata": {},
   "outputs": [
    {
     "data": {
      "text/html": [
       "<div>\n",
       "<style scoped>\n",
       "    .dataframe tbody tr th:only-of-type {\n",
       "        vertical-align: middle;\n",
       "    }\n",
       "\n",
       "    .dataframe tbody tr th {\n",
       "        vertical-align: top;\n",
       "    }\n",
       "\n",
       "    .dataframe thead th {\n",
       "        text-align: right;\n",
       "    }\n",
       "</style>\n",
       "<table border=\"1\" class=\"dataframe\">\n",
       "  <thead>\n",
       "    <tr style=\"text-align: right;\">\n",
       "      <th></th>\n",
       "      <th>STATISTIC</th>\n",
       "      <th>Luas Type</th>\n",
       "      <th>TLIST(A1)</th>\n",
       "      <th>Year</th>\n",
       "      <th>C01885V02316</th>\n",
       "      <th>Month_Ireland</th>\n",
       "      <th>Unit</th>\n",
       "      <th>Value_Ireland</th>\n",
       "    </tr>\n",
       "  </thead>\n",
       "  <tbody>\n",
       "    <tr>\n",
       "      <th>0</th>\n",
       "      <td>TOA11C01</td>\n",
       "      <td>Red line</td>\n",
       "      <td>2018</td>\n",
       "      <td>2018</td>\n",
       "      <td>1.0</td>\n",
       "      <td>January</td>\n",
       "      <td>Number</td>\n",
       "      <td>1664495</td>\n",
       "    </tr>\n",
       "    <tr>\n",
       "      <th>1</th>\n",
       "      <td>TOA11C01</td>\n",
       "      <td>Red line</td>\n",
       "      <td>2018</td>\n",
       "      <td>2018</td>\n",
       "      <td>2.0</td>\n",
       "      <td>February</td>\n",
       "      <td>Number</td>\n",
       "      <td>1657562</td>\n",
       "    </tr>\n",
       "    <tr>\n",
       "      <th>2</th>\n",
       "      <td>TOA11C01</td>\n",
       "      <td>Red line</td>\n",
       "      <td>2018</td>\n",
       "      <td>2018</td>\n",
       "      <td>3.0</td>\n",
       "      <td>March</td>\n",
       "      <td>Number</td>\n",
       "      <td>1661098</td>\n",
       "    </tr>\n",
       "    <tr>\n",
       "      <th>3</th>\n",
       "      <td>TOA11C01</td>\n",
       "      <td>Red line</td>\n",
       "      <td>2018</td>\n",
       "      <td>2018</td>\n",
       "      <td>4.0</td>\n",
       "      <td>April</td>\n",
       "      <td>Number</td>\n",
       "      <td>1794424</td>\n",
       "    </tr>\n",
       "    <tr>\n",
       "      <th>4</th>\n",
       "      <td>TOA11C01</td>\n",
       "      <td>Red line</td>\n",
       "      <td>2018</td>\n",
       "      <td>2018</td>\n",
       "      <td>5.0</td>\n",
       "      <td>May</td>\n",
       "      <td>Number</td>\n",
       "      <td>1934553</td>\n",
       "    </tr>\n",
       "  </tbody>\n",
       "</table>\n",
       "</div>"
      ],
      "text/plain": [
       "  STATISTIC Luas Type  TLIST(A1)  Year  C01885V02316 Month_Ireland    Unit  \\\n",
       "0  TOA11C01  Red line       2018  2018           1.0       January  Number   \n",
       "1  TOA11C01  Red line       2018  2018           2.0      February  Number   \n",
       "2  TOA11C01  Red line       2018  2018           3.0         March  Number   \n",
       "3  TOA11C01  Red line       2018  2018           4.0         April  Number   \n",
       "4  TOA11C01  Red line       2018  2018           5.0           May  Number   \n",
       "\n",
       "   Value_Ireland  \n",
       "0        1664495  \n",
       "1        1657562  \n",
       "2        1661098  \n",
       "3        1794424  \n",
       "4        1934553  "
      ]
     },
     "execution_count": 9,
     "metadata": {},
     "output_type": "execute_result"
    }
   ],
   "source": [
    "df.head(5)"
   ]
  },
  {
   "cell_type": "code",
   "execution_count": 10,
   "id": "87919b45",
   "metadata": {},
   "outputs": [],
   "source": [
    "df.drop(columns=[\"STATISTIC\", \"TLIST(A1)\", \"C01885V02316\",\"Unit\"], inplace=True)"
   ]
  },
  {
   "cell_type": "code",
   "execution_count": 11,
   "id": "3366bf73",
   "metadata": {},
   "outputs": [
    {
     "data": {
      "text/html": [
       "<div>\n",
       "<style scoped>\n",
       "    .dataframe tbody tr th:only-of-type {\n",
       "        vertical-align: middle;\n",
       "    }\n",
       "\n",
       "    .dataframe tbody tr th {\n",
       "        vertical-align: top;\n",
       "    }\n",
       "\n",
       "    .dataframe thead th {\n",
       "        text-align: right;\n",
       "    }\n",
       "</style>\n",
       "<table border=\"1\" class=\"dataframe\">\n",
       "  <thead>\n",
       "    <tr style=\"text-align: right;\">\n",
       "      <th></th>\n",
       "      <th>Luas Type</th>\n",
       "      <th>Year</th>\n",
       "      <th>Month_Ireland</th>\n",
       "      <th>Value_Ireland</th>\n",
       "    </tr>\n",
       "  </thead>\n",
       "  <tbody>\n",
       "    <tr>\n",
       "      <th>0</th>\n",
       "      <td>Red line</td>\n",
       "      <td>2018</td>\n",
       "      <td>January</td>\n",
       "      <td>1664495</td>\n",
       "    </tr>\n",
       "    <tr>\n",
       "      <th>1</th>\n",
       "      <td>Red line</td>\n",
       "      <td>2018</td>\n",
       "      <td>February</td>\n",
       "      <td>1657562</td>\n",
       "    </tr>\n",
       "  </tbody>\n",
       "</table>\n",
       "</div>"
      ],
      "text/plain": [
       "  Luas Type  Year Month_Ireland  Value_Ireland\n",
       "0  Red line  2018       January        1664495\n",
       "1  Red line  2018      February        1657562"
      ]
     },
     "execution_count": 11,
     "metadata": {},
     "output_type": "execute_result"
    }
   ],
   "source": [
    "df.head(2)"
   ]
  },
  {
   "cell_type": "code",
   "execution_count": 12,
   "id": "1f3a8436",
   "metadata": {},
   "outputs": [
    {
     "name": "stdout",
     "output_type": "stream",
     "text": [
      "          Luas Type  Year  Month_Ireland  Value_Ireland\n",
      "0          Red line  2018              1        1664495\n",
      "1          Red line  2018              2        1657562\n",
      "2          Red line  2018              3        1661098\n",
      "3          Red line  2018              4        1794424\n",
      "4          Red line  2018              5        1934553\n",
      "..              ...   ...            ...            ...\n",
      "190  All Luas lines  2022              9        3811093\n",
      "191  All Luas lines  2022             10        4219124\n",
      "192  All Luas lines  2022             11        4375705\n",
      "193  All Luas lines  2022             12        4030698\n",
      "194  All Luas lines  2022              0       38667875\n",
      "\n",
      "[195 rows x 4 columns]\n"
     ]
    }
   ],
   "source": [
    "month_mapping = {'January': 1, 'February': 2, 'March': 3, 'April': 4, 'May': 5, 'June': 6,\n",
    "                 'July': 7, 'August': 8, 'September': 9, 'October': 10, 'November': 11, 'December': 12}\n",
    "\n",
    "df['Month_Ireland'] = df['Month_Ireland'].map(month_mapping)\n",
    "\n",
    "df['Month_Ireland'] = pd.to_numeric(df['Month_Ireland'], errors='coerce')\n",
    "\n",
    "df['Month_Ireland'].fillna(0, inplace=True)\n",
    "\n",
    "df['Month_Ireland'] = df['Month_Ireland'].astype(int)\n",
    "\n",
    "print(df)"
   ]
  },
  {
   "cell_type": "code",
   "execution_count": 13,
   "id": "b560c050",
   "metadata": {},
   "outputs": [
    {
     "data": {
      "text/plain": [
       "Luas Type        0.0\n",
       "Year             0.0\n",
       "Month_Ireland    0.0\n",
       "Value_Ireland    0.0\n",
       "dtype: float64"
      ]
     },
     "execution_count": 13,
     "metadata": {},
     "output_type": "execute_result"
    }
   ],
   "source": [
    "df.isnull().sum() / len(df) * 100"
   ]
  },
  {
   "cell_type": "code",
   "execution_count": 14,
   "id": "715b4859",
   "metadata": {},
   "outputs": [
    {
     "name": "stdout",
     "output_type": "stream",
     "text": [
      "          Luas Type  Year  Month_Ireland  Value_Ireland\n",
      "130  All Luas lines  2018              1        3218649\n",
      "131  All Luas lines  2018              2        3118289\n",
      "132  All Luas lines  2018              3        3097570\n",
      "133  All Luas lines  2018              4        3350056\n",
      "134  All Luas lines  2018              5        3622338\n",
      "..              ...   ...            ...            ...\n",
      "190  All Luas lines  2022              9        3811093\n",
      "191  All Luas lines  2022             10        4219124\n",
      "192  All Luas lines  2022             11        4375705\n",
      "193  All Luas lines  2022             12        4030698\n",
      "194  All Luas lines  2022              0       38667875\n",
      "\n",
      "[65 rows x 4 columns]\n"
     ]
    }
   ],
   "source": [
    "df_frame = pd.DataFrame(df)\n",
    "\n",
    "df_1 = df_frame[(df_frame['Luas Type'] == 'All Luas lines')]\n",
    "\n",
    "print(df_1)"
   ]
  },
  {
   "cell_type": "code",
   "execution_count": 15,
   "id": "4c7956b7",
   "metadata": {},
   "outputs": [
    {
     "name": "stdout",
     "output_type": "stream",
     "text": [
      "      Luas Type  Year  Month_Ireland  Value_Ireland\n",
      "0      Red line  2018              1        1664495\n",
      "1      Red line  2018              2        1657562\n",
      "2      Red line  2018              3        1661098\n",
      "3      Red line  2018              4        1794424\n",
      "4      Red line  2018              5        1934553\n",
      "..          ...   ...            ...            ...\n",
      "125  Green line  2022              9        1830015\n",
      "126  Green line  2022             10        2063739\n",
      "127  Green line  2022             11        2097731\n",
      "128  Green line  2022             12        1972696\n",
      "129  Green line  2022              0       18392801\n",
      "\n",
      "[130 rows x 4 columns]\n"
     ]
    }
   ],
   "source": [
    "df= pd.DataFrame(df)\n",
    "\n",
    "df = df.drop(df[df['Luas Type'] == 'All Luas lines'].index)\n",
    "\n",
    "print(df)"
   ]
  },
  {
   "cell_type": "code",
   "execution_count": 16,
   "id": "b0822d32",
   "metadata": {},
   "outputs": [
    {
     "data": {
      "text/html": [
       "<div>\n",
       "<style scoped>\n",
       "    .dataframe tbody tr th:only-of-type {\n",
       "        vertical-align: middle;\n",
       "    }\n",
       "\n",
       "    .dataframe tbody tr th {\n",
       "        vertical-align: top;\n",
       "    }\n",
       "\n",
       "    .dataframe thead th {\n",
       "        text-align: right;\n",
       "    }\n",
       "</style>\n",
       "<table border=\"1\" class=\"dataframe\">\n",
       "  <thead>\n",
       "    <tr style=\"text-align: right;\">\n",
       "      <th></th>\n",
       "      <th>Luas Type</th>\n",
       "      <th>Year</th>\n",
       "      <th>Month_Ireland</th>\n",
       "      <th>Value_Ireland</th>\n",
       "    </tr>\n",
       "  </thead>\n",
       "  <tbody>\n",
       "    <tr>\n",
       "      <th>0</th>\n",
       "      <td>Red line</td>\n",
       "      <td>2018</td>\n",
       "      <td>1</td>\n",
       "      <td>1664495</td>\n",
       "    </tr>\n",
       "    <tr>\n",
       "      <th>1</th>\n",
       "      <td>Red line</td>\n",
       "      <td>2018</td>\n",
       "      <td>2</td>\n",
       "      <td>1657562</td>\n",
       "    </tr>\n",
       "  </tbody>\n",
       "</table>\n",
       "</div>"
      ],
      "text/plain": [
       "  Luas Type  Year  Month_Ireland  Value_Ireland\n",
       "0  Red line  2018              1        1664495\n",
       "1  Red line  2018              2        1657562"
      ]
     },
     "execution_count": 16,
     "metadata": {},
     "output_type": "execute_result"
    }
   ],
   "source": [
    "df.head(2)"
   ]
  },
  {
   "cell_type": "markdown",
   "id": "3fb9a410",
   "metadata": {},
   "source": [
    "# Dataset\n",
    "\n",
    "df = red line & green line\n",
    "\n",
    "df_1 = All Luas line\n"
   ]
  },
  {
   "cell_type": "code",
   "execution_count": 17,
   "id": "9d778153",
   "metadata": {},
   "outputs": [],
   "source": [
    "from sklearn.preprocessing import OrdinalEncoder\n",
    "from sklearn.preprocessing import LabelEncoder"
   ]
  },
  {
   "cell_type": "code",
   "execution_count": 18,
   "id": "dfe4e91e",
   "metadata": {},
   "outputs": [],
   "source": [
    "l_encoder = LabelEncoder()\n",
    "\n",
    "# Put the type of all data of object type into the same shape (float).with the Encoder function."
   ]
  },
  {
   "cell_type": "code",
   "execution_count": 19,
   "id": "2109ef82",
   "metadata": {},
   "outputs": [],
   "source": [
    "df[\"Luas Type_Encoded\"] =l_encoder.fit_transform(df[\"Luas Type\"])\n",
    "\n",
    "#To convert the numeric value of the 'Luas Type' column .l_encoder.fit_transform function"
   ]
  },
  {
   "cell_type": "code",
   "execution_count": 20,
   "id": "76fff20b",
   "metadata": {},
   "outputs": [],
   "source": [
    "df_1[\"Luas Type_Encoded\"] =l_encoder.fit_transform(df_1[\"Luas Type\"])"
   ]
  },
  {
   "cell_type": "code",
   "execution_count": 21,
   "id": "4c90ffb5",
   "metadata": {},
   "outputs": [
    {
     "data": {
      "text/html": [
       "<div>\n",
       "<style scoped>\n",
       "    .dataframe tbody tr th:only-of-type {\n",
       "        vertical-align: middle;\n",
       "    }\n",
       "\n",
       "    .dataframe tbody tr th {\n",
       "        vertical-align: top;\n",
       "    }\n",
       "\n",
       "    .dataframe thead th {\n",
       "        text-align: right;\n",
       "    }\n",
       "</style>\n",
       "<table border=\"1\" class=\"dataframe\">\n",
       "  <thead>\n",
       "    <tr style=\"text-align: right;\">\n",
       "      <th></th>\n",
       "      <th>Luas Type</th>\n",
       "      <th>Year</th>\n",
       "      <th>Month_Ireland</th>\n",
       "      <th>Value_Ireland</th>\n",
       "      <th>Luas Type_Encoded</th>\n",
       "    </tr>\n",
       "  </thead>\n",
       "  <tbody>\n",
       "    <tr>\n",
       "      <th>0</th>\n",
       "      <td>Red line</td>\n",
       "      <td>2018</td>\n",
       "      <td>1</td>\n",
       "      <td>1664495</td>\n",
       "      <td>1</td>\n",
       "    </tr>\n",
       "    <tr>\n",
       "      <th>1</th>\n",
       "      <td>Red line</td>\n",
       "      <td>2018</td>\n",
       "      <td>2</td>\n",
       "      <td>1657562</td>\n",
       "      <td>1</td>\n",
       "    </tr>\n",
       "  </tbody>\n",
       "</table>\n",
       "</div>"
      ],
      "text/plain": [
       "  Luas Type  Year  Month_Ireland  Value_Ireland  Luas Type_Encoded\n",
       "0  Red line  2018              1        1664495                  1\n",
       "1  Red line  2018              2        1657562                  1"
      ]
     },
     "execution_count": 21,
     "metadata": {},
     "output_type": "execute_result"
    }
   ],
   "source": [
    "df.head(2)"
   ]
  },
  {
   "cell_type": "markdown",
   "id": "93fd0a17",
   "metadata": {},
   "source": [
    "Green Line = 1\n",
    "Red Line=2"
   ]
  },
  {
   "cell_type": "code",
   "execution_count": 22,
   "id": "0ba796ea",
   "metadata": {},
   "outputs": [
    {
     "data": {
      "text/html": [
       "<div>\n",
       "<style scoped>\n",
       "    .dataframe tbody tr th:only-of-type {\n",
       "        vertical-align: middle;\n",
       "    }\n",
       "\n",
       "    .dataframe tbody tr th {\n",
       "        vertical-align: top;\n",
       "    }\n",
       "\n",
       "    .dataframe thead th {\n",
       "        text-align: right;\n",
       "    }\n",
       "</style>\n",
       "<table border=\"1\" class=\"dataframe\">\n",
       "  <thead>\n",
       "    <tr style=\"text-align: right;\">\n",
       "      <th></th>\n",
       "      <th>Luas Type</th>\n",
       "      <th>Year</th>\n",
       "      <th>Month_Ireland</th>\n",
       "      <th>Value_Ireland</th>\n",
       "      <th>Luas Type_Encoded</th>\n",
       "    </tr>\n",
       "  </thead>\n",
       "  <tbody>\n",
       "    <tr>\n",
       "      <th>130</th>\n",
       "      <td>All Luas lines</td>\n",
       "      <td>2018</td>\n",
       "      <td>1</td>\n",
       "      <td>3218649</td>\n",
       "      <td>0</td>\n",
       "    </tr>\n",
       "    <tr>\n",
       "      <th>131</th>\n",
       "      <td>All Luas lines</td>\n",
       "      <td>2018</td>\n",
       "      <td>2</td>\n",
       "      <td>3118289</td>\n",
       "      <td>0</td>\n",
       "    </tr>\n",
       "  </tbody>\n",
       "</table>\n",
       "</div>"
      ],
      "text/plain": [
       "          Luas Type  Year  Month_Ireland  Value_Ireland  Luas Type_Encoded\n",
       "130  All Luas lines  2018              1        3218649                  0\n",
       "131  All Luas lines  2018              2        3118289                  0"
      ]
     },
     "execution_count": 22,
     "metadata": {},
     "output_type": "execute_result"
    }
   ],
   "source": [
    "df_1.head(2)"
   ]
  },
  {
   "cell_type": "markdown",
   "id": "98da2c0c",
   "metadata": {},
   "source": [
    "All Luas Lines = 0"
   ]
  },
  {
   "cell_type": "code",
   "execution_count": 23,
   "id": "5c9c5ef0",
   "metadata": {},
   "outputs": [],
   "source": [
    "df.drop(columns=[\"Luas Type\"], inplace=True)"
   ]
  },
  {
   "cell_type": "code",
   "execution_count": 24,
   "id": "54ad8679",
   "metadata": {},
   "outputs": [],
   "source": [
    "df_1.drop(columns=[\"Luas Type\"], inplace=True)"
   ]
  },
  {
   "cell_type": "code",
   "execution_count": 25,
   "id": "2127072f",
   "metadata": {},
   "outputs": [
    {
     "data": {
      "text/html": [
       "<div>\n",
       "<style scoped>\n",
       "    .dataframe tbody tr th:only-of-type {\n",
       "        vertical-align: middle;\n",
       "    }\n",
       "\n",
       "    .dataframe tbody tr th {\n",
       "        vertical-align: top;\n",
       "    }\n",
       "\n",
       "    .dataframe thead th {\n",
       "        text-align: right;\n",
       "    }\n",
       "</style>\n",
       "<table border=\"1\" class=\"dataframe\">\n",
       "  <thead>\n",
       "    <tr style=\"text-align: right;\">\n",
       "      <th></th>\n",
       "      <th>Year</th>\n",
       "      <th>Month_Ireland</th>\n",
       "      <th>Value_Ireland</th>\n",
       "      <th>Luas Type_Encoded</th>\n",
       "    </tr>\n",
       "  </thead>\n",
       "  <tbody>\n",
       "    <tr>\n",
       "      <th>0</th>\n",
       "      <td>2018</td>\n",
       "      <td>1</td>\n",
       "      <td>1664495</td>\n",
       "      <td>1</td>\n",
       "    </tr>\n",
       "    <tr>\n",
       "      <th>1</th>\n",
       "      <td>2018</td>\n",
       "      <td>2</td>\n",
       "      <td>1657562</td>\n",
       "      <td>1</td>\n",
       "    </tr>\n",
       "  </tbody>\n",
       "</table>\n",
       "</div>"
      ],
      "text/plain": [
       "   Year  Month_Ireland  Value_Ireland  Luas Type_Encoded\n",
       "0  2018              1        1664495                  1\n",
       "1  2018              2        1657562                  1"
      ]
     },
     "execution_count": 25,
     "metadata": {},
     "output_type": "execute_result"
    }
   ],
   "source": [
    "df.head(2)"
   ]
  },
  {
   "cell_type": "code",
   "execution_count": 26,
   "id": "fc04283c",
   "metadata": {},
   "outputs": [
    {
     "data": {
      "text/html": [
       "<div>\n",
       "<style scoped>\n",
       "    .dataframe tbody tr th:only-of-type {\n",
       "        vertical-align: middle;\n",
       "    }\n",
       "\n",
       "    .dataframe tbody tr th {\n",
       "        vertical-align: top;\n",
       "    }\n",
       "\n",
       "    .dataframe thead th {\n",
       "        text-align: right;\n",
       "    }\n",
       "</style>\n",
       "<table border=\"1\" class=\"dataframe\">\n",
       "  <thead>\n",
       "    <tr style=\"text-align: right;\">\n",
       "      <th></th>\n",
       "      <th>Year</th>\n",
       "      <th>Month_Ireland</th>\n",
       "      <th>Value_Ireland</th>\n",
       "      <th>Luas Type_Encoded</th>\n",
       "    </tr>\n",
       "  </thead>\n",
       "  <tbody>\n",
       "    <tr>\n",
       "      <th>130</th>\n",
       "      <td>2018</td>\n",
       "      <td>1</td>\n",
       "      <td>3218649</td>\n",
       "      <td>0</td>\n",
       "    </tr>\n",
       "    <tr>\n",
       "      <th>131</th>\n",
       "      <td>2018</td>\n",
       "      <td>2</td>\n",
       "      <td>3118289</td>\n",
       "      <td>0</td>\n",
       "    </tr>\n",
       "  </tbody>\n",
       "</table>\n",
       "</div>"
      ],
      "text/plain": [
       "     Year  Month_Ireland  Value_Ireland  Luas Type_Encoded\n",
       "130  2018              1        3218649                  0\n",
       "131  2018              2        3118289                  0"
      ]
     },
     "execution_count": 26,
     "metadata": {},
     "output_type": "execute_result"
    }
   ],
   "source": [
    "df_1.head(2)"
   ]
  },
  {
   "cell_type": "code",
   "execution_count": 27,
   "id": "e76113c6",
   "metadata": {},
   "outputs": [
    {
     "name": "stdout",
     "output_type": "stream",
     "text": [
      "<class 'pandas.core.frame.DataFrame'>\n",
      "RangeIndex: 130 entries, 0 to 129\n",
      "Data columns (total 4 columns):\n",
      " #   Column             Non-Null Count  Dtype\n",
      "---  ------             --------------  -----\n",
      " 0   Year               130 non-null    int64\n",
      " 1   Month_Ireland      130 non-null    int32\n",
      " 2   Value_Ireland      130 non-null    int64\n",
      " 3   Luas Type_Encoded  130 non-null    int32\n",
      "dtypes: int32(2), int64(2)\n",
      "memory usage: 3.2 KB\n"
     ]
    }
   ],
   "source": [
    "df.info()"
   ]
  },
  {
   "cell_type": "code",
   "execution_count": 28,
   "id": "73434043",
   "metadata": {},
   "outputs": [
    {
     "name": "stdout",
     "output_type": "stream",
     "text": [
      "<class 'pandas.core.frame.DataFrame'>\n",
      "Int64Index: 65 entries, 130 to 194\n",
      "Data columns (total 4 columns):\n",
      " #   Column             Non-Null Count  Dtype\n",
      "---  ------             --------------  -----\n",
      " 0   Year               65 non-null     int64\n",
      " 1   Month_Ireland      65 non-null     int32\n",
      " 2   Value_Ireland      65 non-null     int64\n",
      " 3   Luas Type_Encoded  65 non-null     int32\n",
      "dtypes: int32(2), int64(2)\n",
      "memory usage: 2.0 KB\n"
     ]
    }
   ],
   "source": [
    "df_1.info()"
   ]
  },
  {
   "cell_type": "code",
   "execution_count": 29,
   "id": "661cf138",
   "metadata": {},
   "outputs": [
    {
     "data": {
      "text/plain": [
       "(130, 4)"
      ]
     },
     "execution_count": 29,
     "metadata": {},
     "output_type": "execute_result"
    }
   ],
   "source": [
    "df.shape"
   ]
  },
  {
   "cell_type": "code",
   "execution_count": 30,
   "id": "a137bda7",
   "metadata": {},
   "outputs": [
    {
     "data": {
      "text/plain": [
       "(65, 4)"
      ]
     },
     "execution_count": 30,
     "metadata": {},
     "output_type": "execute_result"
    }
   ],
   "source": [
    "df_1.shape"
   ]
  },
  {
   "cell_type": "code",
   "execution_count": 31,
   "id": "528502e7",
   "metadata": {},
   "outputs": [],
   "source": [
    "missing_values = ['/',' ','-','--','na','Na','n/a','NA','n.a.','?','nan','Nan','nul','Nul','null','Null']\n",
    "\n",
    "df1=pd.read_csv(\"Turkey_Rail_Passenger_Number.csv\", encoding = 'latin-1' ,na_values=missing_values )\n"
   ]
  },
  {
   "cell_type": "code",
   "execution_count": 32,
   "id": "67a90d98",
   "metadata": {},
   "outputs": [
    {
     "data": {
      "text/plain": [
       "passage_cnt              0\n",
       "passanger_cnt            0\n",
       "transaction_year         0\n",
       "transaction_month        0\n",
       "transaction_day          0\n",
       "line                     0\n",
       "station_name          3657\n",
       "station_number        3657\n",
       "town                 51100\n",
       "age                      0\n",
       "longitude            85345\n",
       "latitude             85345\n",
       "dtype: int64"
      ]
     },
     "execution_count": 32,
     "metadata": {},
     "output_type": "execute_result"
    }
   ],
   "source": [
    "df1.isnull().sum()"
   ]
  },
  {
   "cell_type": "code",
   "execution_count": 33,
   "id": "177c1753",
   "metadata": {},
   "outputs": [
    {
     "data": {
      "text/plain": [
       "Index(['passage_cnt', 'passanger_cnt', 'transaction_year', 'transaction_month',\n",
       "       'transaction_day', 'line', 'station_name', 'station_number', 'town',\n",
       "       'age', 'longitude', 'latitude'],\n",
       "      dtype='object')"
      ]
     },
     "execution_count": 33,
     "metadata": {},
     "output_type": "execute_result"
    }
   ],
   "source": [
    "df1.columns"
   ]
  },
  {
   "cell_type": "code",
   "execution_count": 34,
   "id": "5f7d911e",
   "metadata": {},
   "outputs": [
    {
     "data": {
      "text/html": [
       "<div>\n",
       "<style scoped>\n",
       "    .dataframe tbody tr th:only-of-type {\n",
       "        vertical-align: middle;\n",
       "    }\n",
       "\n",
       "    .dataframe tbody tr th {\n",
       "        vertical-align: top;\n",
       "    }\n",
       "\n",
       "    .dataframe thead th {\n",
       "        text-align: right;\n",
       "    }\n",
       "</style>\n",
       "<table border=\"1\" class=\"dataframe\">\n",
       "  <thead>\n",
       "    <tr style=\"text-align: right;\">\n",
       "      <th></th>\n",
       "      <th>passage_cnt</th>\n",
       "      <th>passanger_cnt</th>\n",
       "      <th>transaction_year</th>\n",
       "      <th>transaction_month</th>\n",
       "      <th>transaction_day</th>\n",
       "      <th>line</th>\n",
       "      <th>station_name</th>\n",
       "      <th>station_number</th>\n",
       "      <th>town</th>\n",
       "      <th>age</th>\n",
       "      <th>longitude</th>\n",
       "      <th>latitude</th>\n",
       "    </tr>\n",
       "  </thead>\n",
       "  <tbody>\n",
       "    <tr>\n",
       "      <th>0</th>\n",
       "      <td>1687</td>\n",
       "      <td>1656</td>\n",
       "      <td>2022</td>\n",
       "      <td>1</td>\n",
       "      <td>1</td>\n",
       "      <td>F1-TAKSIM-KABATAS FUNIKILER HATTI</td>\n",
       "      <td>TAKSIM</td>\n",
       "      <td>TAK-KBT</td>\n",
       "      <td>Beyoðlu</td>\n",
       "      <td>20-30</td>\n",
       "      <td>28.986444</td>\n",
       "      <td>41.036750</td>\n",
       "    </tr>\n",
       "    <tr>\n",
       "      <th>1</th>\n",
       "      <td>2520</td>\n",
       "      <td>2469</td>\n",
       "      <td>2022</td>\n",
       "      <td>1</td>\n",
       "      <td>1</td>\n",
       "      <td>F1-TAKSIM-KABATAS FUNIKILER HATTI</td>\n",
       "      <td>KABATAS</td>\n",
       "      <td>KTS-TKS</td>\n",
       "      <td>Beyoðlu</td>\n",
       "      <td>20-30</td>\n",
       "      <td>28.992028</td>\n",
       "      <td>41.034056</td>\n",
       "    </tr>\n",
       "    <tr>\n",
       "      <th>2</th>\n",
       "      <td>2157</td>\n",
       "      <td>2119</td>\n",
       "      <td>2022</td>\n",
       "      <td>1</td>\n",
       "      <td>1</td>\n",
       "      <td>F1-TAKSIM-KABATAS FUNIKILER HATTI</td>\n",
       "      <td>TAKSIM</td>\n",
       "      <td>TAK-KBT</td>\n",
       "      <td>Beyoðlu</td>\n",
       "      <td>30-60</td>\n",
       "      <td>28.986444</td>\n",
       "      <td>41.036750</td>\n",
       "    </tr>\n",
       "    <tr>\n",
       "      <th>3</th>\n",
       "      <td>3163</td>\n",
       "      <td>3085</td>\n",
       "      <td>2022</td>\n",
       "      <td>1</td>\n",
       "      <td>1</td>\n",
       "      <td>F1-TAKSIM-KABATAS FUNIKILER HATTI</td>\n",
       "      <td>KABATAS</td>\n",
       "      <td>KTS-TKS</td>\n",
       "      <td>Beyoðlu</td>\n",
       "      <td>30-60</td>\n",
       "      <td>28.992028</td>\n",
       "      <td>41.034056</td>\n",
       "    </tr>\n",
       "    <tr>\n",
       "      <th>4</th>\n",
       "      <td>1041</td>\n",
       "      <td>1006</td>\n",
       "      <td>2022</td>\n",
       "      <td>1</td>\n",
       "      <td>1</td>\n",
       "      <td>F1-TAKSIM-KABATAS FUNIKILER HATTI</td>\n",
       "      <td>KABATAS</td>\n",
       "      <td>KTS-TKS</td>\n",
       "      <td>Beyoðlu</td>\n",
       "      <td>60+</td>\n",
       "      <td>28.992028</td>\n",
       "      <td>41.034056</td>\n",
       "    </tr>\n",
       "  </tbody>\n",
       "</table>\n",
       "</div>"
      ],
      "text/plain": [
       "   passage_cnt  passanger_cnt  transaction_year  transaction_month  \\\n",
       "0         1687           1656              2022                  1   \n",
       "1         2520           2469              2022                  1   \n",
       "2         2157           2119              2022                  1   \n",
       "3         3163           3085              2022                  1   \n",
       "4         1041           1006              2022                  1   \n",
       "\n",
       "   transaction_day                               line station_name  \\\n",
       "0                1  F1-TAKSIM-KABATAS FUNIKILER HATTI       TAKSIM   \n",
       "1                1  F1-TAKSIM-KABATAS FUNIKILER HATTI      KABATAS   \n",
       "2                1  F1-TAKSIM-KABATAS FUNIKILER HATTI       TAKSIM   \n",
       "3                1  F1-TAKSIM-KABATAS FUNIKILER HATTI      KABATAS   \n",
       "4                1  F1-TAKSIM-KABATAS FUNIKILER HATTI      KABATAS   \n",
       "\n",
       "  station_number     town    age  longitude   latitude  \n",
       "0        TAK-KBT  Beyoðlu  20-30  28.986444  41.036750  \n",
       "1        KTS-TKS  Beyoðlu  20-30  28.992028  41.034056  \n",
       "2        TAK-KBT  Beyoðlu  30-60  28.986444  41.036750  \n",
       "3        KTS-TKS  Beyoðlu  30-60  28.992028  41.034056  \n",
       "4        KTS-TKS  Beyoðlu    60+  28.992028  41.034056  "
      ]
     },
     "execution_count": 34,
     "metadata": {},
     "output_type": "execute_result"
    }
   ],
   "source": [
    "df1.head(5)"
   ]
  },
  {
   "cell_type": "code",
   "execution_count": 35,
   "id": "e407d7b4",
   "metadata": {},
   "outputs": [],
   "source": [
    "df1.drop(columns=[\"station_name\", \"passage_cnt\", \"station_number\", \"town\", \"longitude\", \"latitude\", \"line\"], inplace=True)"
   ]
  },
  {
   "cell_type": "code",
   "execution_count": 36,
   "id": "e919bc5b",
   "metadata": {},
   "outputs": [
    {
     "data": {
      "text/html": [
       "<div>\n",
       "<style scoped>\n",
       "    .dataframe tbody tr th:only-of-type {\n",
       "        vertical-align: middle;\n",
       "    }\n",
       "\n",
       "    .dataframe tbody tr th {\n",
       "        vertical-align: top;\n",
       "    }\n",
       "\n",
       "    .dataframe thead th {\n",
       "        text-align: right;\n",
       "    }\n",
       "</style>\n",
       "<table border=\"1\" class=\"dataframe\">\n",
       "  <thead>\n",
       "    <tr style=\"text-align: right;\">\n",
       "      <th></th>\n",
       "      <th>passanger_cnt</th>\n",
       "      <th>transaction_year</th>\n",
       "      <th>transaction_month</th>\n",
       "      <th>transaction_day</th>\n",
       "      <th>age</th>\n",
       "    </tr>\n",
       "  </thead>\n",
       "  <tbody>\n",
       "    <tr>\n",
       "      <th>0</th>\n",
       "      <td>1656</td>\n",
       "      <td>2022</td>\n",
       "      <td>1</td>\n",
       "      <td>1</td>\n",
       "      <td>20-30</td>\n",
       "    </tr>\n",
       "    <tr>\n",
       "      <th>1</th>\n",
       "      <td>2469</td>\n",
       "      <td>2022</td>\n",
       "      <td>1</td>\n",
       "      <td>1</td>\n",
       "      <td>20-30</td>\n",
       "    </tr>\n",
       "  </tbody>\n",
       "</table>\n",
       "</div>"
      ],
      "text/plain": [
       "   passanger_cnt  transaction_year  transaction_month  transaction_day    age\n",
       "0           1656              2022                  1                1  20-30\n",
       "1           2469              2022                  1                1  20-30"
      ]
     },
     "execution_count": 36,
     "metadata": {},
     "output_type": "execute_result"
    }
   ],
   "source": [
    "df1.head(2)"
   ]
  },
  {
   "cell_type": "code",
   "execution_count": 37,
   "id": "ee8c0da8",
   "metadata": {},
   "outputs": [],
   "source": [
    "df1.rename(columns={ 'transaction_year':'Year', 'transaction_month':'Month_Turkey',\n",
    "                    'transaction_day':'Day_Turkey', 'passanger_cnt':'Value_Turkey', 'age': 'Age'}, inplace=True)"
   ]
  },
  {
   "cell_type": "code",
   "execution_count": 38,
   "id": "9b18befe",
   "metadata": {},
   "outputs": [
    {
     "data": {
      "text/plain": [
       "Value_Turkey    0.0\n",
       "Year            0.0\n",
       "Month_Turkey    0.0\n",
       "Day_Turkey      0.0\n",
       "Age             0.0\n",
       "dtype: float64"
      ]
     },
     "execution_count": 38,
     "metadata": {},
     "output_type": "execute_result"
    }
   ],
   "source": [
    "df1.isnull().sum() / len(df) * 100"
   ]
  },
  {
   "cell_type": "code",
   "execution_count": 39,
   "id": "4f997be1",
   "metadata": {},
   "outputs": [],
   "source": [
    "df1[\"Age_Encoded\"] =l_encoder.fit_transform(df1[\"Age\"])"
   ]
  },
  {
   "cell_type": "code",
   "execution_count": 40,
   "id": "4f9881ff",
   "metadata": {},
   "outputs": [
    {
     "data": {
      "text/html": [
       "<div>\n",
       "<style scoped>\n",
       "    .dataframe tbody tr th:only-of-type {\n",
       "        vertical-align: middle;\n",
       "    }\n",
       "\n",
       "    .dataframe tbody tr th {\n",
       "        vertical-align: top;\n",
       "    }\n",
       "\n",
       "    .dataframe thead th {\n",
       "        text-align: right;\n",
       "    }\n",
       "</style>\n",
       "<table border=\"1\" class=\"dataframe\">\n",
       "  <thead>\n",
       "    <tr style=\"text-align: right;\">\n",
       "      <th></th>\n",
       "      <th>Value_Turkey</th>\n",
       "      <th>Year</th>\n",
       "      <th>Month_Turkey</th>\n",
       "      <th>Day_Turkey</th>\n",
       "      <th>Age</th>\n",
       "      <th>Age_Encoded</th>\n",
       "    </tr>\n",
       "  </thead>\n",
       "  <tbody>\n",
       "    <tr>\n",
       "      <th>0</th>\n",
       "      <td>1656</td>\n",
       "      <td>2022</td>\n",
       "      <td>1</td>\n",
       "      <td>1</td>\n",
       "      <td>20-30</td>\n",
       "      <td>0</td>\n",
       "    </tr>\n",
       "    <tr>\n",
       "      <th>1</th>\n",
       "      <td>2469</td>\n",
       "      <td>2022</td>\n",
       "      <td>1</td>\n",
       "      <td>1</td>\n",
       "      <td>20-30</td>\n",
       "      <td>0</td>\n",
       "    </tr>\n",
       "  </tbody>\n",
       "</table>\n",
       "</div>"
      ],
      "text/plain": [
       "   Value_Turkey  Year  Month_Turkey  Day_Turkey    Age  Age_Encoded\n",
       "0          1656  2022             1           1  20-30            0\n",
       "1          2469  2022             1           1  20-30            0"
      ]
     },
     "execution_count": 40,
     "metadata": {},
     "output_type": "execute_result"
    }
   ],
   "source": [
    "df1.head(2)"
   ]
  },
  {
   "cell_type": "code",
   "execution_count": 41,
   "id": "f0a45978",
   "metadata": {},
   "outputs": [],
   "source": [
    "df1.drop(columns=[\"Age\"], inplace=True)"
   ]
  },
  {
   "cell_type": "code",
   "execution_count": 42,
   "id": "c1e9fef3",
   "metadata": {},
   "outputs": [
    {
     "data": {
      "text/html": [
       "<div>\n",
       "<style scoped>\n",
       "    .dataframe tbody tr th:only-of-type {\n",
       "        vertical-align: middle;\n",
       "    }\n",
       "\n",
       "    .dataframe tbody tr th {\n",
       "        vertical-align: top;\n",
       "    }\n",
       "\n",
       "    .dataframe thead th {\n",
       "        text-align: right;\n",
       "    }\n",
       "</style>\n",
       "<table border=\"1\" class=\"dataframe\">\n",
       "  <thead>\n",
       "    <tr style=\"text-align: right;\">\n",
       "      <th></th>\n",
       "      <th>Value_Turkey</th>\n",
       "      <th>Year</th>\n",
       "      <th>Month_Turkey</th>\n",
       "      <th>Day_Turkey</th>\n",
       "      <th>Age_Encoded</th>\n",
       "    </tr>\n",
       "  </thead>\n",
       "  <tbody>\n",
       "    <tr>\n",
       "      <th>0</th>\n",
       "      <td>1656</td>\n",
       "      <td>2022</td>\n",
       "      <td>1</td>\n",
       "      <td>1</td>\n",
       "      <td>0</td>\n",
       "    </tr>\n",
       "    <tr>\n",
       "      <th>1</th>\n",
       "      <td>2469</td>\n",
       "      <td>2022</td>\n",
       "      <td>1</td>\n",
       "      <td>1</td>\n",
       "      <td>0</td>\n",
       "    </tr>\n",
       "  </tbody>\n",
       "</table>\n",
       "</div>"
      ],
      "text/plain": [
       "   Value_Turkey  Year  Month_Turkey  Day_Turkey  Age_Encoded\n",
       "0          1656  2022             1           1            0\n",
       "1          2469  2022             1           1            0"
      ]
     },
     "execution_count": 42,
     "metadata": {},
     "output_type": "execute_result"
    }
   ],
   "source": [
    "df1.head(2)"
   ]
  },
  {
   "cell_type": "code",
   "execution_count": 43,
   "id": "0791a3c1",
   "metadata": {},
   "outputs": [
    {
     "name": "stdout",
     "output_type": "stream",
     "text": [
      "     Year  Month_Ireland  Value_Ireland  Luas Type_Encoded\n",
      "52   2022              1         969269                  1\n",
      "53   2022              2        1175851                  1\n",
      "54   2022              3        1412504                  1\n",
      "55   2022              4        1462424                  1\n",
      "56   2022              5        1604768                  1\n",
      "57   2022              6        1720853                  1\n",
      "58   2022              7        1712030                  1\n",
      "59   2022              8        1744936                  1\n",
      "60   2022              9        1981078                  1\n",
      "61   2022             10        2155385                  1\n",
      "62   2022             11        2277974                  1\n",
      "63   2022             12        2058002                  1\n",
      "64   2022              0       20275074                  1\n",
      "117  2022              1         841008                  0\n",
      "118  2022              2        1056223                  0\n",
      "119  2022              3        1265085                  0\n",
      "120  2022              4        1256819                  0\n",
      "121  2022              5        1447252                  0\n",
      "122  2022              6        1464477                  0\n",
      "123  2022              7        1550461                  0\n",
      "124  2022              8        1547295                  0\n",
      "125  2022              9        1830015                  0\n",
      "126  2022             10        2063739                  0\n",
      "127  2022             11        2097731                  0\n",
      "128  2022             12        1972696                  0\n",
      "129  2022              0       18392801                  0\n"
     ]
    }
   ],
   "source": [
    "df_2022 = df[df['Year'] == 2022]\n",
    "\n",
    "print(df_2022)"
   ]
  },
  {
   "cell_type": "code",
   "execution_count": 44,
   "id": "15231fc0",
   "metadata": {},
   "outputs": [
    {
     "name": "stdout",
     "output_type": "stream",
     "text": [
      "          Year  Month_Ireland  Value_Ireland  Luas Type_Encoded  Value_Turkey  \\\n",
      "0         2022              1         969269                  1          1656   \n",
      "1         2022              1         969269                  1          2469   \n",
      "2         2022              1         969269                  1          2119   \n",
      "3         2022              1         969269                  1          3085   \n",
      "4         2022              1         969269                  1          1006   \n",
      "...        ...            ...            ...                ...           ...   \n",
      "13549791  2022              0       18392801                  0           316   \n",
      "13549792  2022              0       18392801                  0           116   \n",
      "13549793  2022              0       18392801                  0           130   \n",
      "13549794  2022              0       18392801                  0            92   \n",
      "13549795  2022              0       18392801                  0            98   \n",
      "\n",
      "          Month_Turkey  Day_Turkey  Age_Encoded  \n",
      "0                    1           1            0  \n",
      "1                    1           1            0  \n",
      "2                    1           1            1  \n",
      "3                    1           1            1  \n",
      "4                    1           1            2  \n",
      "...                ...         ...          ...  \n",
      "13549791            12          31            2  \n",
      "13549792            12          31            3  \n",
      "13549793            12          31            3  \n",
      "13549794            12          31            4  \n",
      "13549795            12          31            4  \n",
      "\n",
      "[13549796 rows x 8 columns]\n"
     ]
    }
   ],
   "source": [
    "merged_df = pd.merge(df_2022, df1, on='Year', how='outer')\n",
    "\n",
    "print(merged_df)"
   ]
  },
  {
   "cell_type": "code",
   "execution_count": 45,
   "id": "906ca1c7",
   "metadata": {},
   "outputs": [
    {
     "data": {
      "text/html": [
       "<div>\n",
       "<style scoped>\n",
       "    .dataframe tbody tr th:only-of-type {\n",
       "        vertical-align: middle;\n",
       "    }\n",
       "\n",
       "    .dataframe tbody tr th {\n",
       "        vertical-align: top;\n",
       "    }\n",
       "\n",
       "    .dataframe thead th {\n",
       "        text-align: right;\n",
       "    }\n",
       "</style>\n",
       "<table border=\"1\" class=\"dataframe\">\n",
       "  <thead>\n",
       "    <tr style=\"text-align: right;\">\n",
       "      <th></th>\n",
       "      <th>Year</th>\n",
       "      <th>Month_Ireland</th>\n",
       "      <th>Value_Ireland</th>\n",
       "      <th>Luas Type_Encoded</th>\n",
       "      <th>Value_Turkey</th>\n",
       "      <th>Month_Turkey</th>\n",
       "      <th>Day_Turkey</th>\n",
       "      <th>Age_Encoded</th>\n",
       "    </tr>\n",
       "  </thead>\n",
       "  <tbody>\n",
       "    <tr>\n",
       "      <th>0</th>\n",
       "      <td>2022</td>\n",
       "      <td>1</td>\n",
       "      <td>969269</td>\n",
       "      <td>1</td>\n",
       "      <td>1656</td>\n",
       "      <td>1</td>\n",
       "      <td>1</td>\n",
       "      <td>0</td>\n",
       "    </tr>\n",
       "    <tr>\n",
       "      <th>1</th>\n",
       "      <td>2022</td>\n",
       "      <td>1</td>\n",
       "      <td>969269</td>\n",
       "      <td>1</td>\n",
       "      <td>2469</td>\n",
       "      <td>1</td>\n",
       "      <td>1</td>\n",
       "      <td>0</td>\n",
       "    </tr>\n",
       "    <tr>\n",
       "      <th>2</th>\n",
       "      <td>2022</td>\n",
       "      <td>1</td>\n",
       "      <td>969269</td>\n",
       "      <td>1</td>\n",
       "      <td>2119</td>\n",
       "      <td>1</td>\n",
       "      <td>1</td>\n",
       "      <td>1</td>\n",
       "    </tr>\n",
       "    <tr>\n",
       "      <th>3</th>\n",
       "      <td>2022</td>\n",
       "      <td>1</td>\n",
       "      <td>969269</td>\n",
       "      <td>1</td>\n",
       "      <td>3085</td>\n",
       "      <td>1</td>\n",
       "      <td>1</td>\n",
       "      <td>1</td>\n",
       "    </tr>\n",
       "    <tr>\n",
       "      <th>4</th>\n",
       "      <td>2022</td>\n",
       "      <td>1</td>\n",
       "      <td>969269</td>\n",
       "      <td>1</td>\n",
       "      <td>1006</td>\n",
       "      <td>1</td>\n",
       "      <td>1</td>\n",
       "      <td>2</td>\n",
       "    </tr>\n",
       "  </tbody>\n",
       "</table>\n",
       "</div>"
      ],
      "text/plain": [
       "   Year  Month_Ireland  Value_Ireland  Luas Type_Encoded  Value_Turkey  \\\n",
       "0  2022              1         969269                  1          1656   \n",
       "1  2022              1         969269                  1          2469   \n",
       "2  2022              1         969269                  1          2119   \n",
       "3  2022              1         969269                  1          3085   \n",
       "4  2022              1         969269                  1          1006   \n",
       "\n",
       "   Month_Turkey  Day_Turkey  Age_Encoded  \n",
       "0             1           1            0  \n",
       "1             1           1            0  \n",
       "2             1           1            1  \n",
       "3             1           1            1  \n",
       "4             1           1            2  "
      ]
     },
     "execution_count": 45,
     "metadata": {},
     "output_type": "execute_result"
    }
   ],
   "source": [
    "merged_df.head(5)"
   ]
  },
  {
   "cell_type": "markdown",
   "id": "7b918a72",
   "metadata": {},
   "source": [
    "# Dataset\n",
    "\n",
    "df\n",
    "\n",
    "df_1\n",
    "\n",
    "df1\n",
    "\n",
    "merged_df"
   ]
  },
  {
   "cell_type": "code",
   "execution_count": 46,
   "id": "392e0233",
   "metadata": {},
   "outputs": [],
   "source": [
    "import json\n",
    "import requests"
   ]
  },
  {
   "cell_type": "code",
   "execution_count": 47,
   "id": "568c44dc",
   "metadata": {},
   "outputs": [],
   "source": [
    "url = \"https://data.ibb.gov.tr/tr/datastore/odata3.0/5c2b78fc-3b68-4722-844f-3051c358a13f?$top=5&$format=json\""
   ]
  },
  {
   "cell_type": "code",
   "execution_count": 48,
   "id": "eebed621",
   "metadata": {},
   "outputs": [],
   "source": [
    "res = requests.get(url)"
   ]
  },
  {
   "cell_type": "code",
   "execution_count": 49,
   "id": "b06c3488",
   "metadata": {},
   "outputs": [
    {
     "data": {
      "text/plain": [
       "<Response [200]>"
      ]
     },
     "execution_count": 49,
     "metadata": {},
     "output_type": "execute_result"
    }
   ],
   "source": [
    "res"
   ]
  },
  {
   "cell_type": "code",
   "execution_count": 50,
   "id": "f9e05f06",
   "metadata": {},
   "outputs": [
    {
     "data": {
      "text/plain": [
       "'{\"odata.metadata\": \"FIXME\", \"value\": [{\"_id\":1,\"passage_cnt\":\"9551\",\"passanger_cnt\":\"9027\",\"transaction_year\":\"2022\",\"transaction_month\":\"01\",\"transaction_day\":\"01\",\"line\":\"F1-TAKSIM-KABATAS FUNIKILER HATTI\",\"station_name\":\"KABATAS\",\"station_number\":\"KTS-TKS\",\"town\":\"Beyoðlu\",\"longitude\":\"28.9920277777778\",\"latitude\":\"41.0340555555556\"},{\"_id\":2,\"passage_cnt\":\"6791\",\"passanger_cnt\":\"6418\",\"transaction_year\":\"2022\",\"transaction_month\":\"01\",\"transaction_day\":\"01\",\"line\":\"F1-TAKSIM-KABATAS FUNIKILER HATTI\",\"station_name\":\"TAKSIM\",\"station_number\":\"TAK-KBT\",\"town\":\"Beyoðlu\",\"longitude\":\"28.9864444444444\",\"latitude\":\"41.03675\"},{\"_id\":3,\"passage_cnt\":\"3943\",\"passanger_cnt\":\"3775\",\"transaction_year\":\"2022\",\"transaction_month\":\"01\",\"transaction_day\":\"02\",\"line\":\"F1-TAKSIM-KABATAS FUNIKILER HATTI\",\"station_name\":\"TAKSIM\",\"station_number\":\"TAK-KBT\",\"town\":\"Beyoðlu\",\"longitude\":\"28.9864444444444\",\"latitude\":\"41.03675\"},{\"_id\":4,\"passage_cnt\":\"5133\",\"passanger_cnt\":\"4972\",\"transaction_year\":\"2022\",\"transaction_month\":\"01\",\"transaction_day\":\"02\",\"line\":\"F1-TAKSIM-KABATAS FUNIKILER HATTI\",\"station_name\":\"KABATAS\",\"station_number\":\"KTS-TKS\",\"town\":\"Beyoðlu\",\"longitude\":\"28.9920277777778\",\"latitude\":\"41.0340555555556\"},{\"_id\":5,\"passage_cnt\":\"6213\",\"passanger_cnt\":\"6011\",\"transaction_year\":\"2022\",\"transaction_month\":\"01\",\"transaction_day\":\"03\",\"line\":\"F1-TAKSIM-KABATAS FUNIKILER HATTI\",\"station_name\":\"KABATAS\",\"station_number\":\"KTS-TKS\",\"town\":\"Beyoðlu\",\"longitude\":\"28.9920277777778\",\"latitude\":\"41.0340555555556\"}]}'"
      ]
     },
     "execution_count": 50,
     "metadata": {},
     "output_type": "execute_result"
    }
   ],
   "source": [
    "res.text"
   ]
  },
  {
   "cell_type": "code",
   "execution_count": 51,
   "id": "eee870a0",
   "metadata": {},
   "outputs": [
    {
     "data": {
      "text/plain": [
       "'{\"odata.me'"
      ]
     },
     "execution_count": 51,
     "metadata": {},
     "output_type": "execute_result"
    }
   ],
   "source": [
    "res.text[:10]"
   ]
  },
  {
   "cell_type": "code",
   "execution_count": 52,
   "id": "eda37b02",
   "metadata": {},
   "outputs": [],
   "source": [
    "data = json.loads(res.text)"
   ]
  },
  {
   "cell_type": "code",
   "execution_count": 53,
   "id": "7c14bd24",
   "metadata": {},
   "outputs": [
    {
     "data": {
      "text/plain": [
       "'FIXME'"
      ]
     },
     "execution_count": 53,
     "metadata": {},
     "output_type": "execute_result"
    }
   ],
   "source": [
    "data[\"odata.metadata\"]"
   ]
  },
  {
   "cell_type": "code",
   "execution_count": 54,
   "id": "de051af7",
   "metadata": {},
   "outputs": [
    {
     "data": {
      "text/plain": [
       "dict"
      ]
     },
     "execution_count": 54,
     "metadata": {},
     "output_type": "execute_result"
    }
   ],
   "source": [
    "type(data)"
   ]
  },
  {
   "cell_type": "code",
   "execution_count": 55,
   "id": "aad3effe",
   "metadata": {},
   "outputs": [],
   "source": [
    "json_data = json.dumps(data)"
   ]
  },
  {
   "cell_type": "code",
   "execution_count": 56,
   "id": "c4cac7d0",
   "metadata": {},
   "outputs": [
    {
     "data": {
      "text/plain": [
       "'{\"odata.metadata\": \"FIXME\", \"value\": [{\"_id\": 1, \"passage_cnt\": \"9551\", \"passanger_cnt\": \"9027\", \"transaction_year\": \"2022\", \"transaction_month\": \"01\", \"transaction_day\": \"01\", \"line\": \"F1-TAKSIM-KABATAS FUNIKILER HATTI\", \"station_name\": \"KABATAS\", \"station_number\": \"KTS-TKS\", \"town\": \"Beyo\\\\u00f0lu\", \"longitude\": \"28.9920277777778\", \"latitude\": \"41.0340555555556\"}, {\"_id\": 2, \"passage_cnt\": \"6791\", \"passanger_cnt\": \"6418\", \"transaction_year\": \"2022\", \"transaction_month\": \"01\", \"transaction_day\": \"01\", \"line\": \"F1-TAKSIM-KABATAS FUNIKILER HATTI\", \"station_name\": \"TAKSIM\", \"station_number\": \"TAK-KBT\", \"town\": \"Beyo\\\\u00f0lu\", \"longitude\": \"28.9864444444444\", \"latitude\": \"41.03675\"}, {\"_id\": 3, \"passage_cnt\": \"3943\", \"passanger_cnt\": \"3775\", \"transaction_year\": \"2022\", \"transaction_month\": \"01\", \"transaction_day\": \"02\", \"line\": \"F1-TAKSIM-KABATAS FUNIKILER HATTI\", \"station_name\": \"TAKSIM\", \"station_number\": \"TAK-KBT\", \"town\": \"Beyo\\\\u00f0lu\", \"longitude\": \"28.9864444444444\", \"latitude\": \"41.03675\"}, {\"_id\": 4, \"passage_cnt\": \"5133\", \"passanger_cnt\": \"4972\", \"transaction_year\": \"2022\", \"transaction_month\": \"01\", \"transaction_day\": \"02\", \"line\": \"F1-TAKSIM-KABATAS FUNIKILER HATTI\", \"station_name\": \"KABATAS\", \"station_number\": \"KTS-TKS\", \"town\": \"Beyo\\\\u00f0lu\", \"longitude\": \"28.9920277777778\", \"latitude\": \"41.0340555555556\"}, {\"_id\": 5, \"passage_cnt\": \"6213\", \"passanger_cnt\": \"6011\", \"transaction_year\": \"2022\", \"transaction_month\": \"01\", \"transaction_day\": \"03\", \"line\": \"F1-TAKSIM-KABATAS FUNIKILER HATTI\", \"station_name\": \"KABATAS\", \"station_number\": \"KTS-TKS\", \"town\": \"Beyo\\\\u00f0lu\", \"longitude\": \"28.9920277777778\", \"latitude\": \"41.0340555555556\"}]}'"
      ]
     },
     "execution_count": 56,
     "metadata": {},
     "output_type": "execute_result"
    }
   ],
   "source": [
    "json_data"
   ]
  },
  {
   "cell_type": "code",
   "execution_count": 57,
   "id": "0e31cbdf",
   "metadata": {},
   "outputs": [
    {
     "data": {
      "text/html": [
       "<div>\n",
       "<style scoped>\n",
       "    .dataframe tbody tr th:only-of-type {\n",
       "        vertical-align: middle;\n",
       "    }\n",
       "\n",
       "    .dataframe tbody tr th {\n",
       "        vertical-align: top;\n",
       "    }\n",
       "\n",
       "    .dataframe thead th {\n",
       "        text-align: right;\n",
       "    }\n",
       "</style>\n",
       "<table border=\"1\" class=\"dataframe\">\n",
       "  <thead>\n",
       "    <tr style=\"text-align: right;\">\n",
       "      <th></th>\n",
       "      <th>Value_Turkey</th>\n",
       "      <th>Year</th>\n",
       "      <th>Month_Turkey</th>\n",
       "      <th>Day_Turkey</th>\n",
       "      <th>Age_Encoded</th>\n",
       "    </tr>\n",
       "  </thead>\n",
       "  <tbody>\n",
       "    <tr>\n",
       "      <th>0</th>\n",
       "      <td>1656</td>\n",
       "      <td>2022</td>\n",
       "      <td>1</td>\n",
       "      <td>1</td>\n",
       "      <td>0</td>\n",
       "    </tr>\n",
       "    <tr>\n",
       "      <th>1</th>\n",
       "      <td>2469</td>\n",
       "      <td>2022</td>\n",
       "      <td>1</td>\n",
       "      <td>1</td>\n",
       "      <td>0</td>\n",
       "    </tr>\n",
       "    <tr>\n",
       "      <th>2</th>\n",
       "      <td>2119</td>\n",
       "      <td>2022</td>\n",
       "      <td>1</td>\n",
       "      <td>1</td>\n",
       "      <td>1</td>\n",
       "    </tr>\n",
       "    <tr>\n",
       "      <th>3</th>\n",
       "      <td>3085</td>\n",
       "      <td>2022</td>\n",
       "      <td>1</td>\n",
       "      <td>1</td>\n",
       "      <td>1</td>\n",
       "    </tr>\n",
       "    <tr>\n",
       "      <th>4</th>\n",
       "      <td>1006</td>\n",
       "      <td>2022</td>\n",
       "      <td>1</td>\n",
       "      <td>1</td>\n",
       "      <td>2</td>\n",
       "    </tr>\n",
       "  </tbody>\n",
       "</table>\n",
       "</div>"
      ],
      "text/plain": [
       "   Value_Turkey  Year  Month_Turkey  Day_Turkey  Age_Encoded\n",
       "0          1656  2022             1           1            0\n",
       "1          2469  2022             1           1            0\n",
       "2          2119  2022             1           1            1\n",
       "3          3085  2022             1           1            1\n",
       "4          1006  2022             1           1            2"
      ]
     },
     "execution_count": 57,
     "metadata": {},
     "output_type": "execute_result"
    }
   ],
   "source": [
    "df1.head(5)"
   ]
  },
  {
   "cell_type": "code",
   "execution_count": 58,
   "id": "77947f2d",
   "metadata": {},
   "outputs": [
    {
     "data": {
      "text/html": [
       "<div>\n",
       "<style scoped>\n",
       "    .dataframe tbody tr th:only-of-type {\n",
       "        vertical-align: middle;\n",
       "    }\n",
       "\n",
       "    .dataframe tbody tr th {\n",
       "        vertical-align: top;\n",
       "    }\n",
       "\n",
       "    .dataframe thead th {\n",
       "        text-align: right;\n",
       "    }\n",
       "</style>\n",
       "<table border=\"1\" class=\"dataframe\">\n",
       "  <thead>\n",
       "    <tr style=\"text-align: right;\">\n",
       "      <th></th>\n",
       "      <th>count</th>\n",
       "      <th>mean</th>\n",
       "      <th>std</th>\n",
       "      <th>min</th>\n",
       "      <th>25%</th>\n",
       "      <th>50%</th>\n",
       "      <th>75%</th>\n",
       "      <th>max</th>\n",
       "    </tr>\n",
       "  </thead>\n",
       "  <tbody>\n",
       "    <tr>\n",
       "      <th>Year</th>\n",
       "      <td>130.0</td>\n",
       "      <td>2.020000e+03</td>\n",
       "      <td>1.419684e+00</td>\n",
       "      <td>2018.0</td>\n",
       "      <td>2019.0</td>\n",
       "      <td>2020.0</td>\n",
       "      <td>2021.0</td>\n",
       "      <td>2022.0</td>\n",
       "    </tr>\n",
       "    <tr>\n",
       "      <th>Month_Ireland</th>\n",
       "      <td>130.0</td>\n",
       "      <td>6.000000e+00</td>\n",
       "      <td>3.756132e+00</td>\n",
       "      <td>0.0</td>\n",
       "      <td>3.0</td>\n",
       "      <td>6.0</td>\n",
       "      <td>9.0</td>\n",
       "      <td>12.0</td>\n",
       "    </tr>\n",
       "    <tr>\n",
       "      <th>Value_Ireland</th>\n",
       "      <td>130.0</td>\n",
       "      <td>2.577068e+06</td>\n",
       "      <td>4.475703e+06</td>\n",
       "      <td>89358.0</td>\n",
       "      <td>918446.5</td>\n",
       "      <td>1659330.0</td>\n",
       "      <td>1971977.0</td>\n",
       "      <td>24301487.0</td>\n",
       "    </tr>\n",
       "    <tr>\n",
       "      <th>Luas Type_Encoded</th>\n",
       "      <td>130.0</td>\n",
       "      <td>5.000000e-01</td>\n",
       "      <td>5.019342e-01</td>\n",
       "      <td>0.0</td>\n",
       "      <td>0.0</td>\n",
       "      <td>0.5</td>\n",
       "      <td>1.0</td>\n",
       "      <td>1.0</td>\n",
       "    </tr>\n",
       "  </tbody>\n",
       "</table>\n",
       "</div>"
      ],
      "text/plain": [
       "                   count          mean           std      min       25%  \\\n",
       "Year               130.0  2.020000e+03  1.419684e+00   2018.0    2019.0   \n",
       "Month_Ireland      130.0  6.000000e+00  3.756132e+00      0.0       3.0   \n",
       "Value_Ireland      130.0  2.577068e+06  4.475703e+06  89358.0  918446.5   \n",
       "Luas Type_Encoded  130.0  5.000000e-01  5.019342e-01      0.0       0.0   \n",
       "\n",
       "                         50%        75%         max  \n",
       "Year                  2020.0     2021.0      2022.0  \n",
       "Month_Ireland            6.0        9.0        12.0  \n",
       "Value_Ireland      1659330.0  1971977.0  24301487.0  \n",
       "Luas Type_Encoded        0.5        1.0         1.0  "
      ]
     },
     "execution_count": 58,
     "metadata": {},
     "output_type": "execute_result"
    }
   ],
   "source": [
    "df.describe().T"
   ]
  },
  {
   "cell_type": "code",
   "execution_count": 59,
   "id": "3d0dae00",
   "metadata": {},
   "outputs": [
    {
     "data": {
      "text/html": [
       "<div>\n",
       "<style scoped>\n",
       "    .dataframe tbody tr th:only-of-type {\n",
       "        vertical-align: middle;\n",
       "    }\n",
       "\n",
       "    .dataframe tbody tr th {\n",
       "        vertical-align: top;\n",
       "    }\n",
       "\n",
       "    .dataframe thead th {\n",
       "        text-align: right;\n",
       "    }\n",
       "</style>\n",
       "<table border=\"1\" class=\"dataframe\">\n",
       "  <thead>\n",
       "    <tr style=\"text-align: right;\">\n",
       "      <th></th>\n",
       "      <th>Year</th>\n",
       "      <th>Month_Ireland</th>\n",
       "      <th>Value_Ireland</th>\n",
       "      <th>Luas Type_Encoded</th>\n",
       "    </tr>\n",
       "  </thead>\n",
       "  <tbody>\n",
       "    <tr>\n",
       "      <th>Year</th>\n",
       "      <td>1.000000e+00</td>\n",
       "      <td>2.677077e-14</td>\n",
       "      <td>-0.085897</td>\n",
       "      <td>-2.032376e-13</td>\n",
       "    </tr>\n",
       "    <tr>\n",
       "      <th>Month_Ireland</th>\n",
       "      <td>2.677077e-14</td>\n",
       "      <td>1.000000e+00</td>\n",
       "      <td>-0.399044</td>\n",
       "      <td>-3.670193e-16</td>\n",
       "    </tr>\n",
       "    <tr>\n",
       "      <th>Value_Ireland</th>\n",
       "      <td>-8.589748e-02</td>\n",
       "      <td>-3.990436e-01</td>\n",
       "      <td>1.000000</td>\n",
       "      <td>1.498168e-02</td>\n",
       "    </tr>\n",
       "    <tr>\n",
       "      <th>Luas Type_Encoded</th>\n",
       "      <td>-2.032376e-13</td>\n",
       "      <td>-3.670193e-16</td>\n",
       "      <td>0.014982</td>\n",
       "      <td>1.000000e+00</td>\n",
       "    </tr>\n",
       "  </tbody>\n",
       "</table>\n",
       "</div>"
      ],
      "text/plain": [
       "                           Year  Month_Ireland  Value_Ireland  \\\n",
       "Year               1.000000e+00   2.677077e-14      -0.085897   \n",
       "Month_Ireland      2.677077e-14   1.000000e+00      -0.399044   \n",
       "Value_Ireland     -8.589748e-02  -3.990436e-01       1.000000   \n",
       "Luas Type_Encoded -2.032376e-13  -3.670193e-16       0.014982   \n",
       "\n",
       "                   Luas Type_Encoded  \n",
       "Year                   -2.032376e-13  \n",
       "Month_Ireland          -3.670193e-16  \n",
       "Value_Ireland           1.498168e-02  \n",
       "Luas Type_Encoded       1.000000e+00  "
      ]
     },
     "execution_count": 59,
     "metadata": {},
     "output_type": "execute_result"
    }
   ],
   "source": [
    "df.corr()"
   ]
  },
  {
   "cell_type": "code",
   "execution_count": 60,
   "id": "e882883f",
   "metadata": {},
   "outputs": [],
   "source": [
    "years = df.loc[df['Year'] != 0]"
   ]
  },
  {
   "cell_type": "code",
   "execution_count": 61,
   "id": "3f35c0af",
   "metadata": {},
   "outputs": [
    {
     "data": {
      "image/png": "[encoded data removed]",
      "text/plain": [
       "<Figure size 640x480 with 1 Axes>"
      ]
     },
     "metadata": {},
     "output_type": "display_data"
    }
   ],
   "source": [
    "import matplotlib.ticker as ticker\n",
    "\n",
    "# Apply sns.boxplot to visualise the distribution of completed projects along different years.\n",
    "# Use the 'years' dataframe as the data source and specify 'Completed_Year' as the column to group the data by.\n",
    "\n",
    "sns.boxplot(data=years, x='Year')\n",
    "\n",
    "# Set the title of the box plot using the plt.title() function\n",
    "\n",
    "plt.title('Completed projects in years')\n",
    "\n",
    "# Convert the years in the y-axis to integers for better visualization\n",
    "\n",
    "# Apply the .gca() method to get the current axes and apply the xaxis attribute set the x-axis tick locator to display\n",
    "# integers only\n",
    "\n",
    "plt.gca().xaxis.set_major_locator(ticker.MaxNLocator(integer=True))\n",
    "\n",
    "# Call the plt.show() function to display the box plot\n",
    "\n",
    "plt.show()"
   ]
  },
  {
   "cell_type": "code",
   "execution_count": 62,
   "id": "fdfa7464",
   "metadata": {},
   "outputs": [
    {
     "data": {
      "image/png": "[encoded data removed]",
      "text/plain": [
       "<Figure size 640x480 with 1 Axes>"
      ]
     },
     "metadata": {},
     "output_type": "display_data"
    }
   ],
   "source": [
    "# Plot a scatter plot to visualize the relationship between units and years\n",
    "\n",
    "# Call the plt.scatter() function to create a scatter plot with the 'Units' as x-axis values and 'Completed_Year' as y-axis\n",
    "#values\n",
    "\n",
    "plt.scatter(df[\"Year\"], df[\"Value_Ireland\"])\n",
    "\n",
    "# Name the x axis, the y axis and the plot by applying the the plt.xlabel() function, the plt.ylabel() function, and the\n",
    "# plt.title() function respectively\n",
    "\n",
    "plt.xlabel(\"Passenger\")\n",
    "plt.ylabel(\"Year\")\n",
    "plt.title('Correlation between Passenger and Year')\n",
    "\n",
    "# Apply plt.gca() to get the current axes instance\n",
    "\n",
    "# Use the .yaxis attribute to access the y-axis of the current axes\n",
    "\n",
    "# Use the .set_major_locator() method to set the tick locator for the major ticks on the y-axis\n",
    "\n",
    "# Pass plt.MaxNLocator(integer=True) to the .set_major_locator() method to ensure that the tick locations are integers\n",
    "\n",
    "plt.gca().yaxis.set_major_locator(plt.MaxNLocator(integer=True))\n",
    "\n",
    "# Call plt.show() to display the plot\n",
    "\n",
    "plt.show()"
   ]
  },
  {
   "cell_type": "markdown",
   "id": "d94019fe",
   "metadata": {},
   "source": [
    "From this scatterplot, no relationship is observed between Value_Ireland and Year.Because of this smaller range, it might be classified as an outlier. However, further information would be necessary."
   ]
  },
  {
   "cell_type": "code",
   "execution_count": 63,
   "id": "3a55a66d",
   "metadata": {},
   "outputs": [
    {
     "data": {
      "text/html": [
       "<div>\n",
       "<style scoped>\n",
       "    .dataframe tbody tr th:only-of-type {\n",
       "        vertical-align: middle;\n",
       "    }\n",
       "\n",
       "    .dataframe tbody tr th {\n",
       "        vertical-align: top;\n",
       "    }\n",
       "\n",
       "    .dataframe thead th {\n",
       "        text-align: right;\n",
       "    }\n",
       "</style>\n",
       "<table border=\"1\" class=\"dataframe\">\n",
       "  <thead>\n",
       "    <tr style=\"text-align: right;\">\n",
       "      <th></th>\n",
       "      <th>count</th>\n",
       "      <th>mean</th>\n",
       "      <th>std</th>\n",
       "      <th>min</th>\n",
       "      <th>25%</th>\n",
       "      <th>50%</th>\n",
       "      <th>75%</th>\n",
       "      <th>max</th>\n",
       "    </tr>\n",
       "  </thead>\n",
       "  <tbody>\n",
       "    <tr>\n",
       "      <th>Value_Turkey</th>\n",
       "      <td>521146.0</td>\n",
       "      <td>1709.319465</td>\n",
       "      <td>2283.514409</td>\n",
       "      <td>1.0</td>\n",
       "      <td>384.0</td>\n",
       "      <td>946.0</td>\n",
       "      <td>2103.0</td>\n",
       "      <td>28344.0</td>\n",
       "    </tr>\n",
       "    <tr>\n",
       "      <th>Year</th>\n",
       "      <td>521146.0</td>\n",
       "      <td>2022.000000</td>\n",
       "      <td>0.000000</td>\n",
       "      <td>2022.0</td>\n",
       "      <td>2022.0</td>\n",
       "      <td>2022.0</td>\n",
       "      <td>2022.0</td>\n",
       "      <td>2022.0</td>\n",
       "    </tr>\n",
       "    <tr>\n",
       "      <th>Month_Turkey</th>\n",
       "      <td>521146.0</td>\n",
       "      <td>6.549078</td>\n",
       "      <td>3.450531</td>\n",
       "      <td>1.0</td>\n",
       "      <td>4.0</td>\n",
       "      <td>7.0</td>\n",
       "      <td>10.0</td>\n",
       "      <td>12.0</td>\n",
       "    </tr>\n",
       "    <tr>\n",
       "      <th>Day_Turkey</th>\n",
       "      <td>521146.0</td>\n",
       "      <td>15.725054</td>\n",
       "      <td>8.796256</td>\n",
       "      <td>1.0</td>\n",
       "      <td>8.0</td>\n",
       "      <td>16.0</td>\n",
       "      <td>23.0</td>\n",
       "      <td>31.0</td>\n",
       "    </tr>\n",
       "    <tr>\n",
       "      <th>Age_Encoded</th>\n",
       "      <td>521146.0</td>\n",
       "      <td>2.000048</td>\n",
       "      <td>1.414458</td>\n",
       "      <td>0.0</td>\n",
       "      <td>1.0</td>\n",
       "      <td>2.0</td>\n",
       "      <td>3.0</td>\n",
       "      <td>4.0</td>\n",
       "    </tr>\n",
       "  </tbody>\n",
       "</table>\n",
       "</div>"
      ],
      "text/plain": [
       "                 count         mean          std     min     25%     50%  \\\n",
       "Value_Turkey  521146.0  1709.319465  2283.514409     1.0   384.0   946.0   \n",
       "Year          521146.0  2022.000000     0.000000  2022.0  2022.0  2022.0   \n",
       "Month_Turkey  521146.0     6.549078     3.450531     1.0     4.0     7.0   \n",
       "Day_Turkey    521146.0    15.725054     8.796256     1.0     8.0    16.0   \n",
       "Age_Encoded   521146.0     2.000048     1.414458     0.0     1.0     2.0   \n",
       "\n",
       "                 75%      max  \n",
       "Value_Turkey  2103.0  28344.0  \n",
       "Year          2022.0   2022.0  \n",
       "Month_Turkey    10.0     12.0  \n",
       "Day_Turkey      23.0     31.0  \n",
       "Age_Encoded      3.0      4.0  "
      ]
     },
     "execution_count": 63,
     "metadata": {},
     "output_type": "execute_result"
    }
   ],
   "source": [
    "df1.describe().T"
   ]
  },
  {
   "cell_type": "markdown",
   "id": "62cb039b",
   "metadata": {},
   "source": [
    "# STATISTICS"
   ]
  },
  {
   "cell_type": "code",
   "execution_count": 64,
   "id": "fde09268",
   "metadata": {},
   "outputs": [],
   "source": [
    "from sklearn.model_selection import train_test_split,cross_val_score, GridSearchCV \n",
    "import numpy as np\n",
    "from sklearn import metrics\n",
    "from sklearn.metrics import r2_score\n",
    "from sklearn.preprocessing import StandardScaler\n",
    "from scipy.stats import wilcoxon\n",
    "from scipy.stats import ttest_1samp\n",
    "from scipy.stats import ttest_ind\n",
    "from scipy.stats import f_oneway\n",
    "from scipy.stats import chisquare\n",
    "\n",
    "\n",
    "# Random Forrest  \n",
    "# Decision Tree\n",
    "\n",
    "from sklearn.ensemble import RandomForestRegressor\n",
    "from sklearn import tree\n",
    "from sklearn.tree import DecisionTreeRegressor"
   ]
  },
  {
   "cell_type": "code",
   "execution_count": 65,
   "id": "8135f675",
   "metadata": {},
   "outputs": [
    {
     "data": {
      "text/html": [
       "<div>\n",
       "<style scoped>\n",
       "    .dataframe tbody tr th:only-of-type {\n",
       "        vertical-align: middle;\n",
       "    }\n",
       "\n",
       "    .dataframe tbody tr th {\n",
       "        vertical-align: top;\n",
       "    }\n",
       "\n",
       "    .dataframe thead th {\n",
       "        text-align: right;\n",
       "    }\n",
       "</style>\n",
       "<table border=\"1\" class=\"dataframe\">\n",
       "  <thead>\n",
       "    <tr style=\"text-align: right;\">\n",
       "      <th></th>\n",
       "      <th>count</th>\n",
       "      <th>mean</th>\n",
       "      <th>std</th>\n",
       "      <th>min</th>\n",
       "      <th>25%</th>\n",
       "      <th>50%</th>\n",
       "      <th>75%</th>\n",
       "      <th>max</th>\n",
       "    </tr>\n",
       "  </thead>\n",
       "  <tbody>\n",
       "    <tr>\n",
       "      <th>Year</th>\n",
       "      <td>130.0</td>\n",
       "      <td>2.020000e+03</td>\n",
       "      <td>1.419684e+00</td>\n",
       "      <td>2018.0</td>\n",
       "      <td>2019.0</td>\n",
       "      <td>2020.0</td>\n",
       "      <td>2021.0</td>\n",
       "      <td>2022.0</td>\n",
       "    </tr>\n",
       "    <tr>\n",
       "      <th>Month_Ireland</th>\n",
       "      <td>130.0</td>\n",
       "      <td>6.000000e+00</td>\n",
       "      <td>3.756132e+00</td>\n",
       "      <td>0.0</td>\n",
       "      <td>3.0</td>\n",
       "      <td>6.0</td>\n",
       "      <td>9.0</td>\n",
       "      <td>12.0</td>\n",
       "    </tr>\n",
       "    <tr>\n",
       "      <th>Value_Ireland</th>\n",
       "      <td>130.0</td>\n",
       "      <td>2.577068e+06</td>\n",
       "      <td>4.475703e+06</td>\n",
       "      <td>89358.0</td>\n",
       "      <td>918446.5</td>\n",
       "      <td>1659330.0</td>\n",
       "      <td>1971977.0</td>\n",
       "      <td>24301487.0</td>\n",
       "    </tr>\n",
       "    <tr>\n",
       "      <th>Luas Type_Encoded</th>\n",
       "      <td>130.0</td>\n",
       "      <td>5.000000e-01</td>\n",
       "      <td>5.019342e-01</td>\n",
       "      <td>0.0</td>\n",
       "      <td>0.0</td>\n",
       "      <td>0.5</td>\n",
       "      <td>1.0</td>\n",
       "      <td>1.0</td>\n",
       "    </tr>\n",
       "  </tbody>\n",
       "</table>\n",
       "</div>"
      ],
      "text/plain": [
       "                   count          mean           std      min       25%  \\\n",
       "Year               130.0  2.020000e+03  1.419684e+00   2018.0    2019.0   \n",
       "Month_Ireland      130.0  6.000000e+00  3.756132e+00      0.0       3.0   \n",
       "Value_Ireland      130.0  2.577068e+06  4.475703e+06  89358.0  918446.5   \n",
       "Luas Type_Encoded  130.0  5.000000e-01  5.019342e-01      0.0       0.0   \n",
       "\n",
       "                         50%        75%         max  \n",
       "Year                  2020.0     2021.0      2022.0  \n",
       "Month_Ireland            6.0        9.0        12.0  \n",
       "Value_Ireland      1659330.0  1971977.0  24301487.0  \n",
       "Luas Type_Encoded        0.5        1.0         1.0  "
      ]
     },
     "execution_count": 65,
     "metadata": {},
     "output_type": "execute_result"
    }
   ],
   "source": [
    "df.describe().T"
   ]
  },
  {
   "cell_type": "code",
   "execution_count": 66,
   "id": "9cfa97d5",
   "metadata": {},
   "outputs": [
    {
     "data": {
      "text/html": [
       "<div>\n",
       "<style scoped>\n",
       "    .dataframe tbody tr th:only-of-type {\n",
       "        vertical-align: middle;\n",
       "    }\n",
       "\n",
       "    .dataframe tbody tr th {\n",
       "        vertical-align: top;\n",
       "    }\n",
       "\n",
       "    .dataframe thead th {\n",
       "        text-align: right;\n",
       "    }\n",
       "</style>\n",
       "<table border=\"1\" class=\"dataframe\">\n",
       "  <thead>\n",
       "    <tr style=\"text-align: right;\">\n",
       "      <th></th>\n",
       "      <th>count</th>\n",
       "      <th>mean</th>\n",
       "      <th>std</th>\n",
       "      <th>min</th>\n",
       "      <th>25%</th>\n",
       "      <th>50%</th>\n",
       "      <th>75%</th>\n",
       "      <th>max</th>\n",
       "    </tr>\n",
       "  </thead>\n",
       "  <tbody>\n",
       "    <tr>\n",
       "      <th>Value_Turkey</th>\n",
       "      <td>521146.0</td>\n",
       "      <td>1709.319465</td>\n",
       "      <td>2283.514409</td>\n",
       "      <td>1.0</td>\n",
       "      <td>384.0</td>\n",
       "      <td>946.0</td>\n",
       "      <td>2103.0</td>\n",
       "      <td>28344.0</td>\n",
       "    </tr>\n",
       "    <tr>\n",
       "      <th>Year</th>\n",
       "      <td>521146.0</td>\n",
       "      <td>2022.000000</td>\n",
       "      <td>0.000000</td>\n",
       "      <td>2022.0</td>\n",
       "      <td>2022.0</td>\n",
       "      <td>2022.0</td>\n",
       "      <td>2022.0</td>\n",
       "      <td>2022.0</td>\n",
       "    </tr>\n",
       "    <tr>\n",
       "      <th>Month_Turkey</th>\n",
       "      <td>521146.0</td>\n",
       "      <td>6.549078</td>\n",
       "      <td>3.450531</td>\n",
       "      <td>1.0</td>\n",
       "      <td>4.0</td>\n",
       "      <td>7.0</td>\n",
       "      <td>10.0</td>\n",
       "      <td>12.0</td>\n",
       "    </tr>\n",
       "    <tr>\n",
       "      <th>Day_Turkey</th>\n",
       "      <td>521146.0</td>\n",
       "      <td>15.725054</td>\n",
       "      <td>8.796256</td>\n",
       "      <td>1.0</td>\n",
       "      <td>8.0</td>\n",
       "      <td>16.0</td>\n",
       "      <td>23.0</td>\n",
       "      <td>31.0</td>\n",
       "    </tr>\n",
       "    <tr>\n",
       "      <th>Age_Encoded</th>\n",
       "      <td>521146.0</td>\n",
       "      <td>2.000048</td>\n",
       "      <td>1.414458</td>\n",
       "      <td>0.0</td>\n",
       "      <td>1.0</td>\n",
       "      <td>2.0</td>\n",
       "      <td>3.0</td>\n",
       "      <td>4.0</td>\n",
       "    </tr>\n",
       "  </tbody>\n",
       "</table>\n",
       "</div>"
      ],
      "text/plain": [
       "                 count         mean          std     min     25%     50%  \\\n",
       "Value_Turkey  521146.0  1709.319465  2283.514409     1.0   384.0   946.0   \n",
       "Year          521146.0  2022.000000     0.000000  2022.0  2022.0  2022.0   \n",
       "Month_Turkey  521146.0     6.549078     3.450531     1.0     4.0     7.0   \n",
       "Day_Turkey    521146.0    15.725054     8.796256     1.0     8.0    16.0   \n",
       "Age_Encoded   521146.0     2.000048     1.414458     0.0     1.0     2.0   \n",
       "\n",
       "                 75%      max  \n",
       "Value_Turkey  2103.0  28344.0  \n",
       "Year          2022.0   2022.0  \n",
       "Month_Turkey    10.0     12.0  \n",
       "Day_Turkey      23.0     31.0  \n",
       "Age_Encoded      3.0      4.0  "
      ]
     },
     "execution_count": 66,
     "metadata": {},
     "output_type": "execute_result"
    }
   ],
   "source": [
    "df1.describe().T"
   ]
  },
  {
   "cell_type": "code",
   "execution_count": 67,
   "id": "7e3a83f6",
   "metadata": {},
   "outputs": [
    {
     "name": "stdout",
     "output_type": "stream",
     "text": [
      "Statistics=0.000, p=0.000\n",
      "There is significant difference between median values (H0 can be rejected)\n"
     ]
    }
   ],
   "source": [
    "data1 = df[\"Value_Ireland\"].sample(n=100)\n",
    "data2 = df1[\"Value_Turkey\"].sample(n=100)\n",
    "\n",
    "stat, p = wilcoxon(data1, data2)\n",
    "print(\"Statistics=%.3f, p=%.3f\" % (stat, p))\n",
    "alpha = 0.05\n",
    "if p > alpha:\n",
    "    print(\"No significant difference between median values ​​(H0 cannot be rejected)\")\n",
    "else:\n",
    "    print(\"There is significant difference between median values (H0 can be rejected)\")"
   ]
  },
  {
   "cell_type": "code",
   "execution_count": 68,
   "id": "431e3c93",
   "metadata": {},
   "outputs": [
    {
     "name": "stdout",
     "output_type": "stream",
     "text": [
      "Statistics=6.045, p=0.000\n",
      "The mean of the dataset does not equal 0.8 (H0 is rejected)\n",
      "Statistics=-678.979, p=0.000\n",
      "The mean of the dataset does not equal 0.8 (H0 is rejected)\n"
     ]
    }
   ],
   "source": [
    "#One-sample hypothesis tests\n",
    "\n",
    "stat, p = ttest_1samp(data1, 119052)\n",
    "\n",
    "# test resul\n",
    "print(\"Statistics=%.3f, p=%.3f\" % (stat, p))\n",
    "\n",
    "# assessing the p-value\n",
    "alpha = 0.05\n",
    "if p > alpha:\n",
    "    print(\"The mean of the dataset is equal to 0.8 (H0 cannot be rejected)\")\n",
    "else:\n",
    "    print(\"The mean of the dataset does not equal 0.8 (H0 is rejected)\")\n",
    "    \n",
    "    \n",
    "    \n",
    "#For df2\n",
    "stat, p = ttest_1samp(data2, 119052)\n",
    "\n",
    "# test result\n",
    "print(\"Statistics=%.3f, p=%.3f\" % (stat, p))\n",
    "\n",
    "# assessing the p-value\n",
    "alpha = 0.05\n",
    "if p > alpha:\n",
    "    print(\"The mean of the dataset is equal to 0.8 (H0 cannot be rejected)\")\n",
    "else:\n",
    "    print(\"The mean of the dataset does not equal 0.8 (H0 is rejected)\")"
   ]
  },
  {
   "cell_type": "code",
   "execution_count": 69,
   "id": "ed700c8b",
   "metadata": {},
   "outputs": [
    {
     "name": "stdout",
     "output_type": "stream",
     "text": [
      "Statistics=6.386, p=0.000\n",
      "There is a significant difference between the median values ​​(H0 is rejected)\n"
     ]
    }
   ],
   "source": [
    "# T-test \n",
    "\n",
    "stat, p = ttest_ind(data1, data2)\n",
    "print(\"Statistics=%.3f, p=%.3f\" % (stat, p))\n",
    "\n",
    "# assessing the p-value\n",
    "alpha = 0.05\n",
    "if p > alpha:\n",
    "    print(\"No significant difference between median values ​​(H0 cannot be rejected)\")\n",
    "else:\n",
    "    print(\"There is a significant difference between the median values ​​(H0 is rejected)\")"
   ]
  },
  {
   "cell_type": "code",
   "execution_count": 70,
   "id": "3bccc06e",
   "metadata": {},
   "outputs": [
    {
     "name": "stdout",
     "output_type": "stream",
     "text": [
      "Statistics=40.776, p=0.000\n",
      "There is a significant difference between the median values ​​(H0 is rejected)\n"
     ]
    }
   ],
   "source": [
    "# Analysis of Variance\n",
    "\n",
    "stat, p = f_oneway(data1, data2)\n",
    "\n",
    "# Test result\n",
    "print(\"Statistics=%.3f, p=%.3f\" % (stat, p))\n",
    "\n",
    "# p value\n",
    "alpha = 0.05\n",
    "if p > alpha:\n",
    "    print(\"No significant difference between median values ​​(H0 cannot be rejected)\")\n",
    "else:\n",
    "    print(\"There is a significant difference between the median values ​​(H0 is rejected)\")"
   ]
  },
  {
   "cell_type": "code",
   "execution_count": 71,
   "id": "35222a23",
   "metadata": {},
   "outputs": [
    {
     "name": "stdout",
     "output_type": "stream",
     "text": [
      "Statistics=2695104018.013, p=0.000\n",
      "Frequency distributions are uneven (H0 is rejected)\n"
     ]
    }
   ],
   "source": [
    "# Chi-Squared test\n",
    "\n",
    "#chi-squared function\n",
    "def cs(data1, data2):\n",
    "    return chisquare(data1, np.sum(data1)/np.sum(data2) * data2)\n",
    "\n",
    "#get result for chi-squared with cs fundtion\n",
    "stat, p = cs(data1, data2)\n",
    "\n",
    "\n",
    "# test results\n",
    "print(\"Statistics=%.3f, p=%.3f\" % (stat, p))\n",
    "\n",
    "# p value result\n",
    "alpha = 0.05\n",
    "if p > alpha:\n",
    "    print(\"Frequency distributions are equal (H0 cannot be rejected)\")\n",
    "else:\n",
    "    print(\"Frequency distributions are uneven (H0 is rejected)\")"
   ]
  },
  {
   "cell_type": "code",
   "execution_count": 72,
   "id": "6c3f9f6e",
   "metadata": {},
   "outputs": [
    {
     "data": {
      "text/plain": [
       "<seaborn.axisgrid.FacetGrid at 0x1e286c46490>"
      ]
     },
     "execution_count": 72,
     "metadata": {},
     "output_type": "execute_result"
    },
    {
     "data": {
      "image/png": "[encoded data removed]",
      "text/plain": [
       "<Figure size 500x500 with 1 Axes>"
      ]
     },
     "metadata": {},
     "output_type": "display_data"
    }
   ],
   "source": [
    "sns.lmplot(x='Year', y='Value_Ireland', data=df)"
   ]
  },
  {
   "cell_type": "code",
   "execution_count": 73,
   "id": "81856d56",
   "metadata": {},
   "outputs": [
    {
     "data": {
      "image/png": "[encoded data removed]",
      "text/plain": [
       "<Figure size 640x480 with 1 Axes>"
      ]
     },
     "metadata": {},
     "output_type": "display_data"
    }
   ],
   "source": [
    "sns.boxplot(x=df['Value_Ireland'])\n",
    "plt.title(\"VALUE DISTRIBUTION\")\n",
    "plt.show()"
   ]
  },
  {
   "cell_type": "code",
   "execution_count": 74,
   "id": "6323b6a7",
   "metadata": {},
   "outputs": [
    {
     "data": {
      "image/png": "[encoded data removed]",
      "text/plain": [
       "<Figure size 640x480 with 1 Axes>"
      ]
     },
     "metadata": {},
     "output_type": "display_data"
    }
   ],
   "source": [
    "df.plot(kind='bar', x='Year', y='Value_Ireland', rot=0)\n",
    "plt.title(\"year\")\n",
    "plt.xlabel('Value')\n",
    "plt.ylabel('Simple Average (%)')\n",
    "plt.show()"
   ]
  },
  {
   "cell_type": "code",
   "execution_count": 75,
   "id": "d3e26b9a",
   "metadata": {},
   "outputs": [
    {
     "data": {
      "text/plain": [
       "<Axes: >"
      ]
     },
     "execution_count": 75,
     "metadata": {},
     "output_type": "execute_result"
    },
    {
     "data": {
      "image/png": "[encoded data removed]",
      "text/plain": [
       "<Figure size 640x480 with 2 Axes>"
      ]
     },
     "metadata": {},
     "output_type": "display_data"
    }
   ],
   "source": [
    "sns.heatmap(df.corr(), annot=True, cmap='coolwarm')"
   ]
  },
  {
   "cell_type": "code",
   "execution_count": 76,
   "id": "4d495e96",
   "metadata": {},
   "outputs": [
    {
     "data": {
      "image/png": "[encoded data removed]",
      "text/plain": [
       "<Figure size 640x480 with 1 Axes>"
      ]
     },
     "metadata": {},
     "output_type": "display_data"
    },
    {
     "data": {
      "image/png": "[encoded data removed]",
      "text/plain": [
       "<Figure size 640x480 with 1 Axes>"
      ]
     },
     "metadata": {},
     "output_type": "display_data"
    },
    {
     "data": {
      "image/png": "[encoded data removed]",
      "text/plain": [
       "<Figure size 640x480 with 1 Axes>"
      ]
     },
     "metadata": {},
     "output_type": "display_data"
    },
    {
     "data": {
      "image/png": "[encoded data removed]",
      "text/plain": [
       "<Figure size 640x480 with 1 Axes>"
      ]
     },
     "metadata": {},
     "output_type": "display_data"
    }
   ],
   "source": [
    "def plot_numerical_col(dataframe, numerical_col):\n",
    "    dataframe[numerical_col].hist(bins=20)\n",
    "    plt.title(\"{} numbers graph\".format(col))\n",
    "    plt.xlabel(numerical_col)\n",
    "    plt.show(block=True)\n",
    "\n",
    "for col in df.columns:\n",
    "    plot_numerical_col(df, col)"
   ]
  },
  {
   "cell_type": "markdown",
   "id": "f49c36be",
   "metadata": {},
   "source": [
    "# MACHINE LEARNING"
   ]
  },
  {
   "cell_type": "code",
   "execution_count": 79,
   "id": "9b41910b",
   "metadata": {},
   "outputs": [
    {
     "data": {
      "text/plain": [
       "array([[-1.41421356, -1.33630621,  1.        ],\n",
       "       [-1.41421356, -1.06904497,  1.        ],\n",
       "       [-1.41421356, -0.80178373,  1.        ],\n",
       "       [-1.41421356, -0.53452248,  1.        ],\n",
       "       [-1.41421356, -0.26726124,  1.        ],\n",
       "       [-1.41421356,  0.        ,  1.        ],\n",
       "       [-1.41421356,  0.26726124,  1.        ],\n",
       "       [-1.41421356,  0.53452248,  1.        ],\n",
       "       [-1.41421356,  0.80178373,  1.        ],\n",
       "       [-1.41421356,  1.06904497,  1.        ],\n",
       "       [-1.41421356,  1.33630621,  1.        ],\n",
       "       [-1.41421356,  1.60356745,  1.        ],\n",
       "       [-1.41421356, -1.60356745,  1.        ],\n",
       "       [-0.70710678, -1.33630621,  1.        ],\n",
       "       [-0.70710678, -1.06904497,  1.        ],\n",
       "       [-0.70710678, -0.80178373,  1.        ],\n",
       "       [-0.70710678, -0.53452248,  1.        ],\n",
       "       [-0.70710678, -0.26726124,  1.        ],\n",
       "       [-0.70710678,  0.        ,  1.        ],\n",
       "       [-0.70710678,  0.26726124,  1.        ],\n",
       "       [-0.70710678,  0.53452248,  1.        ],\n",
       "       [-0.70710678,  0.80178373,  1.        ],\n",
       "       [-0.70710678,  1.06904497,  1.        ],\n",
       "       [-0.70710678,  1.33630621,  1.        ],\n",
       "       [-0.70710678,  1.60356745,  1.        ],\n",
       "       [-0.70710678, -1.60356745,  1.        ],\n",
       "       [ 0.        , -1.33630621,  1.        ],\n",
       "       [ 0.        , -1.06904497,  1.        ],\n",
       "       [ 0.        , -0.80178373,  1.        ],\n",
       "       [ 0.        , -0.53452248,  1.        ],\n",
       "       [ 0.        , -0.26726124,  1.        ],\n",
       "       [ 0.        ,  0.        ,  1.        ],\n",
       "       [ 0.        ,  0.26726124,  1.        ],\n",
       "       [ 0.        ,  0.53452248,  1.        ],\n",
       "       [ 0.        ,  0.80178373,  1.        ],\n",
       "       [ 0.        ,  1.06904497,  1.        ],\n",
       "       [ 0.        ,  1.33630621,  1.        ],\n",
       "       [ 0.        ,  1.60356745,  1.        ],\n",
       "       [ 0.        , -1.60356745,  1.        ],\n",
       "       [ 0.70710678, -1.33630621,  1.        ],\n",
       "       [ 0.70710678, -1.06904497,  1.        ],\n",
       "       [ 0.70710678, -0.80178373,  1.        ],\n",
       "       [ 0.70710678, -0.53452248,  1.        ],\n",
       "       [ 0.70710678, -0.26726124,  1.        ],\n",
       "       [ 0.70710678,  0.        ,  1.        ],\n",
       "       [ 0.70710678,  0.26726124,  1.        ],\n",
       "       [ 0.70710678,  0.53452248,  1.        ],\n",
       "       [ 0.70710678,  0.80178373,  1.        ],\n",
       "       [ 0.70710678,  1.06904497,  1.        ],\n",
       "       [ 0.70710678,  1.33630621,  1.        ],\n",
       "       [ 0.70710678,  1.60356745,  1.        ],\n",
       "       [ 0.70710678, -1.60356745,  1.        ],\n",
       "       [ 1.41421356, -1.33630621,  1.        ],\n",
       "       [ 1.41421356, -1.06904497,  1.        ],\n",
       "       [ 1.41421356, -0.80178373,  1.        ],\n",
       "       [ 1.41421356, -0.53452248,  1.        ],\n",
       "       [ 1.41421356, -0.26726124,  1.        ],\n",
       "       [ 1.41421356,  0.        ,  1.        ],\n",
       "       [ 1.41421356,  0.26726124,  1.        ],\n",
       "       [ 1.41421356,  0.53452248,  1.        ],\n",
       "       [ 1.41421356,  0.80178373,  1.        ],\n",
       "       [ 1.41421356,  1.06904497,  1.        ],\n",
       "       [ 1.41421356,  1.33630621,  1.        ],\n",
       "       [ 1.41421356,  1.60356745,  1.        ],\n",
       "       [ 1.41421356, -1.60356745,  1.        ],\n",
       "       [-1.41421356, -1.33630621, -1.        ],\n",
       "       [-1.41421356, -1.06904497, -1.        ],\n",
       "       [-1.41421356, -0.80178373, -1.        ],\n",
       "       [-1.41421356, -0.53452248, -1.        ],\n",
       "       [-1.41421356, -0.26726124, -1.        ],\n",
       "       [-1.41421356,  0.        , -1.        ],\n",
       "       [-1.41421356,  0.26726124, -1.        ],\n",
       "       [-1.41421356,  0.53452248, -1.        ],\n",
       "       [-1.41421356,  0.80178373, -1.        ],\n",
       "       [-1.41421356,  1.06904497, -1.        ],\n",
       "       [-1.41421356,  1.33630621, -1.        ],\n",
       "       [-1.41421356,  1.60356745, -1.        ],\n",
       "       [-1.41421356, -1.60356745, -1.        ],\n",
       "       [-0.70710678, -1.33630621, -1.        ],\n",
       "       [-0.70710678, -1.06904497, -1.        ],\n",
       "       [-0.70710678, -0.80178373, -1.        ],\n",
       "       [-0.70710678, -0.53452248, -1.        ],\n",
       "       [-0.70710678, -0.26726124, -1.        ],\n",
       "       [-0.70710678,  0.        , -1.        ],\n",
       "       [-0.70710678,  0.26726124, -1.        ],\n",
       "       [-0.70710678,  0.53452248, -1.        ],\n",
       "       [-0.70710678,  0.80178373, -1.        ],\n",
       "       [-0.70710678,  1.06904497, -1.        ],\n",
       "       [-0.70710678,  1.33630621, -1.        ],\n",
       "       [-0.70710678,  1.60356745, -1.        ],\n",
       "       [-0.70710678, -1.60356745, -1.        ],\n",
       "       [ 0.        , -1.33630621, -1.        ],\n",
       "       [ 0.        , -1.06904497, -1.        ],\n",
       "       [ 0.        , -0.80178373, -1.        ],\n",
       "       [ 0.        , -0.53452248, -1.        ],\n",
       "       [ 0.        , -0.26726124, -1.        ],\n",
       "       [ 0.        ,  0.        , -1.        ],\n",
       "       [ 0.        ,  0.26726124, -1.        ],\n",
       "       [ 0.        ,  0.53452248, -1.        ],\n",
       "       [ 0.        ,  0.80178373, -1.        ],\n",
       "       [ 0.        ,  1.06904497, -1.        ],\n",
       "       [ 0.        ,  1.33630621, -1.        ],\n",
       "       [ 0.        ,  1.60356745, -1.        ],\n",
       "       [ 0.        , -1.60356745, -1.        ],\n",
       "       [ 0.70710678, -1.33630621, -1.        ],\n",
       "       [ 0.70710678, -1.06904497, -1.        ],\n",
       "       [ 0.70710678, -0.80178373, -1.        ],\n",
       "       [ 0.70710678, -0.53452248, -1.        ],\n",
       "       [ 0.70710678, -0.26726124, -1.        ],\n",
       "       [ 0.70710678,  0.        , -1.        ],\n",
       "       [ 0.70710678,  0.26726124, -1.        ],\n",
       "       [ 0.70710678,  0.53452248, -1.        ],\n",
       "       [ 0.70710678,  0.80178373, -1.        ],\n",
       "       [ 0.70710678,  1.06904497, -1.        ],\n",
       "       [ 0.70710678,  1.33630621, -1.        ],\n",
       "       [ 0.70710678,  1.60356745, -1.        ],\n",
       "       [ 0.70710678, -1.60356745, -1.        ],\n",
       "       [ 1.41421356, -1.33630621, -1.        ],\n",
       "       [ 1.41421356, -1.06904497, -1.        ],\n",
       "       [ 1.41421356, -0.80178373, -1.        ],\n",
       "       [ 1.41421356, -0.53452248, -1.        ],\n",
       "       [ 1.41421356, -0.26726124, -1.        ],\n",
       "       [ 1.41421356,  0.        , -1.        ],\n",
       "       [ 1.41421356,  0.26726124, -1.        ],\n",
       "       [ 1.41421356,  0.53452248, -1.        ],\n",
       "       [ 1.41421356,  0.80178373, -1.        ],\n",
       "       [ 1.41421356,  1.06904497, -1.        ],\n",
       "       [ 1.41421356,  1.33630621, -1.        ],\n",
       "       [ 1.41421356,  1.60356745, -1.        ],\n",
       "       [ 1.41421356, -1.60356745, -1.        ]])"
      ]
     },
     "execution_count": 79,
     "metadata": {},
     "output_type": "execute_result"
    }
   ],
   "source": [
    "# selecting x, and y and applying standardization\n",
    "X, y = df.drop('Value_Ireland', axis=1), df.Value_Ireland\n",
    "scaler = StandardScaler()\n",
    "X = scaler.fit_transform(X)\n",
    "X"
   ]
  },
  {
   "cell_type": "code",
   "execution_count": 80,
   "id": "ec991a7b",
   "metadata": {},
   "outputs": [],
   "source": [
    "X_train, X_test, y_train, y_test = train_test_split(X, y, test_size=0.2, random_state=42)"
   ]
  },
  {
   "cell_type": "code",
   "execution_count": 82,
   "id": "871cfe24",
   "metadata": {},
   "outputs": [
    {
     "name": "stdout",
     "output_type": "stream",
     "text": [
      "X_train (104, 3)\n",
      "X_test (26, 3)\n",
      "y_train (104,)\n",
      "y_test (26,)\n"
     ]
    }
   ],
   "source": [
    "print(\"X_train {}\".format(X_train.shape))\n",
    "print(\"X_test {}\".format(X_test.shape))\n",
    "print(\"y_train {}\".format(y_train.shape))\n",
    "print(\"y_test {}\".format(y_test.shape))"
   ]
  },
  {
   "cell_type": "code",
   "execution_count": 83,
   "id": "74ed5c37",
   "metadata": {},
   "outputs": [
    {
     "name": "stdout",
     "output_type": "stream",
     "text": [
      "0.9890092490390592\n"
     ]
    }
   ],
   "source": [
    "dtr = DecisionTreeRegressor(random_state = 0)\n",
    "dtr.fit(X_train, y_train)\n",
    "y_pred_dtr = dtr.predict(X_test)\n",
    "dtr_result = r2_score(y_test, y_pred_dtr)\n",
    "accuracy_dec = dtr.score(X_test, y_test)\n",
    "print(accuracy_dec)"
   ]
  },
  {
   "cell_type": "code",
   "execution_count": 84,
   "id": "eac20c45",
   "metadata": {},
   "outputs": [
    {
     "name": "stdout",
     "output_type": "stream",
     "text": [
      "{'max_depth': 6, 'min_samples_leaf': 1, 'min_samples_split': 2}\n",
      "0.9776731119897946\n"
     ]
    }
   ],
   "source": [
    "max_depth = [2, 4, 6, 8]\n",
    "min_samples_split = [2, 4, 6, 8]\n",
    "min_samples_leaf = [1, 2, 3, 4]\n",
    "\n",
    "# Create hyperparameter grid\n",
    "param_grid = {'max_depth': max_depth,\n",
    "              'min_samples_split': min_samples_split,\n",
    "              'min_samples_leaf': min_samples_leaf}\n",
    "grid_search = GridSearchCV(dtr, param_grid, cv=3)\n",
    "grid_search.fit(X_train, y_train)\n",
    "print(grid_search.best_params_)\n",
    "\n",
    "dtr_grid = DecisionTreeRegressor(random_state = 0, max_depth = 4, min_samples_leaf = 1, min_samples_split = 4)\n",
    "dtr_grid.fit(X_train, y_train)\n",
    "y_pred_dtr_grid = dtr_grid.predict(X_test)\n",
    "dtr_result_grid = r2_score(y_test, y_pred_dtr)\n",
    "accuracy_dec_grid = dtr_grid.score(X_test, y_test)\n",
    "print(accuracy_dec_grid)"
   ]
  },
  {
   "cell_type": "code",
   "execution_count": 85,
   "id": "4d43e6f4",
   "metadata": {},
   "outputs": [
    {
     "name": "stdout",
     "output_type": "stream",
     "text": [
      "Random forest regression accuracy is 0.9071421716415091\n"
     ]
    }
   ],
   "source": [
    "reg = RandomForestRegressor(random_state=42)\n",
    "reg.fit(X_train, y_train)\n",
    "y_pred_reg = reg.predict(X_test)\n",
    "reg_result = r2_score(y_test, y_pred_reg)\n",
    "accuracy_reg = reg.score(X_test, y_test)\n",
    "print(\"Random forest regression accuracy is {}\".format(accuracy_reg))"
   ]
  },
  {
   "cell_type": "code",
   "execution_count": 86,
   "id": "8fcffe6e",
   "metadata": {},
   "outputs": [
    {
     "name": "stdout",
     "output_type": "stream",
     "text": [
      "{'max_depth': None, 'n_estimators': 10}\n",
      "They are our best params\n"
     ]
    }
   ],
   "source": [
    "param_grid = {'n_estimators': [10, 50, 100],\n",
    "              'max_depth': [None, 5, 10]}\n",
    "grid_search_reg = GridSearchCV(reg, param_grid, cv=5)\n",
    "grid_search_reg.fit(X_train, y_train)\n",
    "print(grid_search_reg.best_params_)\n",
    "print(\"They are our best params\")"
   ]
  },
  {
   "cell_type": "code",
   "execution_count": 87,
   "id": "5a6f73e0",
   "metadata": {},
   "outputs": [
    {
     "name": "stdout",
     "output_type": "stream",
     "text": [
      "0.8784176225174207\n",
      "Random forest regression gridsearchCV accuracy is 0.8784176225174207\n"
     ]
    }
   ],
   "source": [
    "reg_grid = RandomForestRegressor(n_estimators=50, random_state=42, max_depth = 10)\n",
    "reg_grid.fit(X_train, y_train)\n",
    "y_pred_reg_grid = reg_grid.predict(X_test)\n",
    "reg_result_grid = r2_score(y_test, y_pred_reg)\n",
    "accuracy_reg_grid = reg_grid.score(X_test, y_test)\n",
    "print(accuracy_reg_grid)\n",
    "print(\"Random forest regression gridsearchCV accuracy is {}\".format(accuracy_reg_grid))"
   ]
  },
  {
   "cell_type": "code",
   "execution_count": 88,
   "id": "416e6dbf",
   "metadata": {},
   "outputs": [
    {
     "name": "stdout",
     "output_type": "stream",
     "text": [
      "0.9934084263892317\n",
      "0.8814883014164234\n"
     ]
    },
    {
     "data": {
      "text/plain": [
       "'\\n\\nCross Validation (CV) is a method used to evaluate the performance of a machine learning model. The CV divides the dataset into a certain number of parts (\"folds\"), one of which is used as the training data of the model, while the others are used as the test data. This process is repeated for all folds in the data set and the average performance of the model over the entire data set is calculated.\\n\\nHowever, sometimes the Cross Validation result may return a negative value. This may mean that the model underperforms on the real dataset. This may be because the model has too much variance (variability between features) in the data set or too little data in the data set.\\n\\nA negative CV result does not mean that the model\\'s performance is actually lower. This is because although CV has a certain variance in the dataset, it may have lower variance in the real dataset. Therefore, a negative CV result may not necessarily indicate that the model can actually perform better.\\n\\nTo understand why the CV result is negative, the performance of the model on the training and test data and its variance in the data set should also be considered. This information can help to better understand how the model actually performs.\\n'"
      ]
     },
     "execution_count": 88,
     "metadata": {},
     "output_type": "execute_result"
    }
   ],
   "source": [
    "scores1 = cross_val_score(dtr, X,y,cv=5)\n",
    "scores2 = cross_val_score(reg, X,y,cv=5)\n",
    "print(scores1.mean())\n",
    "print(scores2.mean())\n",
    "\n",
    "\"\"\"\n",
    "\n",
    "Cross Validation (CV) is a method used to evaluate the performance of a machine learning model. The CV divides the dataset into a certain number of parts (\"folds\"), one of which is used as the training data of the model, while the others are used as the test data. This process is repeated for all folds in the data set and the average performance of the model over the entire data set is calculated.\n",
    "\n",
    "However, sometimes the Cross Validation result may return a negative value. This may mean that the model underperforms on the real dataset. This may be because the model has too much variance (variability between features) in the data set or too little data in the data set.\n",
    "\n",
    "A negative CV result does not mean that the model's performance is actually lower. This is because although CV has a certain variance in the dataset, it may have lower variance in the real dataset. Therefore, a negative CV result may not necessarily indicate that the model can actually perform better.\n",
    "\n",
    "To understand why the CV result is negative, the performance of the model on the training and test data and its variance in the data set should also be considered. This information can help to better understand how the model actually performs.\n",
    "\"\"\""
   ]
  },
  {
   "cell_type": "code",
   "execution_count": 89,
   "id": "9e7ad8c7",
   "metadata": {},
   "outputs": [
    {
     "data": {
      "text/html": [
       "<div>\n",
       "<style scoped>\n",
       "    .dataframe tbody tr th:only-of-type {\n",
       "        vertical-align: middle;\n",
       "    }\n",
       "\n",
       "    .dataframe tbody tr th {\n",
       "        vertical-align: top;\n",
       "    }\n",
       "\n",
       "    .dataframe thead th {\n",
       "        text-align: right;\n",
       "    }\n",
       "</style>\n",
       "<table border=\"1\" class=\"dataframe\">\n",
       "  <thead>\n",
       "    <tr style=\"text-align: right;\">\n",
       "      <th></th>\n",
       "      <th>Models</th>\n",
       "      <th>Accuracy</th>\n",
       "      <th>GridSearchCV</th>\n",
       "    </tr>\n",
       "  </thead>\n",
       "  <tbody>\n",
       "    <tr>\n",
       "      <th>0</th>\n",
       "      <td>Decision Tree Regressor</td>\n",
       "      <td>0.989009</td>\n",
       "      <td>0.977673</td>\n",
       "    </tr>\n",
       "    <tr>\n",
       "      <th>1</th>\n",
       "      <td>Random Forest Regressor</td>\n",
       "      <td>0.907142</td>\n",
       "      <td>0.878418</td>\n",
       "    </tr>\n",
       "  </tbody>\n",
       "</table>\n",
       "</div>"
      ],
      "text/plain": [
       "                    Models  Accuracy  GridSearchCV\n",
       "0  Decision Tree Regressor  0.989009      0.977673\n",
       "1  Random Forest Regressor  0.907142      0.878418"
      ]
     },
     "execution_count": 89,
     "metadata": {},
     "output_type": "execute_result"
    }
   ],
   "source": [
    "result = pd.DataFrame({\"Models\":[\"Decision Tree Regressor\",\"Random Forest Regressor\"],\n",
    "                     'Accuracy':[accuracy_dec, accuracy_reg],\n",
    "                     'GridSearchCV':[accuracy_dec_grid, accuracy_reg_grid]})\n",
    "result.head()"
   ]
  },
  {
   "cell_type": "code",
   "execution_count": 90,
   "id": "85854514",
   "metadata": {},
   "outputs": [
    {
     "name": "stdout",
     "output_type": "stream",
     "text": [
      "Best accuracy result is decision tree: 0.9776731119897946\n"
     ]
    }
   ],
   "source": [
    "# The best accuracy result is, Decision tree Regressor\n",
    "print(\"Best accuracy result is decision tree: {}\".format(accuracy_dec_grid))"
   ]
  },
  {
   "cell_type": "code",
   "execution_count": 92,
   "id": "41557599",
   "metadata": {},
   "outputs": [
    {
     "data": {
      "text/html": [
       "<div>\n",
       "<style scoped>\n",
       "    .dataframe tbody tr th:only-of-type {\n",
       "        vertical-align: middle;\n",
       "    }\n",
       "\n",
       "    .dataframe tbody tr th {\n",
       "        vertical-align: top;\n",
       "    }\n",
       "\n",
       "    .dataframe thead th {\n",
       "        text-align: right;\n",
       "    }\n",
       "</style>\n",
       "<table border=\"1\" class=\"dataframe\">\n",
       "  <thead>\n",
       "    <tr style=\"text-align: right;\">\n",
       "      <th></th>\n",
       "      <th>Year</th>\n",
       "      <th>Month_Ireland</th>\n",
       "      <th>Value_Ireland</th>\n",
       "      <th>Luas Type_Encoded</th>\n",
       "    </tr>\n",
       "  </thead>\n",
       "  <tbody>\n",
       "    <tr>\n",
       "      <th>0</th>\n",
       "      <td>2018</td>\n",
       "      <td>1</td>\n",
       "      <td>1664495</td>\n",
       "      <td>1</td>\n",
       "    </tr>\n",
       "    <tr>\n",
       "      <th>1</th>\n",
       "      <td>2018</td>\n",
       "      <td>2</td>\n",
       "      <td>1657562</td>\n",
       "      <td>1</td>\n",
       "    </tr>\n",
       "    <tr>\n",
       "      <th>2</th>\n",
       "      <td>2018</td>\n",
       "      <td>3</td>\n",
       "      <td>1661098</td>\n",
       "      <td>1</td>\n",
       "    </tr>\n",
       "    <tr>\n",
       "      <th>3</th>\n",
       "      <td>2018</td>\n",
       "      <td>4</td>\n",
       "      <td>1794424</td>\n",
       "      <td>1</td>\n",
       "    </tr>\n",
       "    <tr>\n",
       "      <th>4</th>\n",
       "      <td>2018</td>\n",
       "      <td>5</td>\n",
       "      <td>1934553</td>\n",
       "      <td>1</td>\n",
       "    </tr>\n",
       "  </tbody>\n",
       "</table>\n",
       "</div>"
      ],
      "text/plain": [
       "   Year  Month_Ireland  Value_Ireland  Luas Type_Encoded\n",
       "0  2018              1        1664495                  1\n",
       "1  2018              2        1657562                  1\n",
       "2  2018              3        1661098                  1\n",
       "3  2018              4        1794424                  1\n",
       "4  2018              5        1934553                  1"
      ]
     },
     "execution_count": 92,
     "metadata": {},
     "output_type": "execute_result"
    }
   ],
   "source": [
    "df.head(5)"
   ]
  },
  {
   "cell_type": "code",
   "execution_count": 95,
   "id": "a10ec9a9",
   "metadata": {},
   "outputs": [
    {
     "data": {
      "text/html": [
       "<div>\n",
       "<style scoped>\n",
       "    .dataframe tbody tr th:only-of-type {\n",
       "        vertical-align: middle;\n",
       "    }\n",
       "\n",
       "    .dataframe tbody tr th {\n",
       "        vertical-align: top;\n",
       "    }\n",
       "\n",
       "    .dataframe thead th {\n",
       "        text-align: right;\n",
       "    }\n",
       "</style>\n",
       "<table border=\"1\" class=\"dataframe\">\n",
       "  <thead>\n",
       "    <tr style=\"text-align: right;\">\n",
       "      <th></th>\n",
       "      <th>Value_Turkey</th>\n",
       "      <th>Year</th>\n",
       "      <th>Month_Turkey</th>\n",
       "      <th>Day_Turkey</th>\n",
       "      <th>Age_Encoded</th>\n",
       "    </tr>\n",
       "  </thead>\n",
       "  <tbody>\n",
       "    <tr>\n",
       "      <th>0</th>\n",
       "      <td>1656</td>\n",
       "      <td>2022</td>\n",
       "      <td>1</td>\n",
       "      <td>1</td>\n",
       "      <td>0</td>\n",
       "    </tr>\n",
       "    <tr>\n",
       "      <th>1</th>\n",
       "      <td>2469</td>\n",
       "      <td>2022</td>\n",
       "      <td>1</td>\n",
       "      <td>1</td>\n",
       "      <td>0</td>\n",
       "    </tr>\n",
       "    <tr>\n",
       "      <th>2</th>\n",
       "      <td>2119</td>\n",
       "      <td>2022</td>\n",
       "      <td>1</td>\n",
       "      <td>1</td>\n",
       "      <td>1</td>\n",
       "    </tr>\n",
       "    <tr>\n",
       "      <th>3</th>\n",
       "      <td>3085</td>\n",
       "      <td>2022</td>\n",
       "      <td>1</td>\n",
       "      <td>1</td>\n",
       "      <td>1</td>\n",
       "    </tr>\n",
       "    <tr>\n",
       "      <th>4</th>\n",
       "      <td>1006</td>\n",
       "      <td>2022</td>\n",
       "      <td>1</td>\n",
       "      <td>1</td>\n",
       "      <td>2</td>\n",
       "    </tr>\n",
       "  </tbody>\n",
       "</table>\n",
       "</div>"
      ],
      "text/plain": [
       "   Value_Turkey  Year  Month_Turkey  Day_Turkey  Age_Encoded\n",
       "0          1656  2022             1           1            0\n",
       "1          2469  2022             1           1            0\n",
       "2          2119  2022             1           1            1\n",
       "3          3085  2022             1           1            1\n",
       "4          1006  2022             1           1            2"
      ]
     },
     "execution_count": 95,
     "metadata": {},
     "output_type": "execute_result"
    }
   ],
   "source": [
    "df1.head(5)"
   ]
  },
  {
   "cell_type": "code",
   "execution_count": 96,
   "id": "fc948045",
   "metadata": {},
   "outputs": [
    {
     "data": {
      "image/png": "[encoded data removed]",
      "text/plain": [
       "<Figure size 1500x1000 with 1 Axes>"
      ]
     },
     "metadata": {},
     "output_type": "display_data"
    }
   ],
   "source": [
    "plt.figure(figsize=(15, 10))\n",
    "sns.lineplot(data=df, x='Year', y='Value_Ireland', hue='Luas Type_Encoded')\n",
    "plt.show()"
   ]
  },
  {
   "cell_type": "code",
   "execution_count": null,
   "id": "ae907e38",
   "metadata": {},
   "outputs": [],
   "source": []
  }
 ],
 "metadata": {
  "kernelspec": {
   "display_name": "Python 3 (ipykernel)",
   "language": "python",
   "name": "python3"
  },
  "language_info": {
   "codemirror_mode": {
    "name": "ipython",
    "version": 3
   },
   "file_extension": ".py",
   "mimetype": "text/x-python",
   "name": "python",
   "nbconvert_exporter": "python",
   "pygments_lexer": "ipython3",
   "version": "3.11.4"
  }
 },
 "nbformat": 4,
 "nbformat_minor": 5
}
