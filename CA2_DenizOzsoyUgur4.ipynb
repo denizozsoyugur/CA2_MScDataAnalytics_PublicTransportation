{
 "cells": [
  {
   "cell_type": "markdown",
   "id": "1d6c9c98",
   "metadata": {},
   "source": [
    "# Link to Dataset"
   ]
  },
  {
   "cell_type": "markdown",
   "id": "ddd10e5a",
   "metadata": {},
   "source": [
    "Ireland\n",
    "\n",
    "https://data.gov.ie/dataset/toa11-luas-passenger-numbers"
   ]
  },
  {
   "cell_type": "markdown",
   "id": "868af846",
   "metadata": {},
   "source": [
    "Turkey\n",
    "\n",
    "https://data.ibb.gov.tr/en/dataset/yas-grubuna-gore-rayli-sistemler-istasyon-bazli-yolcu-ve-yolculuk-sayilari/resource/8bed95de-bbe2-4550-80f2-87ca51a97f3d\n",
    "\n",
    "API\n",
    "\n",
    "https://data.ibb.gov.tr/tr/datastore/odata3.0/5c2b78fc-3b68-4722-844f-3051c358a13f\n",
    "\n",
    "CSV\n",
    "\n",
    "https://data.ibb.gov.tr/en/dataset/d3df8db4-1ac6-4bfe-8896-7ec1159caa2b/resource/8bed95de-bbe2-4550-80f2-87ca51a97f3d/download/2022-yl-ya-grubuna-gore-rayl-sistemler-istasyon-bazl-yolcu-ve-yolculuk-saylar.csv\n",
    "\n",
    "https://data.ibb.gov.tr/tr/datastore/odata3.0/5c2b78fc-3b68-4722-844f-3051c358a13f?top=5&format=json"
   ]
  },
  {
   "cell_type": "code",
   "execution_count": 1,
   "id": "a686567c",
   "metadata": {},
   "outputs": [],
   "source": [
    "# Import NumPy, Pandas, Matplotlib, Seaborn libraries and Plotly Express, and Sci\n",
    "\n",
    "import numpy as np\n",
    "import pandas as pd\n",
    "from matplotlib import pyplot as plt\n",
    "import seaborn as sns\n",
    "import plotly.express as px"
   ]
  },
  {
   "cell_type": "code",
   "execution_count": 2,
   "id": "9840f356",
   "metadata": {},
   "outputs": [],
   "source": [
    "# Import warnings and applyt filterwarnings to ignore them.\n",
    "\n",
    "import warnings\n",
    "warnings.filterwarnings('ignore')"
   ]
  },
  {
   "cell_type": "code",
   "execution_count": 3,
   "id": "71e05378",
   "metadata": {},
   "outputs": [],
   "source": [
    "df = pd.read_csv(\"Luas_Passenger_Number.csv\")\n",
    "\n",
    "# pd.read_csv function in order to read the csv file containing the population estimated construction status report"
   ]
  },
  {
   "cell_type": "code",
   "execution_count": 4,
   "id": "841c212c",
   "metadata": {},
   "outputs": [],
   "source": [
    "df1=pd.read_csv(\"Turkey_Rail_Passenger_Number.csv\", encoding = 'latin-1')"
   ]
  },
  {
   "cell_type": "markdown",
   "id": "31b86208",
   "metadata": {},
   "source": [
    "df1 = pd.read_csv(\"Turkey_Rail_Passenger_Number.csv\")\n",
    "\n",
    "A problem was encountered when trying to open the file. To fix the problem, it was observed that there was a problem decoding a byte in the file using the 'utf-8' encoding, so an addition to the code was made accordingly."
   ]
  },
  {
   "cell_type": "code",
   "execution_count": 5,
   "id": "ccfd5cce",
   "metadata": {},
   "outputs": [
    {
     "data": {
      "text/html": [
       "<div>\n",
       "<style scoped>\n",
       "    .dataframe tbody tr th:only-of-type {\n",
       "        vertical-align: middle;\n",
       "    }\n",
       "\n",
       "    .dataframe tbody tr th {\n",
       "        vertical-align: top;\n",
       "    }\n",
       "\n",
       "    .dataframe thead th {\n",
       "        text-align: right;\n",
       "    }\n",
       "</style>\n",
       "<table border=\"1\" class=\"dataframe\">\n",
       "  <thead>\n",
       "    <tr style=\"text-align: right;\">\n",
       "      <th></th>\n",
       "      <th>STATISTIC</th>\n",
       "      <th>Statistic Label</th>\n",
       "      <th>TLIST(A1)</th>\n",
       "      <th>Year</th>\n",
       "      <th>C01885V02316</th>\n",
       "      <th>Month</th>\n",
       "      <th>UNIT</th>\n",
       "      <th>VALUE</th>\n",
       "    </tr>\n",
       "  </thead>\n",
       "  <tbody>\n",
       "    <tr>\n",
       "      <th>0</th>\n",
       "      <td>TOA11C01</td>\n",
       "      <td>Red line</td>\n",
       "      <td>2018</td>\n",
       "      <td>2018</td>\n",
       "      <td>1</td>\n",
       "      <td>January</td>\n",
       "      <td>Number</td>\n",
       "      <td>1664495</td>\n",
       "    </tr>\n",
       "    <tr>\n",
       "      <th>1</th>\n",
       "      <td>TOA11C01</td>\n",
       "      <td>Red line</td>\n",
       "      <td>2018</td>\n",
       "      <td>2018</td>\n",
       "      <td>2</td>\n",
       "      <td>February</td>\n",
       "      <td>Number</td>\n",
       "      <td>1657562</td>\n",
       "    </tr>\n",
       "    <tr>\n",
       "      <th>2</th>\n",
       "      <td>TOA11C01</td>\n",
       "      <td>Red line</td>\n",
       "      <td>2018</td>\n",
       "      <td>2018</td>\n",
       "      <td>3</td>\n",
       "      <td>March</td>\n",
       "      <td>Number</td>\n",
       "      <td>1661098</td>\n",
       "    </tr>\n",
       "    <tr>\n",
       "      <th>3</th>\n",
       "      <td>TOA11C01</td>\n",
       "      <td>Red line</td>\n",
       "      <td>2018</td>\n",
       "      <td>2018</td>\n",
       "      <td>4</td>\n",
       "      <td>April</td>\n",
       "      <td>Number</td>\n",
       "      <td>1794424</td>\n",
       "    </tr>\n",
       "    <tr>\n",
       "      <th>4</th>\n",
       "      <td>TOA11C01</td>\n",
       "      <td>Red line</td>\n",
       "      <td>2018</td>\n",
       "      <td>2018</td>\n",
       "      <td>5</td>\n",
       "      <td>May</td>\n",
       "      <td>Number</td>\n",
       "      <td>1934553</td>\n",
       "    </tr>\n",
       "  </tbody>\n",
       "</table>\n",
       "</div>"
      ],
      "text/plain": [
       "  STATISTIC Statistic Label  TLIST(A1)  Year C01885V02316     Month    UNIT  \\\n",
       "0  TOA11C01        Red line       2018  2018            1   January  Number   \n",
       "1  TOA11C01        Red line       2018  2018            2  February  Number   \n",
       "2  TOA11C01        Red line       2018  2018            3     March  Number   \n",
       "3  TOA11C01        Red line       2018  2018            4     April  Number   \n",
       "4  TOA11C01        Red line       2018  2018            5       May  Number   \n",
       "\n",
       "     VALUE  \n",
       "0  1664495  \n",
       "1  1657562  \n",
       "2  1661098  \n",
       "3  1794424  \n",
       "4  1934553  "
      ]
     },
     "execution_count": 5,
     "metadata": {},
     "output_type": "execute_result"
    }
   ],
   "source": [
    "df.head(5)"
   ]
  },
  {
   "cell_type": "code",
   "execution_count": 6,
   "id": "a6ec8f03",
   "metadata": {},
   "outputs": [],
   "source": [
    "missing_values = ['/',' ','-','--','na','Na','n/a','NA','n.a.','?','nan','Nan','nul','Nul','null','Null']\n",
    "\n",
    "df= pd.read_csv('Luas_Passenger_Number.csv',na_values=missing_values)\n",
    "\n",
    "# Create a list with all the possible missing value formats. Create a name for the dataframe as report\n",
    "# ('PopulationEstimatesDatabase1')and apply the pd.read_csv function \n",
    "# Include the variable 'na_values' and define it with the 'missing values' list previously created"
   ]
  },
  {
   "cell_type": "code",
   "execution_count": 7,
   "id": "be3c0eeb",
   "metadata": {},
   "outputs": [
    {
     "data": {
      "text/plain": [
       "STATISTIC           0\n",
       "Statistic Label     0\n",
       "TLIST(A1)           0\n",
       "Year                0\n",
       "C01885V02316       15\n",
       "Month               0\n",
       "UNIT                0\n",
       "VALUE               0\n",
       "dtype: int64"
      ]
     },
     "execution_count": 7,
     "metadata": {},
     "output_type": "execute_result"
    }
   ],
   "source": [
    "df.isnull().sum()\n",
    "\n",
    "# Check missing values by applying the .isnull().sum method to the dataframe"
   ]
  },
  {
   "cell_type": "code",
   "execution_count": 8,
   "id": "956fc75e",
   "metadata": {},
   "outputs": [
    {
     "data": {
      "text/plain": [
       "STATISTIC          0.000000\n",
       "Statistic Label    0.000000\n",
       "TLIST(A1)          0.000000\n",
       "Year               0.000000\n",
       "C01885V02316       7.692308\n",
       "Month              0.000000\n",
       "UNIT               0.000000\n",
       "VALUE              0.000000\n",
       "dtype: float64"
      ]
     },
     "execution_count": 8,
     "metadata": {},
     "output_type": "execute_result"
    }
   ],
   "source": [
    "df.isnull().sum() / len(df) * 100"
   ]
  },
  {
   "cell_type": "code",
   "execution_count": 9,
   "id": "8d33ae60",
   "metadata": {},
   "outputs": [
    {
     "data": {
      "text/plain": [
       "Index(['STATISTIC', 'Statistic Label', 'TLIST(A1)', 'Year', 'C01885V02316',\n",
       "       'Month', 'UNIT', 'VALUE'],\n",
       "      dtype='object')"
      ]
     },
     "execution_count": 9,
     "metadata": {},
     "output_type": "execute_result"
    }
   ],
   "source": [
    "df.columns"
   ]
  },
  {
   "cell_type": "code",
   "execution_count": 10,
   "id": "823bc85b",
   "metadata": {},
   "outputs": [],
   "source": [
    "df.rename(columns={'Statistic Label':'Luas_Type', \n",
    "                   'UNIT':'Unit', 'VALUE':'Value_Ireland'}, inplace=True)"
   ]
  },
  {
   "cell_type": "code",
   "execution_count": 11,
   "id": "bed60571",
   "metadata": {},
   "outputs": [
    {
     "data": {
      "text/html": [
       "<div>\n",
       "<style scoped>\n",
       "    .dataframe tbody tr th:only-of-type {\n",
       "        vertical-align: middle;\n",
       "    }\n",
       "\n",
       "    .dataframe tbody tr th {\n",
       "        vertical-align: top;\n",
       "    }\n",
       "\n",
       "    .dataframe thead th {\n",
       "        text-align: right;\n",
       "    }\n",
       "</style>\n",
       "<table border=\"1\" class=\"dataframe\">\n",
       "  <thead>\n",
       "    <tr style=\"text-align: right;\">\n",
       "      <th></th>\n",
       "      <th>STATISTIC</th>\n",
       "      <th>Luas_Type</th>\n",
       "      <th>TLIST(A1)</th>\n",
       "      <th>Year</th>\n",
       "      <th>C01885V02316</th>\n",
       "      <th>Month</th>\n",
       "      <th>Unit</th>\n",
       "      <th>Value_Ireland</th>\n",
       "    </tr>\n",
       "  </thead>\n",
       "  <tbody>\n",
       "    <tr>\n",
       "      <th>0</th>\n",
       "      <td>TOA11C01</td>\n",
       "      <td>Red line</td>\n",
       "      <td>2018</td>\n",
       "      <td>2018</td>\n",
       "      <td>1.0</td>\n",
       "      <td>January</td>\n",
       "      <td>Number</td>\n",
       "      <td>1664495</td>\n",
       "    </tr>\n",
       "    <tr>\n",
       "      <th>1</th>\n",
       "      <td>TOA11C01</td>\n",
       "      <td>Red line</td>\n",
       "      <td>2018</td>\n",
       "      <td>2018</td>\n",
       "      <td>2.0</td>\n",
       "      <td>February</td>\n",
       "      <td>Number</td>\n",
       "      <td>1657562</td>\n",
       "    </tr>\n",
       "  </tbody>\n",
       "</table>\n",
       "</div>"
      ],
      "text/plain": [
       "  STATISTIC Luas_Type  TLIST(A1)  Year  C01885V02316     Month    Unit  \\\n",
       "0  TOA11C01  Red line       2018  2018           1.0   January  Number   \n",
       "1  TOA11C01  Red line       2018  2018           2.0  February  Number   \n",
       "\n",
       "   Value_Ireland  \n",
       "0        1664495  \n",
       "1        1657562  "
      ]
     },
     "execution_count": 11,
     "metadata": {},
     "output_type": "execute_result"
    }
   ],
   "source": [
    "df.head(2)"
   ]
  },
  {
   "cell_type": "code",
   "execution_count": 12,
   "id": "2332ffb4",
   "metadata": {},
   "outputs": [],
   "source": [
    "df.drop(columns=[\"STATISTIC\", \"TLIST(A1)\", \"C01885V02316\",\"Unit\"], inplace=True)"
   ]
  },
  {
   "cell_type": "code",
   "execution_count": 13,
   "id": "2bad6eff",
   "metadata": {},
   "outputs": [
    {
     "name": "stdout",
     "output_type": "stream",
     "text": [
      "          Luas_Type  Year  Month  Value_Ireland\n",
      "0          Red line  2018      1        1664495\n",
      "1          Red line  2018      2        1657562\n",
      "2          Red line  2018      3        1661098\n",
      "3          Red line  2018      4        1794424\n",
      "4          Red line  2018      5        1934553\n",
      "..              ...   ...    ...            ...\n",
      "190  All Luas lines  2022      9        3811093\n",
      "191  All Luas lines  2022     10        4219124\n",
      "192  All Luas lines  2022     11        4375705\n",
      "193  All Luas lines  2022     12        4030698\n",
      "194  All Luas lines  2022      0       38667875\n",
      "\n",
      "[195 rows x 4 columns]\n"
     ]
    }
   ],
   "source": [
    "month_mapping = {'January': 1, 'February': 2, 'March': 3, 'April': 4, 'May': 5, 'June': 6,\n",
    "                 'July': 7, 'August': 8, 'September': 9, 'October': 10, 'November': 11, 'December': 12}\n",
    "\n",
    "df['Month'] = df['Month'].map(month_mapping)\n",
    "\n",
    "df['Month'] = pd.to_numeric(df['Month'], errors='coerce')\n",
    "\n",
    "df['Month'].fillna(0, inplace=True)\n",
    "\n",
    "df['Month'] = df['Month'].astype(int)\n",
    "\n",
    "print(df)"
   ]
  },
  {
   "cell_type": "code",
   "execution_count": 14,
   "id": "1a1d8685",
   "metadata": {},
   "outputs": [
    {
     "name": "stdout",
     "output_type": "stream",
     "text": [
      "      Luas_Type  Year  Month  Value_Ireland\n",
      "0      Red line  2018      1        1664495\n",
      "1      Red line  2018      2        1657562\n",
      "2      Red line  2018      3        1661098\n",
      "3      Red line  2018      4        1794424\n",
      "4      Red line  2018      5        1934553\n",
      "..          ...   ...    ...            ...\n",
      "125  Green line  2022      9        1830015\n",
      "126  Green line  2022     10        2063739\n",
      "127  Green line  2022     11        2097731\n",
      "128  Green line  2022     12        1972696\n",
      "129  Green line  2022      0       18392801\n",
      "\n",
      "[130 rows x 4 columns]\n"
     ]
    }
   ],
   "source": [
    "dft = df[df['Luas_Type'] != 'All Luas lines']\n",
    "\n",
    "print(dft)"
   ]
  },
  {
   "cell_type": "code",
   "execution_count": 84,
   "id": "99ca4365",
   "metadata": {},
   "outputs": [
    {
     "data": {
      "text/html": [
       "<div>\n",
       "<style scoped>\n",
       "    .dataframe tbody tr th:only-of-type {\n",
       "        vertical-align: middle;\n",
       "    }\n",
       "\n",
       "    .dataframe tbody tr th {\n",
       "        vertical-align: top;\n",
       "    }\n",
       "\n",
       "    .dataframe thead th {\n",
       "        text-align: right;\n",
       "    }\n",
       "</style>\n",
       "<table border=\"1\" class=\"dataframe\">\n",
       "  <thead>\n",
       "    <tr style=\"text-align: right;\">\n",
       "      <th></th>\n",
       "      <th>Year</th>\n",
       "      <th>Month</th>\n",
       "      <th>Value_Ireland</th>\n",
       "      <th>Luas_Type_Encoded</th>\n",
       "    </tr>\n",
       "  </thead>\n",
       "  <tbody>\n",
       "    <tr>\n",
       "      <th>0</th>\n",
       "      <td>2018</td>\n",
       "      <td>1</td>\n",
       "      <td>1664495</td>\n",
       "      <td>1</td>\n",
       "    </tr>\n",
       "    <tr>\n",
       "      <th>1</th>\n",
       "      <td>2018</td>\n",
       "      <td>2</td>\n",
       "      <td>1657562</td>\n",
       "      <td>1</td>\n",
       "    </tr>\n",
       "    <tr>\n",
       "      <th>2</th>\n",
       "      <td>2018</td>\n",
       "      <td>3</td>\n",
       "      <td>1661098</td>\n",
       "      <td>1</td>\n",
       "    </tr>\n",
       "    <tr>\n",
       "      <th>3</th>\n",
       "      <td>2018</td>\n",
       "      <td>4</td>\n",
       "      <td>1794424</td>\n",
       "      <td>1</td>\n",
       "    </tr>\n",
       "    <tr>\n",
       "      <th>4</th>\n",
       "      <td>2018</td>\n",
       "      <td>5</td>\n",
       "      <td>1934553</td>\n",
       "      <td>1</td>\n",
       "    </tr>\n",
       "  </tbody>\n",
       "</table>\n",
       "</div>"
      ],
      "text/plain": [
       "   Year  Month  Value_Ireland  Luas_Type_Encoded\n",
       "0  2018      1        1664495                  1\n",
       "1  2018      2        1657562                  1\n",
       "2  2018      3        1661098                  1\n",
       "3  2018      4        1794424                  1\n",
       "4  2018      5        1934553                  1"
      ]
     },
     "execution_count": 84,
     "metadata": {},
     "output_type": "execute_result"
    }
   ],
   "source": [
    "dft.head(5)"
   ]
  },
  {
   "cell_type": "markdown",
   "id": "571d8211",
   "metadata": {},
   "source": [
    "# dft = all luas line all year dataframe"
   ]
  },
  {
   "cell_type": "code",
   "execution_count": 16,
   "id": "a1f31e25",
   "metadata": {},
   "outputs": [
    {
     "name": "stdout",
     "output_type": "stream",
     "text": [
      "          Luas_Type  Year  Month  Value_Ireland\n",
      "130  All Luas lines  2018      1        3218649\n",
      "131  All Luas lines  2018      2        3118289\n",
      "132  All Luas lines  2018      3        3097570\n",
      "133  All Luas lines  2018      4        3350056\n",
      "134  All Luas lines  2018      5        3622338\n",
      "..              ...   ...    ...            ...\n",
      "190  All Luas lines  2022      9        3811093\n",
      "191  All Luas lines  2022     10        4219124\n",
      "192  All Luas lines  2022     11        4375705\n",
      "193  All Luas lines  2022     12        4030698\n",
      "194  All Luas lines  2022      0       38667875\n",
      "\n",
      "[65 rows x 4 columns]\n"
     ]
    }
   ],
   "source": [
    "dframe = pd.DataFrame(df)\n",
    "\n",
    "df = dframe[(dframe['Luas_Type'] == 'All Luas lines')]\n",
    "\n",
    "print(df)"
   ]
  },
  {
   "cell_type": "markdown",
   "id": "68b44394",
   "metadata": {},
   "source": [
    "# df= all luas line all year dataframe"
   ]
  },
  {
   "cell_type": "code",
   "execution_count": 17,
   "id": "fbc12fc7",
   "metadata": {},
   "outputs": [],
   "source": [
    "from sklearn.preprocessing import OrdinalEncoder\n",
    "from sklearn.preprocessing import LabelEncoder"
   ]
  },
  {
   "cell_type": "code",
   "execution_count": 18,
   "id": "901a4fc3",
   "metadata": {},
   "outputs": [],
   "source": [
    "l_encoder = LabelEncoder()\n",
    "\n",
    "# Put the type of all data of object type into the same shape (float).with the Encoder function."
   ]
  },
  {
   "cell_type": "code",
   "execution_count": 19,
   "id": "6f53f096",
   "metadata": {},
   "outputs": [],
   "source": [
    "df[\"Luas_Type_Encoded\"] =l_encoder.fit_transform(df[\"Luas_Type\"])\n",
    "\n",
    "#To convert the numeric value of the 'Luas_Type' column .l_encoder.fit_transform function"
   ]
  },
  {
   "cell_type": "code",
   "execution_count": 20,
   "id": "ced9313a",
   "metadata": {},
   "outputs": [],
   "source": [
    "dft[\"Luas_Type_Encoded\"] =l_encoder.fit_transform(dft[\"Luas_Type\"])\n",
    "\n",
    "#To convert the numeric value of the 'Luas_Type' column .l_encoder.fit_transform function"
   ]
  },
  {
   "cell_type": "code",
   "execution_count": 21,
   "id": "0ca32c8e",
   "metadata": {},
   "outputs": [],
   "source": [
    "df.drop(columns=[\"Luas_Type\"], inplace=True)"
   ]
  },
  {
   "cell_type": "code",
   "execution_count": 22,
   "id": "423b07f0",
   "metadata": {},
   "outputs": [],
   "source": [
    "dft.drop(columns=[\"Luas_Type\"], inplace=True)"
   ]
  },
  {
   "cell_type": "code",
   "execution_count": 23,
   "id": "85c3f4f8",
   "metadata": {},
   "outputs": [
    {
     "data": {
      "text/html": [
       "<div>\n",
       "<style scoped>\n",
       "    .dataframe tbody tr th:only-of-type {\n",
       "        vertical-align: middle;\n",
       "    }\n",
       "\n",
       "    .dataframe tbody tr th {\n",
       "        vertical-align: top;\n",
       "    }\n",
       "\n",
       "    .dataframe thead th {\n",
       "        text-align: right;\n",
       "    }\n",
       "</style>\n",
       "<table border=\"1\" class=\"dataframe\">\n",
       "  <thead>\n",
       "    <tr style=\"text-align: right;\">\n",
       "      <th></th>\n",
       "      <th>Year</th>\n",
       "      <th>Month</th>\n",
       "      <th>Value_Ireland</th>\n",
       "      <th>Luas_Type_Encoded</th>\n",
       "    </tr>\n",
       "  </thead>\n",
       "  <tbody>\n",
       "    <tr>\n",
       "      <th>130</th>\n",
       "      <td>2018</td>\n",
       "      <td>1</td>\n",
       "      <td>3218649</td>\n",
       "      <td>0</td>\n",
       "    </tr>\n",
       "    <tr>\n",
       "      <th>131</th>\n",
       "      <td>2018</td>\n",
       "      <td>2</td>\n",
       "      <td>3118289</td>\n",
       "      <td>0</td>\n",
       "    </tr>\n",
       "  </tbody>\n",
       "</table>\n",
       "</div>"
      ],
      "text/plain": [
       "     Year  Month  Value_Ireland  Luas_Type_Encoded\n",
       "130  2018      1        3218649                  0\n",
       "131  2018      2        3118289                  0"
      ]
     },
     "execution_count": 23,
     "metadata": {},
     "output_type": "execute_result"
    }
   ],
   "source": [
    "df.head(2)"
   ]
  },
  {
   "cell_type": "code",
   "execution_count": 24,
   "id": "5b916877",
   "metadata": {},
   "outputs": [
    {
     "data": {
      "text/plain": [
       "(65, 4)"
      ]
     },
     "execution_count": 24,
     "metadata": {},
     "output_type": "execute_result"
    }
   ],
   "source": [
    "df.shape"
   ]
  },
  {
   "cell_type": "code",
   "execution_count": 25,
   "id": "285fa2df",
   "metadata": {},
   "outputs": [
    {
     "name": "stdout",
     "output_type": "stream",
     "text": [
      "<class 'pandas.core.frame.DataFrame'>\n",
      "Int64Index: 65 entries, 130 to 194\n",
      "Data columns (total 4 columns):\n",
      " #   Column             Non-Null Count  Dtype\n",
      "---  ------             --------------  -----\n",
      " 0   Year               65 non-null     int64\n",
      " 1   Month              65 non-null     int32\n",
      " 2   Value_Ireland      65 non-null     int64\n",
      " 3   Luas_Type_Encoded  65 non-null     int32\n",
      "dtypes: int32(2), int64(2)\n",
      "memory usage: 2.0 KB\n"
     ]
    }
   ],
   "source": [
    "df.info()"
   ]
  },
  {
   "cell_type": "code",
   "execution_count": 26,
   "id": "257bdf6e",
   "metadata": {},
   "outputs": [
    {
     "data": {
      "text/html": [
       "<div>\n",
       "<style scoped>\n",
       "    .dataframe tbody tr th:only-of-type {\n",
       "        vertical-align: middle;\n",
       "    }\n",
       "\n",
       "    .dataframe tbody tr th {\n",
       "        vertical-align: top;\n",
       "    }\n",
       "\n",
       "    .dataframe thead th {\n",
       "        text-align: right;\n",
       "    }\n",
       "</style>\n",
       "<table border=\"1\" class=\"dataframe\">\n",
       "  <thead>\n",
       "    <tr style=\"text-align: right;\">\n",
       "      <th></th>\n",
       "      <th>Year</th>\n",
       "      <th>Month</th>\n",
       "      <th>Value_Ireland</th>\n",
       "      <th>Luas_Type_Encoded</th>\n",
       "    </tr>\n",
       "  </thead>\n",
       "  <tbody>\n",
       "    <tr>\n",
       "      <th>0</th>\n",
       "      <td>2018</td>\n",
       "      <td>1</td>\n",
       "      <td>1664495</td>\n",
       "      <td>1</td>\n",
       "    </tr>\n",
       "    <tr>\n",
       "      <th>1</th>\n",
       "      <td>2018</td>\n",
       "      <td>2</td>\n",
       "      <td>1657562</td>\n",
       "      <td>1</td>\n",
       "    </tr>\n",
       "  </tbody>\n",
       "</table>\n",
       "</div>"
      ],
      "text/plain": [
       "   Year  Month  Value_Ireland  Luas_Type_Encoded\n",
       "0  2018      1        1664495                  1\n",
       "1  2018      2        1657562                  1"
      ]
     },
     "execution_count": 26,
     "metadata": {},
     "output_type": "execute_result"
    }
   ],
   "source": [
    "dft.head(2)"
   ]
  },
  {
   "cell_type": "code",
   "execution_count": 27,
   "id": "edfc4073",
   "metadata": {},
   "outputs": [
    {
     "data": {
      "text/plain": [
       "(130, 4)"
      ]
     },
     "execution_count": 27,
     "metadata": {},
     "output_type": "execute_result"
    }
   ],
   "source": [
    "dft.shape"
   ]
  },
  {
   "cell_type": "markdown",
   "id": "cf525ca9",
   "metadata": {},
   "source": [
    "All Luas line = 0\n",
    "\n",
    "Green line = 1\n",
    "\n",
    "Red line=2"
   ]
  },
  {
   "cell_type": "code",
   "execution_count": 28,
   "id": "9fc2f9ac",
   "metadata": {},
   "outputs": [
    {
     "name": "stdout",
     "output_type": "stream",
     "text": [
      "<class 'pandas.core.frame.DataFrame'>\n",
      "Int64Index: 130 entries, 0 to 129\n",
      "Data columns (total 4 columns):\n",
      " #   Column             Non-Null Count  Dtype\n",
      "---  ------             --------------  -----\n",
      " 0   Year               130 non-null    int64\n",
      " 1   Month              130 non-null    int32\n",
      " 2   Value_Ireland      130 non-null    int64\n",
      " 3   Luas_Type_Encoded  130 non-null    int32\n",
      "dtypes: int32(2), int64(2)\n",
      "memory usage: 4.1 KB\n"
     ]
    }
   ],
   "source": [
    "dft.info()"
   ]
  },
  {
   "cell_type": "code",
   "execution_count": 29,
   "id": "b2f10c06",
   "metadata": {},
   "outputs": [
    {
     "name": "stdout",
     "output_type": "stream",
     "text": [
      "     Year  Month  Value_Ireland  Luas_Type_Encoded\n",
      "182  2022      1        1810277                  0\n",
      "183  2022      2        2232074                  0\n",
      "184  2022      3        2677589                  0\n",
      "185  2022      4        2719243                  0\n",
      "186  2022      5        3052020                  0\n",
      "187  2022      6        3185330                  0\n",
      "188  2022      7        3262491                  0\n",
      "189  2022      8        3292231                  0\n",
      "190  2022      9        3811093                  0\n",
      "191  2022     10        4219124                  0\n",
      "192  2022     11        4375705                  0\n",
      "193  2022     12        4030698                  0\n",
      "194  2022      0       38667875                  0\n"
     ]
    }
   ],
   "source": [
    "df_2022 = df[df['Year'] == 2022]\n",
    "\n",
    "print(df_2022)"
   ]
  },
  {
   "cell_type": "code",
   "execution_count": 30,
   "id": "e341dbb7",
   "metadata": {},
   "outputs": [
    {
     "name": "stdout",
     "output_type": "stream",
     "text": [
      "     Year  Month  Value_Ireland  Luas_Type_Encoded\n",
      "182  2022      1        1810277                  0\n",
      "183  2022      2        2232074                  0\n",
      "184  2022      3        2677589                  0\n",
      "185  2022      4        2719243                  0\n",
      "186  2022      5        3052020                  0\n",
      "187  2022      6        3185330                  0\n",
      "188  2022      7        3262491                  0\n",
      "189  2022      8        3292231                  0\n",
      "190  2022      9        3811093                  0\n",
      "191  2022     10        4219124                  0\n",
      "192  2022     11        4375705                  0\n",
      "193  2022     12        4030698                  0\n"
     ]
    }
   ],
   "source": [
    "df2 = df_2022[df_2022['Month'] != 0]\n",
    "print(df2)"
   ]
  },
  {
   "cell_type": "markdown",
   "id": "b1d4cfb5",
   "metadata": {},
   "source": [
    "# df2 = All luas line, year 2022"
   ]
  },
  {
   "cell_type": "code",
   "execution_count": 31,
   "id": "e9918354",
   "metadata": {},
   "outputs": [],
   "source": [
    "missing_values = ['/',' ','-','--','na','Na','n/a','NA','n.a.','?','nan','Nan','nul','Nul','null','Null']\n",
    "\n",
    "df1=pd.read_csv(\"Turkey_Rail_Passenger_Number.csv\", encoding = 'latin-1' ,na_values=missing_values )\n"
   ]
  },
  {
   "cell_type": "code",
   "execution_count": 32,
   "id": "354d601d",
   "metadata": {},
   "outputs": [
    {
     "data": {
      "text/plain": [
       "passage_cnt              0\n",
       "passanger_cnt            0\n",
       "transaction_year         0\n",
       "transaction_month        0\n",
       "transaction_day          0\n",
       "line                     0\n",
       "station_name          3657\n",
       "station_number        3657\n",
       "town                 51100\n",
       "age                      0\n",
       "longitude            85345\n",
       "latitude             85345\n",
       "dtype: int64"
      ]
     },
     "execution_count": 32,
     "metadata": {},
     "output_type": "execute_result"
    }
   ],
   "source": [
    "df1.isnull().sum()"
   ]
  },
  {
   "cell_type": "code",
   "execution_count": 33,
   "id": "1e922217",
   "metadata": {},
   "outputs": [
    {
     "data": {
      "text/plain": [
       "Index(['passage_cnt', 'passanger_cnt', 'transaction_year', 'transaction_month',\n",
       "       'transaction_day', 'line', 'station_name', 'station_number', 'town',\n",
       "       'age', 'longitude', 'latitude'],\n",
       "      dtype='object')"
      ]
     },
     "execution_count": 33,
     "metadata": {},
     "output_type": "execute_result"
    }
   ],
   "source": [
    "df1.columns"
   ]
  },
  {
   "cell_type": "code",
   "execution_count": 34,
   "id": "9c5d0269",
   "metadata": {},
   "outputs": [],
   "source": [
    "df1.drop(columns=[\"station_name\", \"passage_cnt\", \"station_number\", \"town\", \"longitude\", \"latitude\", \"line\"], inplace=True)"
   ]
  },
  {
   "cell_type": "code",
   "execution_count": 35,
   "id": "2796f5f8",
   "metadata": {},
   "outputs": [],
   "source": [
    "df1.rename(columns={ 'transaction_year':'Year', 'transaction_month':'Month',\n",
    "                    'transaction_day':'Day_Turkey', 'passanger_cnt':'Value_Turkey', 'age': 'Age'}, inplace=True)"
   ]
  },
  {
   "cell_type": "code",
   "execution_count": 36,
   "id": "a42f1c4e",
   "metadata": {},
   "outputs": [
    {
     "data": {
      "text/plain": [
       "Value_Turkey    0.0\n",
       "Year            0.0\n",
       "Month           0.0\n",
       "Day_Turkey      0.0\n",
       "Age             0.0\n",
       "dtype: float64"
      ]
     },
     "execution_count": 36,
     "metadata": {},
     "output_type": "execute_result"
    }
   ],
   "source": [
    "df1.isnull().sum() / len(df) * 100"
   ]
  },
  {
   "cell_type": "code",
   "execution_count": 37,
   "id": "f8a7b08d",
   "metadata": {},
   "outputs": [],
   "source": [
    "df1[\"Age_Encoded\"] =l_encoder.fit_transform(df1[\"Age\"])"
   ]
  },
  {
   "cell_type": "code",
   "execution_count": 38,
   "id": "ba8acdf4",
   "metadata": {},
   "outputs": [],
   "source": [
    "df1.drop(columns=[\"Age\"], inplace=True)"
   ]
  },
  {
   "cell_type": "code",
   "execution_count": 39,
   "id": "15b5239e",
   "metadata": {},
   "outputs": [
    {
     "data": {
      "text/html": [
       "<div>\n",
       "<style scoped>\n",
       "    .dataframe tbody tr th:only-of-type {\n",
       "        vertical-align: middle;\n",
       "    }\n",
       "\n",
       "    .dataframe tbody tr th {\n",
       "        vertical-align: top;\n",
       "    }\n",
       "\n",
       "    .dataframe thead th {\n",
       "        text-align: right;\n",
       "    }\n",
       "</style>\n",
       "<table border=\"1\" class=\"dataframe\">\n",
       "  <thead>\n",
       "    <tr style=\"text-align: right;\">\n",
       "      <th></th>\n",
       "      <th>Value_Turkey</th>\n",
       "      <th>Year</th>\n",
       "      <th>Month</th>\n",
       "      <th>Day_Turkey</th>\n",
       "      <th>Age_Encoded</th>\n",
       "    </tr>\n",
       "  </thead>\n",
       "  <tbody>\n",
       "    <tr>\n",
       "      <th>0</th>\n",
       "      <td>1656</td>\n",
       "      <td>2022</td>\n",
       "      <td>1</td>\n",
       "      <td>1</td>\n",
       "      <td>0</td>\n",
       "    </tr>\n",
       "    <tr>\n",
       "      <th>1</th>\n",
       "      <td>2469</td>\n",
       "      <td>2022</td>\n",
       "      <td>1</td>\n",
       "      <td>1</td>\n",
       "      <td>0</td>\n",
       "    </tr>\n",
       "    <tr>\n",
       "      <th>2</th>\n",
       "      <td>2119</td>\n",
       "      <td>2022</td>\n",
       "      <td>1</td>\n",
       "      <td>1</td>\n",
       "      <td>1</td>\n",
       "    </tr>\n",
       "    <tr>\n",
       "      <th>3</th>\n",
       "      <td>3085</td>\n",
       "      <td>2022</td>\n",
       "      <td>1</td>\n",
       "      <td>1</td>\n",
       "      <td>1</td>\n",
       "    </tr>\n",
       "    <tr>\n",
       "      <th>4</th>\n",
       "      <td>1006</td>\n",
       "      <td>2022</td>\n",
       "      <td>1</td>\n",
       "      <td>1</td>\n",
       "      <td>2</td>\n",
       "    </tr>\n",
       "  </tbody>\n",
       "</table>\n",
       "</div>"
      ],
      "text/plain": [
       "   Value_Turkey  Year  Month  Day_Turkey  Age_Encoded\n",
       "0          1656  2022      1           1            0\n",
       "1          2469  2022      1           1            0\n",
       "2          2119  2022      1           1            1\n",
       "3          3085  2022      1           1            1\n",
       "4          1006  2022      1           1            2"
      ]
     },
     "execution_count": 39,
     "metadata": {},
     "output_type": "execute_result"
    }
   ],
   "source": [
    "df1.head(5)"
   ]
  },
  {
   "cell_type": "code",
   "execution_count": 40,
   "id": "594e3cc3",
   "metadata": {},
   "outputs": [
    {
     "name": "stdout",
     "output_type": "stream",
     "text": [
      "    Year  Month  Value_Turkey\n",
      "0   2022      1      61040332\n",
      "1   2022      2      63443256\n",
      "2   2022      3      74738772\n",
      "3   2022      4      71808241\n",
      "4   2022      5      77604746\n",
      "5   2022      6      75487693\n",
      "6   2022      7      62299224\n",
      "7   2022      8      67385807\n",
      "8   2022      9      74674312\n",
      "9   2022     10      89331529\n",
      "10  2022     11      85124266\n",
      "11  2022     12      87866824\n"
     ]
    }
   ],
   "source": [
    "df1['month_day'] = df1['Month'].astype(str).str.zfill(2) + '_' + df1['Day_Turkey'].astype(str).str.zfill(2)\n",
    "\n",
    "df1_2022 = df1.groupby(['Year', 'Month'])['Value_Turkey'].sum().reset_index()\n",
    "\n",
    "print(df1_2022)"
   ]
  },
  {
   "cell_type": "code",
   "execution_count": 41,
   "id": "93a96852",
   "metadata": {},
   "outputs": [
    {
     "data": {
      "text/plain": [
       "(12, 3)"
      ]
     },
     "execution_count": 41,
     "metadata": {},
     "output_type": "execute_result"
    }
   ],
   "source": [
    "df1_2022.shape"
   ]
  },
  {
   "cell_type": "code",
   "execution_count": 42,
   "id": "d65f3df0",
   "metadata": {},
   "outputs": [
    {
     "data": {
      "text/plain": [
       "(12, 4)"
      ]
     },
     "execution_count": 42,
     "metadata": {},
     "output_type": "execute_result"
    }
   ],
   "source": [
    "df2.shape"
   ]
  },
  {
   "cell_type": "markdown",
   "id": "6c19df70",
   "metadata": {},
   "source": [
    "# df1_2022 Turkey all rail, year 2022"
   ]
  },
  {
   "cell_type": "code",
   "execution_count": 43,
   "id": "fd5f987c",
   "metadata": {},
   "outputs": [
    {
     "name": "stdout",
     "output_type": "stream",
     "text": [
      "    Year_x  Month  Value_Ireland  Luas_Type_Encoded  Year_y  Value_Turkey\n",
      "0     2022      1        1810277                  0    2022      61040332\n",
      "1     2022      2        2232074                  0    2022      63443256\n",
      "2     2022      3        2677589                  0    2022      74738772\n",
      "3     2022      4        2719243                  0    2022      71808241\n",
      "4     2022      5        3052020                  0    2022      77604746\n",
      "5     2022      6        3185330                  0    2022      75487693\n",
      "6     2022      7        3262491                  0    2022      62299224\n",
      "7     2022      8        3292231                  0    2022      67385807\n",
      "8     2022      9        3811093                  0    2022      74674312\n",
      "9     2022     10        4219124                  0    2022      89331529\n",
      "10    2022     11        4375705                  0    2022      85124266\n",
      "11    2022     12        4030698                  0    2022      87866824\n"
     ]
    }
   ],
   "source": [
    "merged_df = pd.merge(df2, df1_2022, on='Month', how='outer')\n",
    "\n",
    "print(merged_df)"
   ]
  },
  {
   "cell_type": "code",
   "execution_count": 44,
   "id": "7d826446",
   "metadata": {},
   "outputs": [
    {
     "data": {
      "text/plain": [
       "(12, 6)"
      ]
     },
     "execution_count": 44,
     "metadata": {},
     "output_type": "execute_result"
    }
   ],
   "source": [
    "merged_df.shape"
   ]
  },
  {
   "cell_type": "markdown",
   "id": "9b7f1a3c",
   "metadata": {},
   "source": [
    "# merged_df = Ireland and Turkey 2022"
   ]
  },
  {
   "cell_type": "code",
   "execution_count": 45,
   "id": "ca862d08",
   "metadata": {},
   "outputs": [
    {
     "data": {
      "text/plain": [
       "(65, 4)"
      ]
     },
     "execution_count": 45,
     "metadata": {},
     "output_type": "execute_result"
    }
   ],
   "source": [
    "df.shape"
   ]
  },
  {
   "cell_type": "code",
   "execution_count": 46,
   "id": "9dcee034",
   "metadata": {},
   "outputs": [
    {
     "data": {
      "text/html": [
       "<div>\n",
       "<style scoped>\n",
       "    .dataframe tbody tr th:only-of-type {\n",
       "        vertical-align: middle;\n",
       "    }\n",
       "\n",
       "    .dataframe tbody tr th {\n",
       "        vertical-align: top;\n",
       "    }\n",
       "\n",
       "    .dataframe thead th {\n",
       "        text-align: right;\n",
       "    }\n",
       "</style>\n",
       "<table border=\"1\" class=\"dataframe\">\n",
       "  <thead>\n",
       "    <tr style=\"text-align: right;\">\n",
       "      <th></th>\n",
       "      <th>Year</th>\n",
       "      <th>Month</th>\n",
       "      <th>Value_Ireland</th>\n",
       "      <th>Luas_Type_Encoded</th>\n",
       "    </tr>\n",
       "  </thead>\n",
       "  <tbody>\n",
       "    <tr>\n",
       "      <th>130</th>\n",
       "      <td>2018</td>\n",
       "      <td>1</td>\n",
       "      <td>3218649</td>\n",
       "      <td>0</td>\n",
       "    </tr>\n",
       "    <tr>\n",
       "      <th>131</th>\n",
       "      <td>2018</td>\n",
       "      <td>2</td>\n",
       "      <td>3118289</td>\n",
       "      <td>0</td>\n",
       "    </tr>\n",
       "    <tr>\n",
       "      <th>132</th>\n",
       "      <td>2018</td>\n",
       "      <td>3</td>\n",
       "      <td>3097570</td>\n",
       "      <td>0</td>\n",
       "    </tr>\n",
       "    <tr>\n",
       "      <th>133</th>\n",
       "      <td>2018</td>\n",
       "      <td>4</td>\n",
       "      <td>3350056</td>\n",
       "      <td>0</td>\n",
       "    </tr>\n",
       "    <tr>\n",
       "      <th>134</th>\n",
       "      <td>2018</td>\n",
       "      <td>5</td>\n",
       "      <td>3622338</td>\n",
       "      <td>0</td>\n",
       "    </tr>\n",
       "  </tbody>\n",
       "</table>\n",
       "</div>"
      ],
      "text/plain": [
       "     Year  Month  Value_Ireland  Luas_Type_Encoded\n",
       "130  2018      1        3218649                  0\n",
       "131  2018      2        3118289                  0\n",
       "132  2018      3        3097570                  0\n",
       "133  2018      4        3350056                  0\n",
       "134  2018      5        3622338                  0"
      ]
     },
     "execution_count": 46,
     "metadata": {},
     "output_type": "execute_result"
    }
   ],
   "source": [
    "df.head(5)"
   ]
  },
  {
   "cell_type": "code",
   "execution_count": 47,
   "id": "61e19b67",
   "metadata": {},
   "outputs": [
    {
     "data": {
      "text/html": [
       "<div>\n",
       "<style scoped>\n",
       "    .dataframe tbody tr th:only-of-type {\n",
       "        vertical-align: middle;\n",
       "    }\n",
       "\n",
       "    .dataframe tbody tr th {\n",
       "        vertical-align: top;\n",
       "    }\n",
       "\n",
       "    .dataframe thead th {\n",
       "        text-align: right;\n",
       "    }\n",
       "</style>\n",
       "<table border=\"1\" class=\"dataframe\">\n",
       "  <thead>\n",
       "    <tr style=\"text-align: right;\">\n",
       "      <th></th>\n",
       "      <th>count</th>\n",
       "      <th>mean</th>\n",
       "      <th>std</th>\n",
       "      <th>min</th>\n",
       "      <th>25%</th>\n",
       "      <th>50%</th>\n",
       "      <th>75%</th>\n",
       "      <th>max</th>\n",
       "    </tr>\n",
       "  </thead>\n",
       "  <tbody>\n",
       "    <tr>\n",
       "      <th>Year</th>\n",
       "      <td>65.0</td>\n",
       "      <td>2.020000e+03</td>\n",
       "      <td>1.425219e+00</td>\n",
       "      <td>2018.0</td>\n",
       "      <td>2019.0</td>\n",
       "      <td>2020.0</td>\n",
       "      <td>2021.0</td>\n",
       "      <td>2022.0</td>\n",
       "    </tr>\n",
       "    <tr>\n",
       "      <th>Month</th>\n",
       "      <td>65.0</td>\n",
       "      <td>6.000000e+00</td>\n",
       "      <td>3.770776e+00</td>\n",
       "      <td>0.0</td>\n",
       "      <td>3.0</td>\n",
       "      <td>6.0</td>\n",
       "      <td>9.0</td>\n",
       "      <td>12.0</td>\n",
       "    </tr>\n",
       "    <tr>\n",
       "      <th>Value_Ireland</th>\n",
       "      <td>65.0</td>\n",
       "      <td>5.154137e+06</td>\n",
       "      <td>8.979080e+06</td>\n",
       "      <td>228633.0</td>\n",
       "      <td>1821536.0</td>\n",
       "      <td>3292231.0</td>\n",
       "      <td>3919977.0</td>\n",
       "      <td>48347231.0</td>\n",
       "    </tr>\n",
       "    <tr>\n",
       "      <th>Luas_Type_Encoded</th>\n",
       "      <td>65.0</td>\n",
       "      <td>0.000000e+00</td>\n",
       "      <td>0.000000e+00</td>\n",
       "      <td>0.0</td>\n",
       "      <td>0.0</td>\n",
       "      <td>0.0</td>\n",
       "      <td>0.0</td>\n",
       "      <td>0.0</td>\n",
       "    </tr>\n",
       "  </tbody>\n",
       "</table>\n",
       "</div>"
      ],
      "text/plain": [
       "                   count          mean           std       min        25%  \\\n",
       "Year                65.0  2.020000e+03  1.425219e+00    2018.0     2019.0   \n",
       "Month               65.0  6.000000e+00  3.770776e+00       0.0        3.0   \n",
       "Value_Ireland       65.0  5.154137e+06  8.979080e+06  228633.0  1821536.0   \n",
       "Luas_Type_Encoded   65.0  0.000000e+00  0.000000e+00       0.0        0.0   \n",
       "\n",
       "                         50%        75%         max  \n",
       "Year                  2020.0     2021.0      2022.0  \n",
       "Month                    6.0        9.0        12.0  \n",
       "Value_Ireland      3292231.0  3919977.0  48347231.0  \n",
       "Luas_Type_Encoded        0.0        0.0         0.0  "
      ]
     },
     "execution_count": 47,
     "metadata": {},
     "output_type": "execute_result"
    }
   ],
   "source": [
    "df.describe().T"
   ]
  },
  {
   "cell_type": "code",
   "execution_count": 48,
   "id": "34c29e4a",
   "metadata": {},
   "outputs": [],
   "source": [
    "years = dft.loc[dft['Year'] != 0]"
   ]
  },
  {
   "cell_type": "code",
   "execution_count": 49,
   "id": "8bd5c589",
   "metadata": {},
   "outputs": [
    {
     "data": {
      "text/html": [
       "<div>\n",
       "<style scoped>\n",
       "    .dataframe tbody tr th:only-of-type {\n",
       "        vertical-align: middle;\n",
       "    }\n",
       "\n",
       "    .dataframe tbody tr th {\n",
       "        vertical-align: top;\n",
       "    }\n",
       "\n",
       "    .dataframe thead th {\n",
       "        text-align: right;\n",
       "    }\n",
       "</style>\n",
       "<table border=\"1\" class=\"dataframe\">\n",
       "  <thead>\n",
       "    <tr style=\"text-align: right;\">\n",
       "      <th></th>\n",
       "      <th>Year</th>\n",
       "      <th>Month</th>\n",
       "      <th>Value_Ireland</th>\n",
       "      <th>Luas_Type_Encoded</th>\n",
       "    </tr>\n",
       "  </thead>\n",
       "  <tbody>\n",
       "    <tr>\n",
       "      <th>0</th>\n",
       "      <td>2018</td>\n",
       "      <td>1</td>\n",
       "      <td>1664495</td>\n",
       "      <td>1</td>\n",
       "    </tr>\n",
       "    <tr>\n",
       "      <th>1</th>\n",
       "      <td>2018</td>\n",
       "      <td>2</td>\n",
       "      <td>1657562</td>\n",
       "      <td>1</td>\n",
       "    </tr>\n",
       "    <tr>\n",
       "      <th>2</th>\n",
       "      <td>2018</td>\n",
       "      <td>3</td>\n",
       "      <td>1661098</td>\n",
       "      <td>1</td>\n",
       "    </tr>\n",
       "    <tr>\n",
       "      <th>3</th>\n",
       "      <td>2018</td>\n",
       "      <td>4</td>\n",
       "      <td>1794424</td>\n",
       "      <td>1</td>\n",
       "    </tr>\n",
       "    <tr>\n",
       "      <th>4</th>\n",
       "      <td>2018</td>\n",
       "      <td>5</td>\n",
       "      <td>1934553</td>\n",
       "      <td>1</td>\n",
       "    </tr>\n",
       "  </tbody>\n",
       "</table>\n",
       "</div>"
      ],
      "text/plain": [
       "   Year  Month  Value_Ireland  Luas_Type_Encoded\n",
       "0  2018      1        1664495                  1\n",
       "1  2018      2        1657562                  1\n",
       "2  2018      3        1661098                  1\n",
       "3  2018      4        1794424                  1\n",
       "4  2018      5        1934553                  1"
      ]
     },
     "execution_count": 49,
     "metadata": {},
     "output_type": "execute_result"
    }
   ],
   "source": [
    "dft.head(5)"
   ]
  },
  {
   "cell_type": "code",
   "execution_count": 50,
   "id": "a2e84cfd",
   "metadata": {},
   "outputs": [
    {
     "data": {
      "image/png": "[encoded data removed]",
      "text/plain": [
       "<Figure size 640x480 with 1 Axes>"
      ]
     },
     "metadata": {},
     "output_type": "display_data"
    }
   ],
   "source": [
    "import matplotlib.ticker as ticker\n",
    "\n",
    "# Apply sns.boxplot to visualise the distribution of completed projects along different years.\n",
    "# Use the 'years' dataframe as the data source and specify 'Completed_Year' as the column to group the data by.\n",
    "\n",
    "sns.boxplot(data=years, x='Year')\n",
    "\n",
    "# Set the title of the box plot using the plt.title() function\n",
    "\n",
    "plt.title('Passenger number in years')\n",
    "\n",
    "# Convert the years in the y-axis to integers for better visualization\n",
    "\n",
    "# Apply the .gca() method to get the current axes and apply the xaxis attribute set the x-axis tick locator to display\n",
    "# integers only\n",
    "\n",
    "plt.gca().xaxis.set_major_locator(ticker.MaxNLocator(integer=True))\n",
    "\n",
    "# Call the plt.show() function to display the box plot\n",
    "\n",
    "plt.show()"
   ]
  },
  {
   "cell_type": "code",
   "execution_count": 57,
   "id": "b5bbeb12",
   "metadata": {},
   "outputs": [
    {
     "data": {
      "image/png": "[encoded data removed]",
      "text/plain": [
       "<Figure size 640x480 with 1 Axes>"
      ]
     },
     "metadata": {},
     "output_type": "display_data"
    }
   ],
   "source": [
    "# Plot a scatter plot to visualize the relationship between Value_Ireland and years\n",
    "\n",
    "plt.scatter(dft[\"Year\"], dft[\"Value_Ireland\"])\n",
    "\n",
    "# Name the x axis, the y axis and the plot by applying the the plt.xlabel() function, the plt.ylabel() function, and the\n",
    "# plt.title() function respectively\n",
    "\n",
    "plt.xlabel(\"Passenger\")\n",
    "plt.ylabel(\"Year\")\n",
    "plt.title('Correlation between Passenger and Year')\n",
    "\n",
    "# Apply plt.gca() to get the current axes instance\n",
    "\n",
    "# Use the .yaxis attribute to access the y-axis of the current axes\n",
    "\n",
    "# Use the .set_major_locator() method to set the tick locator for the major ticks on the y-axis\n",
    "\n",
    "# Pass plt.MaxNLocator(integer=True) to the .set_major_locator() method to ensure that the tick locations are integers\n",
    "\n",
    "plt.gca().yaxis.set_major_locator(plt.MaxNLocator(integer=True))\n",
    "\n",
    "# Call plt.show() to display the plot\n",
    "\n",
    "plt.show()"
   ]
  },
  {
   "cell_type": "code",
   "execution_count": 58,
   "id": "da1d0ed0",
   "metadata": {},
   "outputs": [
    {
     "data": {
      "text/html": [
       "<div>\n",
       "<style scoped>\n",
       "    .dataframe tbody tr th:only-of-type {\n",
       "        vertical-align: middle;\n",
       "    }\n",
       "\n",
       "    .dataframe tbody tr th {\n",
       "        vertical-align: top;\n",
       "    }\n",
       "\n",
       "    .dataframe thead th {\n",
       "        text-align: right;\n",
       "    }\n",
       "</style>\n",
       "<table border=\"1\" class=\"dataframe\">\n",
       "  <thead>\n",
       "    <tr style=\"text-align: right;\">\n",
       "      <th></th>\n",
       "      <th>Year</th>\n",
       "      <th>Month</th>\n",
       "      <th>Value_Ireland</th>\n",
       "      <th>Luas_Type_Encoded</th>\n",
       "    </tr>\n",
       "  </thead>\n",
       "  <tbody>\n",
       "    <tr>\n",
       "      <th>Year</th>\n",
       "      <td>1.000000e+00</td>\n",
       "      <td>2.435632e-14</td>\n",
       "      <td>-0.085967</td>\n",
       "      <td>NaN</td>\n",
       "    </tr>\n",
       "    <tr>\n",
       "      <th>Month</th>\n",
       "      <td>2.435632e-14</td>\n",
       "      <td>1.000000e+00</td>\n",
       "      <td>-0.399365</td>\n",
       "      <td>NaN</td>\n",
       "    </tr>\n",
       "    <tr>\n",
       "      <th>Value_Ireland</th>\n",
       "      <td>-8.596660e-02</td>\n",
       "      <td>-3.993647e-01</td>\n",
       "      <td>1.000000</td>\n",
       "      <td>NaN</td>\n",
       "    </tr>\n",
       "    <tr>\n",
       "      <th>Luas_Type_Encoded</th>\n",
       "      <td>NaN</td>\n",
       "      <td>NaN</td>\n",
       "      <td>NaN</td>\n",
       "      <td>NaN</td>\n",
       "    </tr>\n",
       "  </tbody>\n",
       "</table>\n",
       "</div>"
      ],
      "text/plain": [
       "                           Year         Month  Value_Ireland  \\\n",
       "Year               1.000000e+00  2.435632e-14      -0.085967   \n",
       "Month              2.435632e-14  1.000000e+00      -0.399365   \n",
       "Value_Ireland     -8.596660e-02 -3.993647e-01       1.000000   \n",
       "Luas_Type_Encoded           NaN           NaN            NaN   \n",
       "\n",
       "                   Luas_Type_Encoded  \n",
       "Year                             NaN  \n",
       "Month                            NaN  \n",
       "Value_Ireland                    NaN  \n",
       "Luas_Type_Encoded                NaN  "
      ]
     },
     "execution_count": 58,
     "metadata": {},
     "output_type": "execute_result"
    },
    {
     "data": {
      "image/png": "[encoded data removed]",
      "text/plain": [
       "<Figure size 2000x1000 with 2 Axes>"
      ]
     },
     "metadata": {},
     "output_type": "display_data"
    }
   ],
   "source": [
    "# Call the plt.figure() functionto determine the dimensions of the correlation heatmap\n",
    "\n",
    "plt.figure(figsize=(20,10))\n",
    "\n",
    "# Define the variable 'c' which is going to be a table containng the correlation coefficients\n",
    "\n",
    "c= df.corr()\n",
    "\n",
    "# Apply sns.heatmap() to plot the heatmap and include 'c', define the colormap as brown, blue, and green,\n",
    "# and apply annot=True so that the correlation coefficients are visible within the heatmap\n",
    "\n",
    "sns.heatmap(c,cmap=\"BrBG\",annot=True)\n",
    "\n",
    "# Print 'c' to show a table with the correlation coefficients\n",
    "\n",
    "c"
   ]
  },
  {
   "cell_type": "code",
   "execution_count": 59,
   "id": "b4e42810",
   "metadata": {},
   "outputs": [
    {
     "data": {
      "image/png": "[encoded data removed]",
      "text/plain": [
       "<Figure size 640x480 with 1 Axes>"
      ]
     },
     "metadata": {},
     "output_type": "display_data"
    }
   ],
   "source": [
    "# Plot a scatter plot to visualize the relationship between units and years\n",
    "\n",
    "# Call the plt.scatter() function to create a scatter plot with the 'Units' as x-axis values and 'Completed_Year' as y-axis\n",
    "#values\n",
    "\n",
    "plt.scatter(df[\"Value_Ireland\"], df[\"Year\"])\n",
    "\n",
    "# Name the x axis, the y axis and the plot by applying the the plt.xlabel() function, the plt.ylabel() function, and the\n",
    "# plt.title() function respectively\n",
    "\n",
    "plt.xlabel(\"Units\")\n",
    "plt.ylabel(\"Year\")\n",
    "plt.title('Correlation between Passenger and Years')\n",
    "\n",
    "# Apply plt.gca() to get the current axes instance\n",
    "\n",
    "# Use the .yaxis attribute to access the y-axis of the current axes\n",
    "\n",
    "# Use the .set_major_locator() method to set the tick locator for the major ticks on the y-axis\n",
    "\n",
    "# Pass plt.MaxNLocator(integer=True) to the .set_major_locator() method to ensure that the tick locations are integers\n",
    "\n",
    "plt.gca().yaxis.set_major_locator(plt.MaxNLocator(integer=True))\n",
    "\n",
    "# Call plt.show() to display the plot\n",
    "\n",
    "plt.show()"
   ]
  },
  {
   "cell_type": "code",
   "execution_count": 62,
   "id": "b2390646",
   "metadata": {},
   "outputs": [
    {
     "name": "stdout",
     "output_type": "stream",
     "text": [
      "95.0% confidence interval for the average number of Passenger number by year': [2929229.83, 7379043.96]\n"
     ]
    }
   ],
   "source": [
    "from scipy import stats\n",
    "\n",
    "# Calculate the confidence intervals\n",
    "\n",
    "# Extract the data for the 'Units' variable\n",
    "\n",
    "Values = df['Value_Ireland']\n",
    "\n",
    "# Calculate the sample mean and standard deviation\n",
    "sample_mean = np.mean(Values)\n",
    "sample_std = np.std(Values, ddof=1) # use ddof=1 to get the sample standard deviation\n",
    "n = len(Values)\n",
    "\n",
    "# Set the desired confidence level\n",
    "confidence_level = 0.95\n",
    "alpha = 1 - confidence_level\n",
    "\n",
    "# Calculate the margin of error\n",
    "margin_of_error = stats.t.ppf(1 - alpha/2, n-1) * sample_std / np.sqrt(n)\n",
    "\n",
    "# Calculate the confidence interval\n",
    "ci_lower = sample_mean - margin_of_error\n",
    "ci_upper = sample_mean + margin_of_error\n",
    "\n",
    "print(f\"{confidence_level*100:.1f}% confidence interval for the average number of Passenger number by year': [{ci_lower:.2f}, {ci_upper:.2f}]\")"
   ]
  },
  {
   "cell_type": "code",
   "execution_count": 63,
   "id": "9e19a666",
   "metadata": {},
   "outputs": [
    {
     "data": {
      "text/html": [
       "<div>\n",
       "<style scoped>\n",
       "    .dataframe tbody tr th:only-of-type {\n",
       "        vertical-align: middle;\n",
       "    }\n",
       "\n",
       "    .dataframe tbody tr th {\n",
       "        vertical-align: top;\n",
       "    }\n",
       "\n",
       "    .dataframe thead th {\n",
       "        text-align: right;\n",
       "    }\n",
       "</style>\n",
       "<table border=\"1\" class=\"dataframe\">\n",
       "  <thead>\n",
       "    <tr style=\"text-align: right;\">\n",
       "      <th></th>\n",
       "      <th>Year</th>\n",
       "      <th>Month</th>\n",
       "      <th>Value_Ireland</th>\n",
       "      <th>Luas_Type_Encoded</th>\n",
       "    </tr>\n",
       "  </thead>\n",
       "  <tbody>\n",
       "    <tr>\n",
       "      <th>130</th>\n",
       "      <td>2018</td>\n",
       "      <td>1</td>\n",
       "      <td>3218649</td>\n",
       "      <td>0</td>\n",
       "    </tr>\n",
       "    <tr>\n",
       "      <th>131</th>\n",
       "      <td>2018</td>\n",
       "      <td>2</td>\n",
       "      <td>3118289</td>\n",
       "      <td>0</td>\n",
       "    </tr>\n",
       "    <tr>\n",
       "      <th>132</th>\n",
       "      <td>2018</td>\n",
       "      <td>3</td>\n",
       "      <td>3097570</td>\n",
       "      <td>0</td>\n",
       "    </tr>\n",
       "    <tr>\n",
       "      <th>133</th>\n",
       "      <td>2018</td>\n",
       "      <td>4</td>\n",
       "      <td>3350056</td>\n",
       "      <td>0</td>\n",
       "    </tr>\n",
       "    <tr>\n",
       "      <th>134</th>\n",
       "      <td>2018</td>\n",
       "      <td>5</td>\n",
       "      <td>3622338</td>\n",
       "      <td>0</td>\n",
       "    </tr>\n",
       "  </tbody>\n",
       "</table>\n",
       "</div>"
      ],
      "text/plain": [
       "     Year  Month  Value_Ireland  Luas_Type_Encoded\n",
       "130  2018      1        3218649                  0\n",
       "131  2018      2        3118289                  0\n",
       "132  2018      3        3097570                  0\n",
       "133  2018      4        3350056                  0\n",
       "134  2018      5        3622338                  0"
      ]
     },
     "execution_count": 63,
     "metadata": {},
     "output_type": "execute_result"
    }
   ],
   "source": [
    "df.head(5)"
   ]
  },
  {
   "cell_type": "code",
   "execution_count": 68,
   "id": "d1c6fbd7",
   "metadata": {},
   "outputs": [
    {
     "data": {
      "image/png": "[encoded data removed]",
      "text/plain": [
       "<Figure size 1000x600 with 1 Axes>"
      ]
     },
     "metadata": {},
     "output_type": "display_data"
    }
   ],
   "source": [
    "Value_Year = df.groupby('Year')['Value_Ireland'].sum().reset_index()\n",
    "\n",
    "# Sort the county_units dataframe by the total number of units in descending order\n",
    "Value_Year = Value_Year.sort_values('Value_Ireland', ascending=False)\n",
    "\n",
    "# Set the figure size to (10, 6) inches\n",
    "\n",
    "plt.figure(figsize=(10, 6))\n",
    "\n",
    "# Create a countplot to visualize the total projects per county\n",
    "\n",
    "sns.barplot(data=Value_Year, x='Year', y='Value_Ireland')\n",
    "\n",
    "# Set the title,the x label, and the y label of the plot by applying the the plt.title() function, the plt.xlabel() function,\n",
    "# abd the plt.ylabel() function respectively\n",
    "\n",
    "plt.title('Passenger Number by Year')\n",
    "plt.xlabel('Year')\n",
    "plt.ylabel('Passenger Number')\n",
    "\n",
    "# Rotate the x-axis labels for better readability using the xticks() function\n",
    "\n",
    "plt.xticks(rotation=30)\n",
    "\n",
    "# Display the plot using the show() function\n",
    "\n",
    "plt.show()"
   ]
  },
  {
   "cell_type": "code",
   "execution_count": 81,
   "id": "6db2492d",
   "metadata": {},
   "outputs": [
    {
     "data": {
      "text/html": [
       "<div>\n",
       "<style scoped>\n",
       "    .dataframe tbody tr th:only-of-type {\n",
       "        vertical-align: middle;\n",
       "    }\n",
       "\n",
       "    .dataframe tbody tr th {\n",
       "        vertical-align: top;\n",
       "    }\n",
       "\n",
       "    .dataframe thead th {\n",
       "        text-align: right;\n",
       "    }\n",
       "</style>\n",
       "<table border=\"1\" class=\"dataframe\">\n",
       "  <thead>\n",
       "    <tr style=\"text-align: right;\">\n",
       "      <th></th>\n",
       "      <th>Year</th>\n",
       "      <th>Month</th>\n",
       "      <th>Value_Ireland</th>\n",
       "      <th>Luas_Type_Encoded</th>\n",
       "    </tr>\n",
       "  </thead>\n",
       "  <tbody>\n",
       "    <tr>\n",
       "      <th>0</th>\n",
       "      <td>2018</td>\n",
       "      <td>1</td>\n",
       "      <td>1664495</td>\n",
       "      <td>1</td>\n",
       "    </tr>\n",
       "    <tr>\n",
       "      <th>1</th>\n",
       "      <td>2018</td>\n",
       "      <td>2</td>\n",
       "      <td>1657562</td>\n",
       "      <td>1</td>\n",
       "    </tr>\n",
       "    <tr>\n",
       "      <th>2</th>\n",
       "      <td>2018</td>\n",
       "      <td>3</td>\n",
       "      <td>1661098</td>\n",
       "      <td>1</td>\n",
       "    </tr>\n",
       "    <tr>\n",
       "      <th>3</th>\n",
       "      <td>2018</td>\n",
       "      <td>4</td>\n",
       "      <td>1794424</td>\n",
       "      <td>1</td>\n",
       "    </tr>\n",
       "    <tr>\n",
       "      <th>4</th>\n",
       "      <td>2018</td>\n",
       "      <td>5</td>\n",
       "      <td>1934553</td>\n",
       "      <td>1</td>\n",
       "    </tr>\n",
       "  </tbody>\n",
       "</table>\n",
       "</div>"
      ],
      "text/plain": [
       "   Year  Month  Value_Ireland  Luas_Type_Encoded\n",
       "0  2018      1        1664495                  1\n",
       "1  2018      2        1657562                  1\n",
       "2  2018      3        1661098                  1\n",
       "3  2018      4        1794424                  1\n",
       "4  2018      5        1934553                  1"
      ]
     },
     "execution_count": 81,
     "metadata": {},
     "output_type": "execute_result"
    }
   ],
   "source": [
    "dft.head(5)"
   ]
  },
  {
   "cell_type": "code",
   "execution_count": 90,
   "id": "124609ee",
   "metadata": {},
   "outputs": [
    {
     "data": {
      "image/png": "[encoded data removed]",
      "text/plain": [
       "<Figure size 1500x1000 with 1 Axes>"
      ]
     },
     "metadata": {},
     "output_type": "display_data"
    }
   ],
   "source": [
    "plt.figure(figsize=(15, 10))\n",
    "sns.lineplot(data=dft, x='Year', y='Value_Ireland', hue='Luas_Type_Encoded')\n",
    "plt.show()"
   ]
  },
  {
   "cell_type": "code",
   "execution_count": 87,
   "id": "7b21bef2",
   "metadata": {},
   "outputs": [
    {
     "data": {
      "text/plain": [
       "Year\n",
       "2019    3.719018e+06\n",
       "2018    3.218228e+06\n",
       "2022    2.974452e+06\n",
       "2021    1.498563e+06\n",
       "2020    1.475081e+06\n",
       "Name: Value_Ireland, dtype: float64"
      ]
     },
     "execution_count": 87,
     "metadata": {},
     "output_type": "execute_result"
    }
   ],
   "source": [
    "dft.groupby('Year')['Value_Ireland'].mean().sort_values(ascending=False)"
   ]
  },
  {
   "cell_type": "markdown",
   "id": "8a4044c2",
   "metadata": {},
   "source": [
    "# STATISTICS"
   ]
  },
  {
   "cell_type": "code",
   "execution_count": 93,
   "id": "367c4d60",
   "metadata": {},
   "outputs": [
    {
     "name": "stdout",
     "output_type": "stream",
     "text": [
      "Statistic: 0.9672, p-value: 0.8796\n",
      "The data is normally distributed\n"
     ]
    }
   ],
   "source": [
    "# Check normality to determine which tests to use\n",
    "\n",
    "# Import stats from the scipy library\n",
    "\n",
    "from scipy import stats\n",
    "\n",
    "# Extract data from the 'Obs_Value'\n",
    "\n",
    "data = df2['Value_Ireland']\n",
    "\n",
    "# Perform the Shapiro-Wilk test\n",
    "\n",
    "statistic, p_value = stats.shapiro(data)\n",
    "\n",
    "# Print the results\n",
    "\n",
    "print(f'Statistic: {statistic:.4f}, p-value: {p_value:.4f}')\n",
    "\n",
    "# Interpret the results\n",
    "\n",
    "alpha = 0.05\n",
    "if p_value > alpha:\n",
    "    print('The data is normally distributed')\n",
    "else:\n",
    "    print('The data is not normally distributed')"
   ]
  },
  {
   "cell_type": "markdown",
   "id": "9f011c40",
   "metadata": {},
   "source": [
    "A Kruskal-Wallis H-test will be applied to measure the difference in price index between two chosen countries: Turkey and Ireland, given that they have been the countries with higher passenger number. This test has been chosen because the data is not normally distributed.\n",
    "\n",
    "H0(null hypothesis): there is no significant difference between the average price in Turkey and Ireland\n",
    "\n",
    "H1(alternative hypothesis): there is a significant difference between the average price in Turkey and Ireland"
   ]
  },
  {
   "cell_type": "code",
   "execution_count": null,
   "id": "58c1cebb",
   "metadata": {},
   "outputs": [],
   "source": [
    "# Select data for Turkey\n",
    "\n",
    "# extract the house price index data for each country\n",
    "tukey = df1_2022[df1_2022['Value_Turkey'] == 'ES']['Value_Turkey']\n",
    "\n",
    "# Select data for Ireland\n",
    "\n",
    "ireland = prices_eu[prices_eu['Geo'] == 'IE']['Obs_Value']\n",
    "\n",
    "# perform the Kruskal-Wallis H-test\n",
    "statistic, p_value = stats.kruskal(spain, ireland)\n",
    "\n",
    "# print the results\n",
    "print(f'Statistic: {statistic:.4f}, p-value: {p_value:.4f}')"
   ]
  }
 ],
 "metadata": {
  "kernelspec": {
   "display_name": "Python 3 (ipykernel)",
   "language": "python",
   "name": "python3"
  },
  "language_info": {
   "codemirror_mode": {
    "name": "ipython",
    "version": 3
   },
   "file_extension": ".py",
   "mimetype": "text/x-python",
   "name": "python",
   "nbconvert_exporter": "python",
   "pygments_lexer": "ipython3",
   "version": "3.11.4"
  }
 },
 "nbformat": 4,
 "nbformat_minor": 5
}
