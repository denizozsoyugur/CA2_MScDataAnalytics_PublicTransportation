{
 "cells": [
  {
   "cell_type": "markdown",
   "id": "c684b9e6",
   "metadata": {},
   "source": [
    "# Link to Dataset"
   ]
  },
  {
   "cell_type": "markdown",
   "id": "70186989",
   "metadata": {},
   "source": [
    "Ireland\n",
    "\n",
    "https://data.gov.ie/dataset/toa11-luas-passenger-numbers"
   ]
  },
  {
   "cell_type": "markdown",
   "id": "a52cca27",
   "metadata": {},
   "source": [
    "Turkey \n",
    "\n",
    "API\n",
    "\n",
    "https://data.ibb.gov.tr/tr/datastore/odata3.0/5c2b78fc-3b68-4722-844f-3051c358a13f\n",
    "        \n",
    "CSV\n",
    "\n",
    "https://data.ibb.gov.tr/en/dataset/d3df8db4-1ac6-4bfe-8896-7ec1159caa2b/resource/8bed95de-bbe2-4550-80f2-87ca51a97f3d/download/2022-yl-ya-grubuna-gore-rayl-sistemler-istasyon-bazl-yolcu-ve-yolculuk-saylar.csv\n",
    "\n",
    "https://data.ibb.gov.tr/en/dataset/rayli-sistemler-istasyon-bazli-yolcu-ve-yolculuk-sayilari/resource/5c2b78fc-3b68-4722-844f-3051c358a13f"
   ]
  },
  {
   "cell_type": "code",
   "execution_count": 1,
   "id": "fc4fc35f",
   "metadata": {},
   "outputs": [],
   "source": [
    "# Import NumPy, Pandas, Matplotlib, Seaborn libraries and Plotly Express, and Sci\n",
    "\n",
    "import numpy as np\n",
    "import pandas as pd\n",
    "from matplotlib import pyplot as plt\n",
    "import seaborn as sns\n",
    "import plotly.express as px\n",
    "\n",
    "# Import warnings and applyt filterwarnings to ignore them.\n",
    "\n",
    "import warnings\n",
    "warnings.filterwarnings('ignore')"
   ]
  },
  {
   "cell_type": "code",
   "execution_count": 2,
   "id": "51335732",
   "metadata": {},
   "outputs": [],
   "source": [
    "df = pd.read_csv(\"Luas_Passenger_Number.csv\")\n",
    "\n",
    "# pd.read_csv function in order to read the csv file containing the population estimated construction status report"
   ]
  },
  {
   "cell_type": "code",
   "execution_count": 3,
   "id": "b72dd301",
   "metadata": {},
   "outputs": [],
   "source": [
    "df1=pd.read_csv(\"Turkey_Rail_Passenger_Number.csv\", encoding = 'latin-1')"
   ]
  },
  {
   "cell_type": "markdown",
   "id": "9f572e5e",
   "metadata": {},
   "source": [
    "df1 = pd.read_csv(\"Turkey_Rail_Passenger_Number.csv\")\n",
    "\n",
    "A problem was encountered when trying to open the file. To fix the problem, it was observed that there was a problem decoding a byte in the file using the 'utf-8' encoding, so an addition to the code was made accordingly."
   ]
  },
  {
   "cell_type": "code",
   "execution_count": 4,
   "id": "8446be35",
   "metadata": {},
   "outputs": [
    {
     "data": {
      "text/html": [
       "<div>\n",
       "<style scoped>\n",
       "    .dataframe tbody tr th:only-of-type {\n",
       "        vertical-align: middle;\n",
       "    }\n",
       "\n",
       "    .dataframe tbody tr th {\n",
       "        vertical-align: top;\n",
       "    }\n",
       "\n",
       "    .dataframe thead th {\n",
       "        text-align: right;\n",
       "    }\n",
       "</style>\n",
       "<table border=\"1\" class=\"dataframe\">\n",
       "  <thead>\n",
       "    <tr style=\"text-align: right;\">\n",
       "      <th></th>\n",
       "      <th>STATISTIC</th>\n",
       "      <th>Statistic Label</th>\n",
       "      <th>TLIST(A1)</th>\n",
       "      <th>Year</th>\n",
       "      <th>C01885V02316</th>\n",
       "      <th>Month</th>\n",
       "      <th>UNIT</th>\n",
       "      <th>VALUE</th>\n",
       "    </tr>\n",
       "  </thead>\n",
       "  <tbody>\n",
       "    <tr>\n",
       "      <th>0</th>\n",
       "      <td>TOA11C01</td>\n",
       "      <td>Red line</td>\n",
       "      <td>2018</td>\n",
       "      <td>2018</td>\n",
       "      <td>1</td>\n",
       "      <td>January</td>\n",
       "      <td>Number</td>\n",
       "      <td>1664495</td>\n",
       "    </tr>\n",
       "    <tr>\n",
       "      <th>1</th>\n",
       "      <td>TOA11C01</td>\n",
       "      <td>Red line</td>\n",
       "      <td>2018</td>\n",
       "      <td>2018</td>\n",
       "      <td>2</td>\n",
       "      <td>February</td>\n",
       "      <td>Number</td>\n",
       "      <td>1657562</td>\n",
       "    </tr>\n",
       "    <tr>\n",
       "      <th>2</th>\n",
       "      <td>TOA11C01</td>\n",
       "      <td>Red line</td>\n",
       "      <td>2018</td>\n",
       "      <td>2018</td>\n",
       "      <td>3</td>\n",
       "      <td>March</td>\n",
       "      <td>Number</td>\n",
       "      <td>1661098</td>\n",
       "    </tr>\n",
       "    <tr>\n",
       "      <th>3</th>\n",
       "      <td>TOA11C01</td>\n",
       "      <td>Red line</td>\n",
       "      <td>2018</td>\n",
       "      <td>2018</td>\n",
       "      <td>4</td>\n",
       "      <td>April</td>\n",
       "      <td>Number</td>\n",
       "      <td>1794424</td>\n",
       "    </tr>\n",
       "    <tr>\n",
       "      <th>4</th>\n",
       "      <td>TOA11C01</td>\n",
       "      <td>Red line</td>\n",
       "      <td>2018</td>\n",
       "      <td>2018</td>\n",
       "      <td>5</td>\n",
       "      <td>May</td>\n",
       "      <td>Number</td>\n",
       "      <td>1934553</td>\n",
       "    </tr>\n",
       "  </tbody>\n",
       "</table>\n",
       "</div>"
      ],
      "text/plain": [
       "  STATISTIC Statistic Label  TLIST(A1)  Year C01885V02316     Month    UNIT  \\\n",
       "0  TOA11C01        Red line       2018  2018            1   January  Number   \n",
       "1  TOA11C01        Red line       2018  2018            2  February  Number   \n",
       "2  TOA11C01        Red line       2018  2018            3     March  Number   \n",
       "3  TOA11C01        Red line       2018  2018            4     April  Number   \n",
       "4  TOA11C01        Red line       2018  2018            5       May  Number   \n",
       "\n",
       "     VALUE  \n",
       "0  1664495  \n",
       "1  1657562  \n",
       "2  1661098  \n",
       "3  1794424  \n",
       "4  1934553  "
      ]
     },
     "execution_count": 4,
     "metadata": {},
     "output_type": "execute_result"
    }
   ],
   "source": [
    "df.head(5)"
   ]
  },
  {
   "cell_type": "code",
   "execution_count": 5,
   "id": "a857cb55",
   "metadata": {},
   "outputs": [],
   "source": [
    "missing_values = ['/',' ','-','--','na','Na','n/a','NA','n.a.','?','nan','Nan','nul','Nul','null','Null']\n",
    "\n",
    "df= pd.read_csv('Luas_Passenger_Number.csv',na_values=missing_values)\n",
    "\n",
    "# Create a list with all the possible missing value formats. Create a name for the dataframe as report\n",
    "# ('PopulationEstimatesDatabase1')and apply the pd.read_csv function \n",
    "# Include the variable 'na_values' and define it with the 'missing values' list previously created"
   ]
  },
  {
   "cell_type": "code",
   "execution_count": 6,
   "id": "88b425e5",
   "metadata": {},
   "outputs": [
    {
     "data": {
      "text/plain": [
       "STATISTIC           0\n",
       "Statistic Label     0\n",
       "TLIST(A1)           0\n",
       "Year                0\n",
       "C01885V02316       15\n",
       "Month               0\n",
       "UNIT                0\n",
       "VALUE               0\n",
       "dtype: int64"
      ]
     },
     "execution_count": 6,
     "metadata": {},
     "output_type": "execute_result"
    }
   ],
   "source": [
    "df.isnull().sum()\n",
    "\n",
    "# Check missing values by applying the .isnull().sum method to the dataframe"
   ]
  },
  {
   "cell_type": "code",
   "execution_count": 7,
   "id": "5f73382c",
   "metadata": {},
   "outputs": [
    {
     "data": {
      "text/plain": [
       "Index(['STATISTIC', 'Statistic Label', 'TLIST(A1)', 'Year', 'C01885V02316',\n",
       "       'Month', 'UNIT', 'VALUE'],\n",
       "      dtype='object')"
      ]
     },
     "execution_count": 7,
     "metadata": {},
     "output_type": "execute_result"
    }
   ],
   "source": [
    "df.columns"
   ]
  },
  {
   "cell_type": "code",
   "execution_count": 8,
   "id": "70050214",
   "metadata": {},
   "outputs": [],
   "source": [
    "df.rename(columns={'Statistic Label':'Statistic_Label', \n",
    "                   'UNIT':'Unit', 'VALUE':'Value',}, inplace=True)"
   ]
  },
  {
   "cell_type": "code",
   "execution_count": 9,
   "id": "e90a30ca",
   "metadata": {},
   "outputs": [
    {
     "data": {
      "text/html": [
       "<div>\n",
       "<style scoped>\n",
       "    .dataframe tbody tr th:only-of-type {\n",
       "        vertical-align: middle;\n",
       "    }\n",
       "\n",
       "    .dataframe tbody tr th {\n",
       "        vertical-align: top;\n",
       "    }\n",
       "\n",
       "    .dataframe thead th {\n",
       "        text-align: right;\n",
       "    }\n",
       "</style>\n",
       "<table border=\"1\" class=\"dataframe\">\n",
       "  <thead>\n",
       "    <tr style=\"text-align: right;\">\n",
       "      <th></th>\n",
       "      <th>STATISTIC</th>\n",
       "      <th>Statistic_Label</th>\n",
       "      <th>TLIST(A1)</th>\n",
       "      <th>Year</th>\n",
       "      <th>C01885V02316</th>\n",
       "      <th>Month</th>\n",
       "      <th>Unit</th>\n",
       "      <th>Value</th>\n",
       "    </tr>\n",
       "  </thead>\n",
       "  <tbody>\n",
       "    <tr>\n",
       "      <th>0</th>\n",
       "      <td>TOA11C01</td>\n",
       "      <td>Red line</td>\n",
       "      <td>2018</td>\n",
       "      <td>2018</td>\n",
       "      <td>1.0</td>\n",
       "      <td>January</td>\n",
       "      <td>Number</td>\n",
       "      <td>1664495</td>\n",
       "    </tr>\n",
       "    <tr>\n",
       "      <th>1</th>\n",
       "      <td>TOA11C01</td>\n",
       "      <td>Red line</td>\n",
       "      <td>2018</td>\n",
       "      <td>2018</td>\n",
       "      <td>2.0</td>\n",
       "      <td>February</td>\n",
       "      <td>Number</td>\n",
       "      <td>1657562</td>\n",
       "    </tr>\n",
       "    <tr>\n",
       "      <th>2</th>\n",
       "      <td>TOA11C01</td>\n",
       "      <td>Red line</td>\n",
       "      <td>2018</td>\n",
       "      <td>2018</td>\n",
       "      <td>3.0</td>\n",
       "      <td>March</td>\n",
       "      <td>Number</td>\n",
       "      <td>1661098</td>\n",
       "    </tr>\n",
       "    <tr>\n",
       "      <th>3</th>\n",
       "      <td>TOA11C01</td>\n",
       "      <td>Red line</td>\n",
       "      <td>2018</td>\n",
       "      <td>2018</td>\n",
       "      <td>4.0</td>\n",
       "      <td>April</td>\n",
       "      <td>Number</td>\n",
       "      <td>1794424</td>\n",
       "    </tr>\n",
       "    <tr>\n",
       "      <th>4</th>\n",
       "      <td>TOA11C01</td>\n",
       "      <td>Red line</td>\n",
       "      <td>2018</td>\n",
       "      <td>2018</td>\n",
       "      <td>5.0</td>\n",
       "      <td>May</td>\n",
       "      <td>Number</td>\n",
       "      <td>1934553</td>\n",
       "    </tr>\n",
       "  </tbody>\n",
       "</table>\n",
       "</div>"
      ],
      "text/plain": [
       "  STATISTIC Statistic_Label  TLIST(A1)  Year  C01885V02316     Month    Unit  \\\n",
       "0  TOA11C01        Red line       2018  2018           1.0   January  Number   \n",
       "1  TOA11C01        Red line       2018  2018           2.0  February  Number   \n",
       "2  TOA11C01        Red line       2018  2018           3.0     March  Number   \n",
       "3  TOA11C01        Red line       2018  2018           4.0     April  Number   \n",
       "4  TOA11C01        Red line       2018  2018           5.0       May  Number   \n",
       "\n",
       "     Value  \n",
       "0  1664495  \n",
       "1  1657562  \n",
       "2  1661098  \n",
       "3  1794424  \n",
       "4  1934553  "
      ]
     },
     "execution_count": 9,
     "metadata": {},
     "output_type": "execute_result"
    }
   ],
   "source": [
    "df.head(5)"
   ]
  },
  {
   "cell_type": "code",
   "execution_count": 10,
   "id": "1b4b8ce9",
   "metadata": {},
   "outputs": [],
   "source": [
    "df.drop(columns=[\"STATISTIC\", \"TLIST(A1)\", \"C01885V02316\",\"Unit\"], inplace=True)"
   ]
  },
  {
   "cell_type": "code",
   "execution_count": 11,
   "id": "6f80cf72",
   "metadata": {},
   "outputs": [
    {
     "data": {
      "text/html": [
       "<div>\n",
       "<style scoped>\n",
       "    .dataframe tbody tr th:only-of-type {\n",
       "        vertical-align: middle;\n",
       "    }\n",
       "\n",
       "    .dataframe tbody tr th {\n",
       "        vertical-align: top;\n",
       "    }\n",
       "\n",
       "    .dataframe thead th {\n",
       "        text-align: right;\n",
       "    }\n",
       "</style>\n",
       "<table border=\"1\" class=\"dataframe\">\n",
       "  <thead>\n",
       "    <tr style=\"text-align: right;\">\n",
       "      <th></th>\n",
       "      <th>Statistic_Label</th>\n",
       "      <th>Year</th>\n",
       "      <th>Month</th>\n",
       "      <th>Value</th>\n",
       "    </tr>\n",
       "  </thead>\n",
       "  <tbody>\n",
       "    <tr>\n",
       "      <th>0</th>\n",
       "      <td>Red line</td>\n",
       "      <td>2018</td>\n",
       "      <td>January</td>\n",
       "      <td>1664495</td>\n",
       "    </tr>\n",
       "    <tr>\n",
       "      <th>1</th>\n",
       "      <td>Red line</td>\n",
       "      <td>2018</td>\n",
       "      <td>February</td>\n",
       "      <td>1657562</td>\n",
       "    </tr>\n",
       "  </tbody>\n",
       "</table>\n",
       "</div>"
      ],
      "text/plain": [
       "  Statistic_Label  Year     Month    Value\n",
       "0        Red line  2018   January  1664495\n",
       "1        Red line  2018  February  1657562"
      ]
     },
     "execution_count": 11,
     "metadata": {},
     "output_type": "execute_result"
    }
   ],
   "source": [
    "df.head(2)"
   ]
  },
  {
   "cell_type": "code",
   "execution_count": 12,
   "id": "37a2d306",
   "metadata": {},
   "outputs": [
    {
     "name": "stdout",
     "output_type": "stream",
     "text": [
      "    Statistic_Label  Year  Month     Value\n",
      "0          Red line  2018      1   1664495\n",
      "1          Red line  2018      2   1657562\n",
      "2          Red line  2018      3   1661098\n",
      "3          Red line  2018      4   1794424\n",
      "4          Red line  2018      5   1934553\n",
      "..              ...   ...    ...       ...\n",
      "190  All Luas lines  2022      9   3811093\n",
      "191  All Luas lines  2022     10   4219124\n",
      "192  All Luas lines  2022     11   4375705\n",
      "193  All Luas lines  2022     12   4030698\n",
      "194  All Luas lines  2022      0  38667875\n",
      "\n",
      "[195 rows x 4 columns]\n"
     ]
    }
   ],
   "source": [
    "month_mapping = {'January': 1, 'February': 2, 'March': 3, 'April': 4, 'May': 5, 'June': 6,\n",
    "                 'July': 7, 'August': 8, 'September': 9, 'October': 10, 'November': 11, 'December': 12}\n",
    "\n",
    "df['Month'] = df['Month'].map(month_mapping)\n",
    "\n",
    "df['Month'] = pd.to_numeric(df['Month'], errors='coerce')\n",
    "\n",
    "df['Month'].fillna(0, inplace=True)\n",
    "\n",
    "df['Month'] = df['Month'].astype(int)\n",
    "\n",
    "print(df)"
   ]
  },
  {
   "cell_type": "code",
   "execution_count": 13,
   "id": "00ebd91f",
   "metadata": {},
   "outputs": [
    {
     "data": {
      "text/plain": [
       "Statistic_Label    0.0\n",
       "Year               0.0\n",
       "Month              0.0\n",
       "Value              0.0\n",
       "dtype: float64"
      ]
     },
     "execution_count": 13,
     "metadata": {},
     "output_type": "execute_result"
    }
   ],
   "source": [
    "df.isnull().sum() / len(df) * 100"
   ]
  },
  {
   "cell_type": "code",
   "execution_count": 14,
   "id": "a4bcc97d",
   "metadata": {},
   "outputs": [
    {
     "name": "stdout",
     "output_type": "stream",
     "text": [
      "    Statistic_Label  Year  Month     Value\n",
      "130  All Luas lines  2018      1   3218649\n",
      "131  All Luas lines  2018      2   3118289\n",
      "132  All Luas lines  2018      3   3097570\n",
      "133  All Luas lines  2018      4   3350056\n",
      "134  All Luas lines  2018      5   3622338\n",
      "..              ...   ...    ...       ...\n",
      "190  All Luas lines  2022      9   3811093\n",
      "191  All Luas lines  2022     10   4219124\n",
      "192  All Luas lines  2022     11   4375705\n",
      "193  All Luas lines  2022     12   4030698\n",
      "194  All Luas lines  2022      0  38667875\n",
      "\n",
      "[65 rows x 4 columns]\n"
     ]
    }
   ],
   "source": [
    "df_frame = pd.DataFrame(df)\n",
    "\n",
    "df_1 = df_frame[(df_frame['Statistic_Label'] == 'All Luas lines')]\n",
    "\n",
    "print(df_1)"
   ]
  },
  {
   "cell_type": "code",
   "execution_count": 15,
   "id": "80b72233",
   "metadata": {},
   "outputs": [
    {
     "name": "stdout",
     "output_type": "stream",
     "text": [
      "    Statistic_Label  Year  Month     Value\n",
      "0          Red line  2018      1   1664495\n",
      "1          Red line  2018      2   1657562\n",
      "2          Red line  2018      3   1661098\n",
      "3          Red line  2018      4   1794424\n",
      "4          Red line  2018      5   1934553\n",
      "..              ...   ...    ...       ...\n",
      "125      Green line  2022      9   1830015\n",
      "126      Green line  2022     10   2063739\n",
      "127      Green line  2022     11   2097731\n",
      "128      Green line  2022     12   1972696\n",
      "129      Green line  2022      0  18392801\n",
      "\n",
      "[130 rows x 4 columns]\n"
     ]
    }
   ],
   "source": [
    "df= pd.DataFrame(df)\n",
    "\n",
    "df = df.drop(df[df['Statistic_Label'] == 'All Luas lines'].index)\n",
    "\n",
    "print(df)"
   ]
  },
  {
   "cell_type": "code",
   "execution_count": 16,
   "id": "e06f092b",
   "metadata": {},
   "outputs": [
    {
     "data": {
      "text/html": [
       "<div>\n",
       "<style scoped>\n",
       "    .dataframe tbody tr th:only-of-type {\n",
       "        vertical-align: middle;\n",
       "    }\n",
       "\n",
       "    .dataframe tbody tr th {\n",
       "        vertical-align: top;\n",
       "    }\n",
       "\n",
       "    .dataframe thead th {\n",
       "        text-align: right;\n",
       "    }\n",
       "</style>\n",
       "<table border=\"1\" class=\"dataframe\">\n",
       "  <thead>\n",
       "    <tr style=\"text-align: right;\">\n",
       "      <th></th>\n",
       "      <th>Statistic_Label</th>\n",
       "      <th>Year</th>\n",
       "      <th>Month</th>\n",
       "      <th>Value</th>\n",
       "    </tr>\n",
       "  </thead>\n",
       "  <tbody>\n",
       "    <tr>\n",
       "      <th>0</th>\n",
       "      <td>Red line</td>\n",
       "      <td>2018</td>\n",
       "      <td>1</td>\n",
       "      <td>1664495</td>\n",
       "    </tr>\n",
       "    <tr>\n",
       "      <th>1</th>\n",
       "      <td>Red line</td>\n",
       "      <td>2018</td>\n",
       "      <td>2</td>\n",
       "      <td>1657562</td>\n",
       "    </tr>\n",
       "    <tr>\n",
       "      <th>2</th>\n",
       "      <td>Red line</td>\n",
       "      <td>2018</td>\n",
       "      <td>3</td>\n",
       "      <td>1661098</td>\n",
       "    </tr>\n",
       "    <tr>\n",
       "      <th>3</th>\n",
       "      <td>Red line</td>\n",
       "      <td>2018</td>\n",
       "      <td>4</td>\n",
       "      <td>1794424</td>\n",
       "    </tr>\n",
       "    <tr>\n",
       "      <th>4</th>\n",
       "      <td>Red line</td>\n",
       "      <td>2018</td>\n",
       "      <td>5</td>\n",
       "      <td>1934553</td>\n",
       "    </tr>\n",
       "    <tr>\n",
       "      <th>5</th>\n",
       "      <td>Red line</td>\n",
       "      <td>2018</td>\n",
       "      <td>6</td>\n",
       "      <td>1822500</td>\n",
       "    </tr>\n",
       "    <tr>\n",
       "      <th>6</th>\n",
       "      <td>Red line</td>\n",
       "      <td>2018</td>\n",
       "      <td>7</td>\n",
       "      <td>1841184</td>\n",
       "    </tr>\n",
       "    <tr>\n",
       "      <th>7</th>\n",
       "      <td>Red line</td>\n",
       "      <td>2018</td>\n",
       "      <td>8</td>\n",
       "      <td>1730239</td>\n",
       "    </tr>\n",
       "    <tr>\n",
       "      <th>8</th>\n",
       "      <td>Red line</td>\n",
       "      <td>2018</td>\n",
       "      <td>9</td>\n",
       "      <td>1810919</td>\n",
       "    </tr>\n",
       "    <tr>\n",
       "      <th>9</th>\n",
       "      <td>Red line</td>\n",
       "      <td>2018</td>\n",
       "      <td>10</td>\n",
       "      <td>2018390</td>\n",
       "    </tr>\n",
       "  </tbody>\n",
       "</table>\n",
       "</div>"
      ],
      "text/plain": [
       "  Statistic_Label  Year  Month    Value\n",
       "0        Red line  2018      1  1664495\n",
       "1        Red line  2018      2  1657562\n",
       "2        Red line  2018      3  1661098\n",
       "3        Red line  2018      4  1794424\n",
       "4        Red line  2018      5  1934553\n",
       "5        Red line  2018      6  1822500\n",
       "6        Red line  2018      7  1841184\n",
       "7        Red line  2018      8  1730239\n",
       "8        Red line  2018      9  1810919\n",
       "9        Red line  2018     10  2018390"
      ]
     },
     "execution_count": 16,
     "metadata": {},
     "output_type": "execute_result"
    }
   ],
   "source": [
    "df.head(10)"
   ]
  },
  {
   "cell_type": "markdown",
   "id": "dd7c91e7",
   "metadata": {},
   "source": [
    "# Dataset\n",
    "\n",
    "df = red line & green line\n",
    "\n",
    "df_1 = All Luas line\n"
   ]
  },
  {
   "cell_type": "code",
   "execution_count": 17,
   "id": "fae0cc82",
   "metadata": {},
   "outputs": [],
   "source": [
    "from sklearn.preprocessing import OrdinalEncoder\n",
    "from sklearn.preprocessing import LabelEncoder"
   ]
  },
  {
   "cell_type": "code",
   "execution_count": 18,
   "id": "a34301c6",
   "metadata": {},
   "outputs": [],
   "source": [
    "l_encoder = LabelEncoder()\n",
    "\n",
    "# Put the type of all data of object type into the same shape (float).with the Encoder function."
   ]
  },
  {
   "cell_type": "code",
   "execution_count": 19,
   "id": "c36ad3e3",
   "metadata": {},
   "outputs": [],
   "source": [
    "df[\"Statistic_Label_Encoded\"] =l_encoder.fit_transform(df[\"Statistic_Label\"])\n",
    "\n",
    "#To convert the numeric value of the 'Sex' column .l_encoder.fit_transform function"
   ]
  },
  {
   "cell_type": "code",
   "execution_count": 20,
   "id": "21d0db7d",
   "metadata": {},
   "outputs": [],
   "source": [
    "df_1[\"Statistic_Label_Encoded\"] =l_encoder.fit_transform(df_1[\"Statistic_Label\"])"
   ]
  },
  {
   "cell_type": "code",
   "execution_count": 21,
   "id": "6fead01f",
   "metadata": {},
   "outputs": [
    {
     "data": {
      "text/html": [
       "<div>\n",
       "<style scoped>\n",
       "    .dataframe tbody tr th:only-of-type {\n",
       "        vertical-align: middle;\n",
       "    }\n",
       "\n",
       "    .dataframe tbody tr th {\n",
       "        vertical-align: top;\n",
       "    }\n",
       "\n",
       "    .dataframe thead th {\n",
       "        text-align: right;\n",
       "    }\n",
       "</style>\n",
       "<table border=\"1\" class=\"dataframe\">\n",
       "  <thead>\n",
       "    <tr style=\"text-align: right;\">\n",
       "      <th></th>\n",
       "      <th>Statistic_Label</th>\n",
       "      <th>Year</th>\n",
       "      <th>Month</th>\n",
       "      <th>Value</th>\n",
       "      <th>Statistic_Label_Encoded</th>\n",
       "    </tr>\n",
       "  </thead>\n",
       "  <tbody>\n",
       "    <tr>\n",
       "      <th>0</th>\n",
       "      <td>Red line</td>\n",
       "      <td>2018</td>\n",
       "      <td>1</td>\n",
       "      <td>1664495</td>\n",
       "      <td>1</td>\n",
       "    </tr>\n",
       "    <tr>\n",
       "      <th>1</th>\n",
       "      <td>Red line</td>\n",
       "      <td>2018</td>\n",
       "      <td>2</td>\n",
       "      <td>1657562</td>\n",
       "      <td>1</td>\n",
       "    </tr>\n",
       "  </tbody>\n",
       "</table>\n",
       "</div>"
      ],
      "text/plain": [
       "  Statistic_Label  Year  Month    Value  Statistic_Label_Encoded\n",
       "0        Red line  2018      1  1664495                        1\n",
       "1        Red line  2018      2  1657562                        1"
      ]
     },
     "execution_count": 21,
     "metadata": {},
     "output_type": "execute_result"
    }
   ],
   "source": [
    "df.head(2)"
   ]
  },
  {
   "cell_type": "markdown",
   "id": "b31333f7",
   "metadata": {},
   "source": [
    "Green Line = 1\n",
    "Red Line=2"
   ]
  },
  {
   "cell_type": "code",
   "execution_count": 22,
   "id": "cb6463d0",
   "metadata": {},
   "outputs": [
    {
     "data": {
      "text/html": [
       "<div>\n",
       "<style scoped>\n",
       "    .dataframe tbody tr th:only-of-type {\n",
       "        vertical-align: middle;\n",
       "    }\n",
       "\n",
       "    .dataframe tbody tr th {\n",
       "        vertical-align: top;\n",
       "    }\n",
       "\n",
       "    .dataframe thead th {\n",
       "        text-align: right;\n",
       "    }\n",
       "</style>\n",
       "<table border=\"1\" class=\"dataframe\">\n",
       "  <thead>\n",
       "    <tr style=\"text-align: right;\">\n",
       "      <th></th>\n",
       "      <th>Statistic_Label</th>\n",
       "      <th>Year</th>\n",
       "      <th>Month</th>\n",
       "      <th>Value</th>\n",
       "      <th>Statistic_Label_Encoded</th>\n",
       "    </tr>\n",
       "  </thead>\n",
       "  <tbody>\n",
       "    <tr>\n",
       "      <th>130</th>\n",
       "      <td>All Luas lines</td>\n",
       "      <td>2018</td>\n",
       "      <td>1</td>\n",
       "      <td>3218649</td>\n",
       "      <td>0</td>\n",
       "    </tr>\n",
       "    <tr>\n",
       "      <th>131</th>\n",
       "      <td>All Luas lines</td>\n",
       "      <td>2018</td>\n",
       "      <td>2</td>\n",
       "      <td>3118289</td>\n",
       "      <td>0</td>\n",
       "    </tr>\n",
       "  </tbody>\n",
       "</table>\n",
       "</div>"
      ],
      "text/plain": [
       "    Statistic_Label  Year  Month    Value  Statistic_Label_Encoded\n",
       "130  All Luas lines  2018      1  3218649                        0\n",
       "131  All Luas lines  2018      2  3118289                        0"
      ]
     },
     "execution_count": 22,
     "metadata": {},
     "output_type": "execute_result"
    }
   ],
   "source": [
    "df_1.head(2)"
   ]
  },
  {
   "cell_type": "markdown",
   "id": "499231f1",
   "metadata": {},
   "source": [
    "All Luas Lines = 0"
   ]
  },
  {
   "cell_type": "code",
   "execution_count": 23,
   "id": "517a18ed",
   "metadata": {},
   "outputs": [],
   "source": [
    "df.drop(columns=[\"Statistic_Label\"], inplace=True)"
   ]
  },
  {
   "cell_type": "code",
   "execution_count": 24,
   "id": "864b8ae0",
   "metadata": {},
   "outputs": [],
   "source": [
    "df_1.drop(columns=[\"Statistic_Label\"], inplace=True)"
   ]
  },
  {
   "cell_type": "code",
   "execution_count": 25,
   "id": "677fbb17",
   "metadata": {},
   "outputs": [
    {
     "data": {
      "text/html": [
       "<div>\n",
       "<style scoped>\n",
       "    .dataframe tbody tr th:only-of-type {\n",
       "        vertical-align: middle;\n",
       "    }\n",
       "\n",
       "    .dataframe tbody tr th {\n",
       "        vertical-align: top;\n",
       "    }\n",
       "\n",
       "    .dataframe thead th {\n",
       "        text-align: right;\n",
       "    }\n",
       "</style>\n",
       "<table border=\"1\" class=\"dataframe\">\n",
       "  <thead>\n",
       "    <tr style=\"text-align: right;\">\n",
       "      <th></th>\n",
       "      <th>Year</th>\n",
       "      <th>Month</th>\n",
       "      <th>Value</th>\n",
       "      <th>Statistic_Label_Encoded</th>\n",
       "    </tr>\n",
       "  </thead>\n",
       "  <tbody>\n",
       "    <tr>\n",
       "      <th>0</th>\n",
       "      <td>2018</td>\n",
       "      <td>1</td>\n",
       "      <td>1664495</td>\n",
       "      <td>1</td>\n",
       "    </tr>\n",
       "    <tr>\n",
       "      <th>1</th>\n",
       "      <td>2018</td>\n",
       "      <td>2</td>\n",
       "      <td>1657562</td>\n",
       "      <td>1</td>\n",
       "    </tr>\n",
       "  </tbody>\n",
       "</table>\n",
       "</div>"
      ],
      "text/plain": [
       "   Year  Month    Value  Statistic_Label_Encoded\n",
       "0  2018      1  1664495                        1\n",
       "1  2018      2  1657562                        1"
      ]
     },
     "execution_count": 25,
     "metadata": {},
     "output_type": "execute_result"
    }
   ],
   "source": [
    "df.head(2)"
   ]
  },
  {
   "cell_type": "code",
   "execution_count": 26,
   "id": "eedcdaa1",
   "metadata": {},
   "outputs": [
    {
     "data": {
      "text/html": [
       "<div>\n",
       "<style scoped>\n",
       "    .dataframe tbody tr th:only-of-type {\n",
       "        vertical-align: middle;\n",
       "    }\n",
       "\n",
       "    .dataframe tbody tr th {\n",
       "        vertical-align: top;\n",
       "    }\n",
       "\n",
       "    .dataframe thead th {\n",
       "        text-align: right;\n",
       "    }\n",
       "</style>\n",
       "<table border=\"1\" class=\"dataframe\">\n",
       "  <thead>\n",
       "    <tr style=\"text-align: right;\">\n",
       "      <th></th>\n",
       "      <th>Year</th>\n",
       "      <th>Month</th>\n",
       "      <th>Value</th>\n",
       "      <th>Statistic_Label_Encoded</th>\n",
       "    </tr>\n",
       "  </thead>\n",
       "  <tbody>\n",
       "    <tr>\n",
       "      <th>130</th>\n",
       "      <td>2018</td>\n",
       "      <td>1</td>\n",
       "      <td>3218649</td>\n",
       "      <td>0</td>\n",
       "    </tr>\n",
       "    <tr>\n",
       "      <th>131</th>\n",
       "      <td>2018</td>\n",
       "      <td>2</td>\n",
       "      <td>3118289</td>\n",
       "      <td>0</td>\n",
       "    </tr>\n",
       "  </tbody>\n",
       "</table>\n",
       "</div>"
      ],
      "text/plain": [
       "     Year  Month    Value  Statistic_Label_Encoded\n",
       "130  2018      1  3218649                        0\n",
       "131  2018      2  3118289                        0"
      ]
     },
     "execution_count": 26,
     "metadata": {},
     "output_type": "execute_result"
    }
   ],
   "source": [
    "df_1.head(2)"
   ]
  },
  {
   "cell_type": "code",
   "execution_count": 27,
   "id": "dcaa78be",
   "metadata": {},
   "outputs": [
    {
     "name": "stdout",
     "output_type": "stream",
     "text": [
      "<class 'pandas.core.frame.DataFrame'>\n",
      "RangeIndex: 130 entries, 0 to 129\n",
      "Data columns (total 4 columns):\n",
      " #   Column                   Non-Null Count  Dtype\n",
      "---  ------                   --------------  -----\n",
      " 0   Year                     130 non-null    int64\n",
      " 1   Month                    130 non-null    int32\n",
      " 2   Value                    130 non-null    int64\n",
      " 3   Statistic_Label_Encoded  130 non-null    int32\n",
      "dtypes: int32(2), int64(2)\n",
      "memory usage: 3.2 KB\n"
     ]
    }
   ],
   "source": [
    "df.info()"
   ]
  },
  {
   "cell_type": "code",
   "execution_count": 28,
   "id": "3d866e37",
   "metadata": {},
   "outputs": [
    {
     "name": "stdout",
     "output_type": "stream",
     "text": [
      "<class 'pandas.core.frame.DataFrame'>\n",
      "Int64Index: 65 entries, 130 to 194\n",
      "Data columns (total 4 columns):\n",
      " #   Column                   Non-Null Count  Dtype\n",
      "---  ------                   --------------  -----\n",
      " 0   Year                     65 non-null     int64\n",
      " 1   Month                    65 non-null     int32\n",
      " 2   Value                    65 non-null     int64\n",
      " 3   Statistic_Label_Encoded  65 non-null     int32\n",
      "dtypes: int32(2), int64(2)\n",
      "memory usage: 2.0 KB\n"
     ]
    }
   ],
   "source": [
    "df_1.info()"
   ]
  },
  {
   "cell_type": "code",
   "execution_count": 29,
   "id": "cb971ef0",
   "metadata": {},
   "outputs": [
    {
     "data": {
      "text/plain": [
       "(130, 4)"
      ]
     },
     "execution_count": 29,
     "metadata": {},
     "output_type": "execute_result"
    }
   ],
   "source": [
    "df.shape"
   ]
  },
  {
   "cell_type": "code",
   "execution_count": 30,
   "id": "b025548e",
   "metadata": {},
   "outputs": [
    {
     "data": {
      "text/plain": [
       "(65, 4)"
      ]
     },
     "execution_count": 30,
     "metadata": {},
     "output_type": "execute_result"
    }
   ],
   "source": [
    "df_1.shape"
   ]
  },
  {
   "cell_type": "code",
   "execution_count": 31,
   "id": "3dbf043c",
   "metadata": {},
   "outputs": [],
   "source": [
    "missing_values = ['/',' ','-','--','na','Na','n/a','NA','n.a.','?','nan','Nan','nul','Nul','null','Null']\n",
    "\n",
    "df1=pd.read_csv(\"Turkey_Rail_Passenger_Number.csv\", encoding = 'latin-1' ,na_values=missing_values )\n"
   ]
  },
  {
   "cell_type": "code",
   "execution_count": 32,
   "id": "d01cf5d4",
   "metadata": {},
   "outputs": [
    {
     "data": {
      "text/plain": [
       "passage_cnt              0\n",
       "passanger_cnt            0\n",
       "transaction_year         0\n",
       "transaction_month        0\n",
       "transaction_day          0\n",
       "line                     0\n",
       "station_name          3657\n",
       "station_number        3657\n",
       "town                 51100\n",
       "age                      0\n",
       "longitude            85345\n",
       "latitude             85345\n",
       "dtype: int64"
      ]
     },
     "execution_count": 32,
     "metadata": {},
     "output_type": "execute_result"
    }
   ],
   "source": [
    "df1.isnull().sum()"
   ]
  },
  {
   "cell_type": "code",
   "execution_count": 33,
   "id": "9b94a907",
   "metadata": {},
   "outputs": [
    {
     "data": {
      "text/plain": [
       "Index(['passage_cnt', 'passanger_cnt', 'transaction_year', 'transaction_month',\n",
       "       'transaction_day', 'line', 'station_name', 'station_number', 'town',\n",
       "       'age', 'longitude', 'latitude'],\n",
       "      dtype='object')"
      ]
     },
     "execution_count": 33,
     "metadata": {},
     "output_type": "execute_result"
    }
   ],
   "source": [
    "df1.columns"
   ]
  },
  {
   "cell_type": "code",
   "execution_count": 34,
   "id": "c6bb42a9",
   "metadata": {},
   "outputs": [
    {
     "data": {
      "text/html": [
       "<div>\n",
       "<style scoped>\n",
       "    .dataframe tbody tr th:only-of-type {\n",
       "        vertical-align: middle;\n",
       "    }\n",
       "\n",
       "    .dataframe tbody tr th {\n",
       "        vertical-align: top;\n",
       "    }\n",
       "\n",
       "    .dataframe thead th {\n",
       "        text-align: right;\n",
       "    }\n",
       "</style>\n",
       "<table border=\"1\" class=\"dataframe\">\n",
       "  <thead>\n",
       "    <tr style=\"text-align: right;\">\n",
       "      <th></th>\n",
       "      <th>passage_cnt</th>\n",
       "      <th>passanger_cnt</th>\n",
       "      <th>transaction_year</th>\n",
       "      <th>transaction_month</th>\n",
       "      <th>transaction_day</th>\n",
       "      <th>line</th>\n",
       "      <th>station_name</th>\n",
       "      <th>station_number</th>\n",
       "      <th>town</th>\n",
       "      <th>age</th>\n",
       "      <th>longitude</th>\n",
       "      <th>latitude</th>\n",
       "    </tr>\n",
       "  </thead>\n",
       "  <tbody>\n",
       "    <tr>\n",
       "      <th>0</th>\n",
       "      <td>1687</td>\n",
       "      <td>1656</td>\n",
       "      <td>2022</td>\n",
       "      <td>1</td>\n",
       "      <td>1</td>\n",
       "      <td>F1-TAKSIM-KABATAS FUNIKILER HATTI</td>\n",
       "      <td>TAKSIM</td>\n",
       "      <td>TAK-KBT</td>\n",
       "      <td>Beyoðlu</td>\n",
       "      <td>20-30</td>\n",
       "      <td>28.986444</td>\n",
       "      <td>41.036750</td>\n",
       "    </tr>\n",
       "    <tr>\n",
       "      <th>1</th>\n",
       "      <td>2520</td>\n",
       "      <td>2469</td>\n",
       "      <td>2022</td>\n",
       "      <td>1</td>\n",
       "      <td>1</td>\n",
       "      <td>F1-TAKSIM-KABATAS FUNIKILER HATTI</td>\n",
       "      <td>KABATAS</td>\n",
       "      <td>KTS-TKS</td>\n",
       "      <td>Beyoðlu</td>\n",
       "      <td>20-30</td>\n",
       "      <td>28.992028</td>\n",
       "      <td>41.034056</td>\n",
       "    </tr>\n",
       "    <tr>\n",
       "      <th>2</th>\n",
       "      <td>2157</td>\n",
       "      <td>2119</td>\n",
       "      <td>2022</td>\n",
       "      <td>1</td>\n",
       "      <td>1</td>\n",
       "      <td>F1-TAKSIM-KABATAS FUNIKILER HATTI</td>\n",
       "      <td>TAKSIM</td>\n",
       "      <td>TAK-KBT</td>\n",
       "      <td>Beyoðlu</td>\n",
       "      <td>30-60</td>\n",
       "      <td>28.986444</td>\n",
       "      <td>41.036750</td>\n",
       "    </tr>\n",
       "    <tr>\n",
       "      <th>3</th>\n",
       "      <td>3163</td>\n",
       "      <td>3085</td>\n",
       "      <td>2022</td>\n",
       "      <td>1</td>\n",
       "      <td>1</td>\n",
       "      <td>F1-TAKSIM-KABATAS FUNIKILER HATTI</td>\n",
       "      <td>KABATAS</td>\n",
       "      <td>KTS-TKS</td>\n",
       "      <td>Beyoðlu</td>\n",
       "      <td>30-60</td>\n",
       "      <td>28.992028</td>\n",
       "      <td>41.034056</td>\n",
       "    </tr>\n",
       "    <tr>\n",
       "      <th>4</th>\n",
       "      <td>1041</td>\n",
       "      <td>1006</td>\n",
       "      <td>2022</td>\n",
       "      <td>1</td>\n",
       "      <td>1</td>\n",
       "      <td>F1-TAKSIM-KABATAS FUNIKILER HATTI</td>\n",
       "      <td>KABATAS</td>\n",
       "      <td>KTS-TKS</td>\n",
       "      <td>Beyoðlu</td>\n",
       "      <td>60+</td>\n",
       "      <td>28.992028</td>\n",
       "      <td>41.034056</td>\n",
       "    </tr>\n",
       "  </tbody>\n",
       "</table>\n",
       "</div>"
      ],
      "text/plain": [
       "   passage_cnt  passanger_cnt  transaction_year  transaction_month  \\\n",
       "0         1687           1656              2022                  1   \n",
       "1         2520           2469              2022                  1   \n",
       "2         2157           2119              2022                  1   \n",
       "3         3163           3085              2022                  1   \n",
       "4         1041           1006              2022                  1   \n",
       "\n",
       "   transaction_day                               line station_name  \\\n",
       "0                1  F1-TAKSIM-KABATAS FUNIKILER HATTI       TAKSIM   \n",
       "1                1  F1-TAKSIM-KABATAS FUNIKILER HATTI      KABATAS   \n",
       "2                1  F1-TAKSIM-KABATAS FUNIKILER HATTI       TAKSIM   \n",
       "3                1  F1-TAKSIM-KABATAS FUNIKILER HATTI      KABATAS   \n",
       "4                1  F1-TAKSIM-KABATAS FUNIKILER HATTI      KABATAS   \n",
       "\n",
       "  station_number     town    age  longitude   latitude  \n",
       "0        TAK-KBT  Beyoðlu  20-30  28.986444  41.036750  \n",
       "1        KTS-TKS  Beyoðlu  20-30  28.992028  41.034056  \n",
       "2        TAK-KBT  Beyoðlu  30-60  28.986444  41.036750  \n",
       "3        KTS-TKS  Beyoðlu  30-60  28.992028  41.034056  \n",
       "4        KTS-TKS  Beyoðlu    60+  28.992028  41.034056  "
      ]
     },
     "execution_count": 34,
     "metadata": {},
     "output_type": "execute_result"
    }
   ],
   "source": [
    "df1.head(5)"
   ]
  },
  {
   "cell_type": "code",
   "execution_count": 35,
   "id": "d6c0f2d9",
   "metadata": {},
   "outputs": [],
   "source": [
    "df1.drop(columns=[\"station_name\", \"station_number\", \"town\", \"longitude\", \"latitude\", \"line\"], inplace=True)"
   ]
  },
  {
   "cell_type": "code",
   "execution_count": 36,
   "id": "ec569c96",
   "metadata": {},
   "outputs": [
    {
     "data": {
      "text/html": [
       "<div>\n",
       "<style scoped>\n",
       "    .dataframe tbody tr th:only-of-type {\n",
       "        vertical-align: middle;\n",
       "    }\n",
       "\n",
       "    .dataframe tbody tr th {\n",
       "        vertical-align: top;\n",
       "    }\n",
       "\n",
       "    .dataframe thead th {\n",
       "        text-align: right;\n",
       "    }\n",
       "</style>\n",
       "<table border=\"1\" class=\"dataframe\">\n",
       "  <thead>\n",
       "    <tr style=\"text-align: right;\">\n",
       "      <th></th>\n",
       "      <th>passage_cnt</th>\n",
       "      <th>passanger_cnt</th>\n",
       "      <th>transaction_year</th>\n",
       "      <th>transaction_month</th>\n",
       "      <th>transaction_day</th>\n",
       "      <th>age</th>\n",
       "    </tr>\n",
       "  </thead>\n",
       "  <tbody>\n",
       "    <tr>\n",
       "      <th>0</th>\n",
       "      <td>1687</td>\n",
       "      <td>1656</td>\n",
       "      <td>2022</td>\n",
       "      <td>1</td>\n",
       "      <td>1</td>\n",
       "      <td>20-30</td>\n",
       "    </tr>\n",
       "    <tr>\n",
       "      <th>1</th>\n",
       "      <td>2520</td>\n",
       "      <td>2469</td>\n",
       "      <td>2022</td>\n",
       "      <td>1</td>\n",
       "      <td>1</td>\n",
       "      <td>20-30</td>\n",
       "    </tr>\n",
       "  </tbody>\n",
       "</table>\n",
       "</div>"
      ],
      "text/plain": [
       "   passage_cnt  passanger_cnt  transaction_year  transaction_month  \\\n",
       "0         1687           1656              2022                  1   \n",
       "1         2520           2469              2022                  1   \n",
       "\n",
       "   transaction_day    age  \n",
       "0                1  20-30  \n",
       "1                1  20-30  "
      ]
     },
     "execution_count": 36,
     "metadata": {},
     "output_type": "execute_result"
    }
   ],
   "source": [
    "df1.head(2)"
   ]
  },
  {
   "cell_type": "code",
   "execution_count": 37,
   "id": "c955bc4b",
   "metadata": {},
   "outputs": [
    {
     "data": {
      "text/plain": [
       "passage_cnt          0.0\n",
       "passanger_cnt        0.0\n",
       "transaction_year     0.0\n",
       "transaction_month    0.0\n",
       "transaction_day      0.0\n",
       "age                  0.0\n",
       "dtype: float64"
      ]
     },
     "execution_count": 37,
     "metadata": {},
     "output_type": "execute_result"
    }
   ],
   "source": [
    "df1.isnull().sum() / len(df) * 100"
   ]
  },
  {
   "cell_type": "code",
   "execution_count": 38,
   "id": "df4bc928",
   "metadata": {},
   "outputs": [],
   "source": [
    "df1[\"age_Encoded\"] =l_encoder.fit_transform(df1[\"age\"])"
   ]
  },
  {
   "cell_type": "code",
   "execution_count": 39,
   "id": "488b0771",
   "metadata": {},
   "outputs": [
    {
     "data": {
      "text/html": [
       "<div>\n",
       "<style scoped>\n",
       "    .dataframe tbody tr th:only-of-type {\n",
       "        vertical-align: middle;\n",
       "    }\n",
       "\n",
       "    .dataframe tbody tr th {\n",
       "        vertical-align: top;\n",
       "    }\n",
       "\n",
       "    .dataframe thead th {\n",
       "        text-align: right;\n",
       "    }\n",
       "</style>\n",
       "<table border=\"1\" class=\"dataframe\">\n",
       "  <thead>\n",
       "    <tr style=\"text-align: right;\">\n",
       "      <th></th>\n",
       "      <th>passage_cnt</th>\n",
       "      <th>passanger_cnt</th>\n",
       "      <th>transaction_year</th>\n",
       "      <th>transaction_month</th>\n",
       "      <th>transaction_day</th>\n",
       "      <th>age</th>\n",
       "      <th>age_Encoded</th>\n",
       "    </tr>\n",
       "  </thead>\n",
       "  <tbody>\n",
       "    <tr>\n",
       "      <th>0</th>\n",
       "      <td>1687</td>\n",
       "      <td>1656</td>\n",
       "      <td>2022</td>\n",
       "      <td>1</td>\n",
       "      <td>1</td>\n",
       "      <td>20-30</td>\n",
       "      <td>0</td>\n",
       "    </tr>\n",
       "    <tr>\n",
       "      <th>1</th>\n",
       "      <td>2520</td>\n",
       "      <td>2469</td>\n",
       "      <td>2022</td>\n",
       "      <td>1</td>\n",
       "      <td>1</td>\n",
       "      <td>20-30</td>\n",
       "      <td>0</td>\n",
       "    </tr>\n",
       "  </tbody>\n",
       "</table>\n",
       "</div>"
      ],
      "text/plain": [
       "   passage_cnt  passanger_cnt  transaction_year  transaction_month  \\\n",
       "0         1687           1656              2022                  1   \n",
       "1         2520           2469              2022                  1   \n",
       "\n",
       "   transaction_day    age  age_Encoded  \n",
       "0                1  20-30            0  \n",
       "1                1  20-30            0  "
      ]
     },
     "execution_count": 39,
     "metadata": {},
     "output_type": "execute_result"
    }
   ],
   "source": [
    "df1.head(2)"
   ]
  },
  {
   "cell_type": "code",
   "execution_count": 40,
   "id": "2c109e6b",
   "metadata": {},
   "outputs": [],
   "source": [
    "df1.drop(columns=[\"age\"], inplace=True)"
   ]
  },
  {
   "cell_type": "code",
   "execution_count": 41,
   "id": "d38e51b2",
   "metadata": {},
   "outputs": [
    {
     "data": {
      "text/html": [
       "<div>\n",
       "<style scoped>\n",
       "    .dataframe tbody tr th:only-of-type {\n",
       "        vertical-align: middle;\n",
       "    }\n",
       "\n",
       "    .dataframe tbody tr th {\n",
       "        vertical-align: top;\n",
       "    }\n",
       "\n",
       "    .dataframe thead th {\n",
       "        text-align: right;\n",
       "    }\n",
       "</style>\n",
       "<table border=\"1\" class=\"dataframe\">\n",
       "  <thead>\n",
       "    <tr style=\"text-align: right;\">\n",
       "      <th></th>\n",
       "      <th>passage_cnt</th>\n",
       "      <th>passanger_cnt</th>\n",
       "      <th>transaction_year</th>\n",
       "      <th>transaction_month</th>\n",
       "      <th>transaction_day</th>\n",
       "      <th>age_Encoded</th>\n",
       "    </tr>\n",
       "  </thead>\n",
       "  <tbody>\n",
       "    <tr>\n",
       "      <th>0</th>\n",
       "      <td>1687</td>\n",
       "      <td>1656</td>\n",
       "      <td>2022</td>\n",
       "      <td>1</td>\n",
       "      <td>1</td>\n",
       "      <td>0</td>\n",
       "    </tr>\n",
       "    <tr>\n",
       "      <th>1</th>\n",
       "      <td>2520</td>\n",
       "      <td>2469</td>\n",
       "      <td>2022</td>\n",
       "      <td>1</td>\n",
       "      <td>1</td>\n",
       "      <td>0</td>\n",
       "    </tr>\n",
       "  </tbody>\n",
       "</table>\n",
       "</div>"
      ],
      "text/plain": [
       "   passage_cnt  passanger_cnt  transaction_year  transaction_month  \\\n",
       "0         1687           1656              2022                  1   \n",
       "1         2520           2469              2022                  1   \n",
       "\n",
       "   transaction_day  age_Encoded  \n",
       "0                1            0  \n",
       "1                1            0  "
      ]
     },
     "execution_count": 41,
     "metadata": {},
     "output_type": "execute_result"
    }
   ],
   "source": [
    "df1.head(2)"
   ]
  },
  {
   "cell_type": "code",
   "execution_count": null,
   "id": "c3efc3b9",
   "metadata": {},
   "outputs": [],
   "source": []
  }
 ],
 "metadata": {
  "kernelspec": {
   "display_name": "Python 3 (ipykernel)",
   "language": "python",
   "name": "python3"
  },
  "language_info": {
   "codemirror_mode": {
    "name": "ipython",
    "version": 3
   },
   "file_extension": ".py",
   "mimetype": "text/x-python",
   "name": "python",
   "nbconvert_exporter": "python",
   "pygments_lexer": "ipython3",
   "version": "3.11.4"
  }
 },
 "nbformat": 4,
 "nbformat_minor": 5
}
