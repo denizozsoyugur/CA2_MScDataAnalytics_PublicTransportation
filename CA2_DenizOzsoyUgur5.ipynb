{
 "cells": [
  {
   "cell_type": "markdown",
   "id": "7e9c67bd",
   "metadata": {},
   "source": [
    "# Deniz OZSOY UGUR - 2023195 - CA2"
   ]
  },
  {
   "cell_type": "markdown",
   "id": "79568e73",
   "metadata": {},
   "source": [
    "# Link to Dataset"
   ]
  },
  {
   "cell_type": "markdown",
   "id": "9668000e",
   "metadata": {},
   "source": [
    "Ireland\n",
    "\n",
    "https://data.gov.ie/dataset/toa11-luas-passenger-numbers"
   ]
  },
  {
   "cell_type": "markdown",
   "id": "477b5b11",
   "metadata": {},
   "source": [
    "Turkey\n",
    "\n",
    "https://data.ibb.gov.tr/en/dataset/yas-grubuna-gore-rayli-sistemler-istasyon-bazli-yolcu-ve-yolculuk-sayilari/resource/8bed95de-bbe2-4550-80f2-87ca51a97f3d\n",
    "\n",
    "API\n",
    "\n",
    "https://data.ibb.gov.tr/tr/datastore/odata3.0/5c2b78fc-3b68-4722-844f-3051c358a13f\n",
    "\n",
    "CSV\n",
    "\n",
    "https://data.ibb.gov.tr/en/dataset/d3df8db4-1ac6-4bfe-8896-7ec1159caa2b/resource/8bed95de-bbe2-4550-80f2-87ca51a97f3d/download/2022-yl-ya-grubuna-gore-rayl-sistemler-istasyon-bazl-yolcu-ve-yolculuk-saylar.csv\n",
    "\n",
    "https://data.ibb.gov.tr/tr/datastore/odata3.0/5c2b78fc-3b68-4722-844f-3051c358a13f?top=5&format=json"
   ]
  },
  {
   "cell_type": "code",
   "execution_count": 1,
   "id": "2046676b",
   "metadata": {},
   "outputs": [],
   "source": [
    "# Import NumPy, Pandas, Matplotlib, Seaborn libraries and Plotly Express vs.\n",
    "\n",
    "import numpy as np\n",
    "import pandas as pd\n",
    "from matplotlib import pyplot as plt\n",
    "import seaborn as sns\n",
    "import plotly.express as px"
   ]
  },
  {
   "cell_type": "code",
   "execution_count": 2,
   "id": "16658222",
   "metadata": {},
   "outputs": [],
   "source": [
    "# Import warnings and applyt filterwarnings to ignore them.\n",
    "\n",
    "import warnings\n",
    "warnings.filterwarnings('ignore')"
   ]
  },
  {
   "cell_type": "code",
   "execution_count": 3,
   "id": "5909e708",
   "metadata": {},
   "outputs": [],
   "source": [
    "df = pd.read_csv(\"Luas_Passenger_Number.csv\")\n",
    "\n",
    "# pd.read_csv function in order to read the csv file containing the population estimated construction status report"
   ]
  },
  {
   "cell_type": "code",
   "execution_count": 4,
   "id": "b0f2b25d",
   "metadata": {},
   "outputs": [],
   "source": [
    "df1=pd.read_csv(\"Turkey_Rail_Passenger_Number.csv\", encoding = 'latin-1')"
   ]
  },
  {
   "cell_type": "markdown",
   "id": "4556f612",
   "metadata": {},
   "source": [
    "df1 = pd.read_csv(\"Turkey_Rail_Passenger_Number.csv\")\n",
    "\n",
    "A problem was encountered when trying to open the file. To fix the problem, it was observed that there was a problem decoding a byte in the file using the 'utf-8' encoding, so an addition to the code was made accordingly."
   ]
  },
  {
   "cell_type": "code",
   "execution_count": 5,
   "id": "879669a9",
   "metadata": {},
   "outputs": [
    {
     "data": {
      "text/html": [
       "<div>\n",
       "<style scoped>\n",
       "    .dataframe tbody tr th:only-of-type {\n",
       "        vertical-align: middle;\n",
       "    }\n",
       "\n",
       "    .dataframe tbody tr th {\n",
       "        vertical-align: top;\n",
       "    }\n",
       "\n",
       "    .dataframe thead th {\n",
       "        text-align: right;\n",
       "    }\n",
       "</style>\n",
       "<table border=\"1\" class=\"dataframe\">\n",
       "  <thead>\n",
       "    <tr style=\"text-align: right;\">\n",
       "      <th></th>\n",
       "      <th>STATISTIC</th>\n",
       "      <th>Statistic Label</th>\n",
       "      <th>TLIST(A1)</th>\n",
       "      <th>Year</th>\n",
       "      <th>C01885V02316</th>\n",
       "      <th>Month</th>\n",
       "      <th>UNIT</th>\n",
       "      <th>VALUE</th>\n",
       "    </tr>\n",
       "  </thead>\n",
       "  <tbody>\n",
       "    <tr>\n",
       "      <th>0</th>\n",
       "      <td>TOA11C01</td>\n",
       "      <td>Red line</td>\n",
       "      <td>2018</td>\n",
       "      <td>2018</td>\n",
       "      <td>1</td>\n",
       "      <td>January</td>\n",
       "      <td>Number</td>\n",
       "      <td>1664495</td>\n",
       "    </tr>\n",
       "    <tr>\n",
       "      <th>1</th>\n",
       "      <td>TOA11C01</td>\n",
       "      <td>Red line</td>\n",
       "      <td>2018</td>\n",
       "      <td>2018</td>\n",
       "      <td>2</td>\n",
       "      <td>February</td>\n",
       "      <td>Number</td>\n",
       "      <td>1657562</td>\n",
       "    </tr>\n",
       "    <tr>\n",
       "      <th>2</th>\n",
       "      <td>TOA11C01</td>\n",
       "      <td>Red line</td>\n",
       "      <td>2018</td>\n",
       "      <td>2018</td>\n",
       "      <td>3</td>\n",
       "      <td>March</td>\n",
       "      <td>Number</td>\n",
       "      <td>1661098</td>\n",
       "    </tr>\n",
       "    <tr>\n",
       "      <th>3</th>\n",
       "      <td>TOA11C01</td>\n",
       "      <td>Red line</td>\n",
       "      <td>2018</td>\n",
       "      <td>2018</td>\n",
       "      <td>4</td>\n",
       "      <td>April</td>\n",
       "      <td>Number</td>\n",
       "      <td>1794424</td>\n",
       "    </tr>\n",
       "    <tr>\n",
       "      <th>4</th>\n",
       "      <td>TOA11C01</td>\n",
       "      <td>Red line</td>\n",
       "      <td>2018</td>\n",
       "      <td>2018</td>\n",
       "      <td>5</td>\n",
       "      <td>May</td>\n",
       "      <td>Number</td>\n",
       "      <td>1934553</td>\n",
       "    </tr>\n",
       "  </tbody>\n",
       "</table>\n",
       "</div>"
      ],
      "text/plain": [
       "  STATISTIC Statistic Label  TLIST(A1)  Year C01885V02316     Month    UNIT  \\\n",
       "0  TOA11C01        Red line       2018  2018            1   January  Number   \n",
       "1  TOA11C01        Red line       2018  2018            2  February  Number   \n",
       "2  TOA11C01        Red line       2018  2018            3     March  Number   \n",
       "3  TOA11C01        Red line       2018  2018            4     April  Number   \n",
       "4  TOA11C01        Red line       2018  2018            5       May  Number   \n",
       "\n",
       "     VALUE  \n",
       "0  1664495  \n",
       "1  1657562  \n",
       "2  1661098  \n",
       "3  1794424  \n",
       "4  1934553  "
      ]
     },
     "execution_count": 5,
     "metadata": {},
     "output_type": "execute_result"
    }
   ],
   "source": [
    "df.head(5)"
   ]
  },
  {
   "cell_type": "code",
   "execution_count": 6,
   "id": "518303a0",
   "metadata": {},
   "outputs": [],
   "source": [
    "missing_values = ['/',' ','-','--','na','Na','n/a','NA','n.a.','?','nan','Nan','nul','Nul','null','Null']\n",
    "\n",
    "df= pd.read_csv('Luas_Passenger_Number.csv',na_values=missing_values)\n",
    "\n",
    "# Create a list with all the possible missing value formats. Create a name for the dataframe as report\n",
    "# ('PopulationEstimatesDatabase1')and apply the pd.read_csv function \n",
    "# Include the variable 'na_values' and define it with the 'missing values' list previously created"
   ]
  },
  {
   "cell_type": "code",
   "execution_count": 7,
   "id": "a7a5054a",
   "metadata": {},
   "outputs": [
    {
     "data": {
      "text/plain": [
       "STATISTIC           0\n",
       "Statistic Label     0\n",
       "TLIST(A1)           0\n",
       "Year                0\n",
       "C01885V02316       15\n",
       "Month               0\n",
       "UNIT                0\n",
       "VALUE               0\n",
       "dtype: int64"
      ]
     },
     "execution_count": 7,
     "metadata": {},
     "output_type": "execute_result"
    }
   ],
   "source": [
    "df.isnull().sum()\n",
    "\n",
    "# Check missing values by applying the .isnull().sum method to the dataframe"
   ]
  },
  {
   "cell_type": "code",
   "execution_count": 8,
   "id": "5ac6cf9d",
   "metadata": {},
   "outputs": [
    {
     "data": {
      "text/plain": [
       "STATISTIC          0.000000\n",
       "Statistic Label    0.000000\n",
       "TLIST(A1)          0.000000\n",
       "Year               0.000000\n",
       "C01885V02316       7.692308\n",
       "Month              0.000000\n",
       "UNIT               0.000000\n",
       "VALUE              0.000000\n",
       "dtype: float64"
      ]
     },
     "execution_count": 8,
     "metadata": {},
     "output_type": "execute_result"
    }
   ],
   "source": [
    "df.isnull().sum() / len(df) * 100"
   ]
  },
  {
   "cell_type": "code",
   "execution_count": 9,
   "id": "6acce240",
   "metadata": {},
   "outputs": [
    {
     "data": {
      "text/plain": [
       "Index(['STATISTIC', 'Statistic Label', 'TLIST(A1)', 'Year', 'C01885V02316',\n",
       "       'Month', 'UNIT', 'VALUE'],\n",
       "      dtype='object')"
      ]
     },
     "execution_count": 9,
     "metadata": {},
     "output_type": "execute_result"
    }
   ],
   "source": [
    "df.columns"
   ]
  },
  {
   "cell_type": "code",
   "execution_count": 10,
   "id": "9f86d3e1",
   "metadata": {},
   "outputs": [],
   "source": [
    "df.rename(columns={'Statistic Label':'Luas_Type', \n",
    "                   'UNIT':'Unit', 'VALUE':'Value_Ireland'}, inplace=True)"
   ]
  },
  {
   "cell_type": "code",
   "execution_count": 11,
   "id": "0230bd4c",
   "metadata": {},
   "outputs": [
    {
     "data": {
      "text/html": [
       "<div>\n",
       "<style scoped>\n",
       "    .dataframe tbody tr th:only-of-type {\n",
       "        vertical-align: middle;\n",
       "    }\n",
       "\n",
       "    .dataframe tbody tr th {\n",
       "        vertical-align: top;\n",
       "    }\n",
       "\n",
       "    .dataframe thead th {\n",
       "        text-align: right;\n",
       "    }\n",
       "</style>\n",
       "<table border=\"1\" class=\"dataframe\">\n",
       "  <thead>\n",
       "    <tr style=\"text-align: right;\">\n",
       "      <th></th>\n",
       "      <th>STATISTIC</th>\n",
       "      <th>Luas_Type</th>\n",
       "      <th>TLIST(A1)</th>\n",
       "      <th>Year</th>\n",
       "      <th>C01885V02316</th>\n",
       "      <th>Month</th>\n",
       "      <th>Unit</th>\n",
       "      <th>Value_Ireland</th>\n",
       "    </tr>\n",
       "  </thead>\n",
       "  <tbody>\n",
       "    <tr>\n",
       "      <th>0</th>\n",
       "      <td>TOA11C01</td>\n",
       "      <td>Red line</td>\n",
       "      <td>2018</td>\n",
       "      <td>2018</td>\n",
       "      <td>1.0</td>\n",
       "      <td>January</td>\n",
       "      <td>Number</td>\n",
       "      <td>1664495</td>\n",
       "    </tr>\n",
       "    <tr>\n",
       "      <th>1</th>\n",
       "      <td>TOA11C01</td>\n",
       "      <td>Red line</td>\n",
       "      <td>2018</td>\n",
       "      <td>2018</td>\n",
       "      <td>2.0</td>\n",
       "      <td>February</td>\n",
       "      <td>Number</td>\n",
       "      <td>1657562</td>\n",
       "    </tr>\n",
       "  </tbody>\n",
       "</table>\n",
       "</div>"
      ],
      "text/plain": [
       "  STATISTIC Luas_Type  TLIST(A1)  Year  C01885V02316     Month    Unit  \\\n",
       "0  TOA11C01  Red line       2018  2018           1.0   January  Number   \n",
       "1  TOA11C01  Red line       2018  2018           2.0  February  Number   \n",
       "\n",
       "   Value_Ireland  \n",
       "0        1664495  \n",
       "1        1657562  "
      ]
     },
     "execution_count": 11,
     "metadata": {},
     "output_type": "execute_result"
    }
   ],
   "source": [
    "df.head(2)"
   ]
  },
  {
   "cell_type": "code",
   "execution_count": 12,
   "id": "1c8872b3",
   "metadata": {},
   "outputs": [],
   "source": [
    "df.drop(columns=[\"STATISTIC\", \"TLIST(A1)\", \"C01885V02316\",\"Unit\"], inplace=True)"
   ]
  },
  {
   "cell_type": "code",
   "execution_count": 13,
   "id": "fc6ca1d6",
   "metadata": {},
   "outputs": [
    {
     "name": "stdout",
     "output_type": "stream",
     "text": [
      "          Luas_Type  Year  Month  Value_Ireland\n",
      "0          Red line  2018      1        1664495\n",
      "1          Red line  2018      2        1657562\n",
      "2          Red line  2018      3        1661098\n",
      "3          Red line  2018      4        1794424\n",
      "4          Red line  2018      5        1934553\n",
      "..              ...   ...    ...            ...\n",
      "190  All Luas lines  2022      9        3811093\n",
      "191  All Luas lines  2022     10        4219124\n",
      "192  All Luas lines  2022     11        4375705\n",
      "193  All Luas lines  2022     12        4030698\n",
      "194  All Luas lines  2022      0       38667875\n",
      "\n",
      "[195 rows x 4 columns]\n"
     ]
    }
   ],
   "source": [
    "month_mapping = {'January': 1, 'February': 2, 'March': 3, 'April': 4, 'May': 5, 'June': 6,\n",
    "                 'July': 7, 'August': 8, 'September': 9, 'October': 10, 'November': 11, 'December': 12}\n",
    "\n",
    "df['Month'] = df['Month'].map(month_mapping)\n",
    "\n",
    "df['Month'] = pd.to_numeric(df['Month'], errors='coerce')\n",
    "\n",
    "df['Month'].fillna(0, inplace=True)\n",
    "\n",
    "df['Month'] = df['Month'].astype(int)\n",
    "\n",
    "print(df)"
   ]
  },
  {
   "cell_type": "code",
   "execution_count": 14,
   "id": "2ee0d764",
   "metadata": {},
   "outputs": [
    {
     "name": "stdout",
     "output_type": "stream",
     "text": [
      "      Luas_Type  Year  Month  Value_Ireland\n",
      "0      Red line  2018      1        1664495\n",
      "1      Red line  2018      2        1657562\n",
      "2      Red line  2018      3        1661098\n",
      "3      Red line  2018      4        1794424\n",
      "4      Red line  2018      5        1934553\n",
      "..          ...   ...    ...            ...\n",
      "125  Green line  2022      9        1830015\n",
      "126  Green line  2022     10        2063739\n",
      "127  Green line  2022     11        2097731\n",
      "128  Green line  2022     12        1972696\n",
      "129  Green line  2022      0       18392801\n",
      "\n",
      "[130 rows x 4 columns]\n"
     ]
    }
   ],
   "source": [
    "dft = df[df['Luas_Type'] != 'All Luas lines']\n",
    "\n",
    "print(dft)"
   ]
  },
  {
   "cell_type": "code",
   "execution_count": 15,
   "id": "eb892f7d",
   "metadata": {},
   "outputs": [
    {
     "data": {
      "text/html": [
       "<div>\n",
       "<style scoped>\n",
       "    .dataframe tbody tr th:only-of-type {\n",
       "        vertical-align: middle;\n",
       "    }\n",
       "\n",
       "    .dataframe tbody tr th {\n",
       "        vertical-align: top;\n",
       "    }\n",
       "\n",
       "    .dataframe thead th {\n",
       "        text-align: right;\n",
       "    }\n",
       "</style>\n",
       "<table border=\"1\" class=\"dataframe\">\n",
       "  <thead>\n",
       "    <tr style=\"text-align: right;\">\n",
       "      <th></th>\n",
       "      <th>Luas_Type</th>\n",
       "      <th>Year</th>\n",
       "      <th>Month</th>\n",
       "      <th>Value_Ireland</th>\n",
       "    </tr>\n",
       "  </thead>\n",
       "  <tbody>\n",
       "    <tr>\n",
       "      <th>0</th>\n",
       "      <td>Red line</td>\n",
       "      <td>2018</td>\n",
       "      <td>1</td>\n",
       "      <td>1664495</td>\n",
       "    </tr>\n",
       "    <tr>\n",
       "      <th>1</th>\n",
       "      <td>Red line</td>\n",
       "      <td>2018</td>\n",
       "      <td>2</td>\n",
       "      <td>1657562</td>\n",
       "    </tr>\n",
       "    <tr>\n",
       "      <th>2</th>\n",
       "      <td>Red line</td>\n",
       "      <td>2018</td>\n",
       "      <td>3</td>\n",
       "      <td>1661098</td>\n",
       "    </tr>\n",
       "    <tr>\n",
       "      <th>3</th>\n",
       "      <td>Red line</td>\n",
       "      <td>2018</td>\n",
       "      <td>4</td>\n",
       "      <td>1794424</td>\n",
       "    </tr>\n",
       "    <tr>\n",
       "      <th>4</th>\n",
       "      <td>Red line</td>\n",
       "      <td>2018</td>\n",
       "      <td>5</td>\n",
       "      <td>1934553</td>\n",
       "    </tr>\n",
       "  </tbody>\n",
       "</table>\n",
       "</div>"
      ],
      "text/plain": [
       "  Luas_Type  Year  Month  Value_Ireland\n",
       "0  Red line  2018      1        1664495\n",
       "1  Red line  2018      2        1657562\n",
       "2  Red line  2018      3        1661098\n",
       "3  Red line  2018      4        1794424\n",
       "4  Red line  2018      5        1934553"
      ]
     },
     "execution_count": 15,
     "metadata": {},
     "output_type": "execute_result"
    }
   ],
   "source": [
    "dft.head(5)"
   ]
  },
  {
   "cell_type": "markdown",
   "id": "6a1d1bc0",
   "metadata": {},
   "source": [
    "# dft = all luas line all year dataframe"
   ]
  },
  {
   "cell_type": "code",
   "execution_count": 16,
   "id": "176f2698",
   "metadata": {},
   "outputs": [
    {
     "name": "stdout",
     "output_type": "stream",
     "text": [
      "          Luas_Type  Year  Month  Value_Ireland\n",
      "130  All Luas lines  2018      1        3218649\n",
      "131  All Luas lines  2018      2        3118289\n",
      "132  All Luas lines  2018      3        3097570\n",
      "133  All Luas lines  2018      4        3350056\n",
      "134  All Luas lines  2018      5        3622338\n",
      "..              ...   ...    ...            ...\n",
      "190  All Luas lines  2022      9        3811093\n",
      "191  All Luas lines  2022     10        4219124\n",
      "192  All Luas lines  2022     11        4375705\n",
      "193  All Luas lines  2022     12        4030698\n",
      "194  All Luas lines  2022      0       38667875\n",
      "\n",
      "[65 rows x 4 columns]\n"
     ]
    }
   ],
   "source": [
    "dframe = pd.DataFrame(df)\n",
    "\n",
    "df = dframe[(dframe['Luas_Type'] == 'All Luas lines')]\n",
    "\n",
    "print(df)"
   ]
  },
  {
   "cell_type": "markdown",
   "id": "bcc69e1e",
   "metadata": {},
   "source": [
    "# df= all luas line all year dataframe"
   ]
  },
  {
   "cell_type": "code",
   "execution_count": 17,
   "id": "1fcaf122",
   "metadata": {},
   "outputs": [],
   "source": [
    "from sklearn.preprocessing import OrdinalEncoder\n",
    "from sklearn.preprocessing import LabelEncoder"
   ]
  },
  {
   "cell_type": "code",
   "execution_count": 18,
   "id": "b788c951",
   "metadata": {},
   "outputs": [],
   "source": [
    "l_encoder = LabelEncoder()\n",
    "\n",
    "# Put the type of all data of object type into the same shape (float).with the Encoder function."
   ]
  },
  {
   "cell_type": "code",
   "execution_count": 19,
   "id": "bc29ae09",
   "metadata": {},
   "outputs": [],
   "source": [
    "df[\"Luas_Type_Encoded\"] =l_encoder.fit_transform(df[\"Luas_Type\"])\n",
    "\n",
    "#To convert the numeric value of the 'Luas_Type' column .l_encoder.fit_transform function"
   ]
  },
  {
   "cell_type": "code",
   "execution_count": 20,
   "id": "acee57e6",
   "metadata": {},
   "outputs": [],
   "source": [
    "dft[\"Luas_Type_Encoded\"] =l_encoder.fit_transform(dft[\"Luas_Type\"])\n",
    "\n",
    "#To convert the numeric value of the 'Luas_Type' column .l_encoder.fit_transform function"
   ]
  },
  {
   "cell_type": "code",
   "execution_count": 21,
   "id": "e15fdd67",
   "metadata": {},
   "outputs": [],
   "source": [
    "df.drop(columns=[\"Luas_Type\"], inplace=True)"
   ]
  },
  {
   "cell_type": "code",
   "execution_count": 22,
   "id": "211d6cff",
   "metadata": {},
   "outputs": [],
   "source": [
    "dft.drop(columns=[\"Luas_Type\"], inplace=True)"
   ]
  },
  {
   "cell_type": "code",
   "execution_count": 23,
   "id": "35cb1c00",
   "metadata": {},
   "outputs": [
    {
     "data": {
      "text/html": [
       "<div>\n",
       "<style scoped>\n",
       "    .dataframe tbody tr th:only-of-type {\n",
       "        vertical-align: middle;\n",
       "    }\n",
       "\n",
       "    .dataframe tbody tr th {\n",
       "        vertical-align: top;\n",
       "    }\n",
       "\n",
       "    .dataframe thead th {\n",
       "        text-align: right;\n",
       "    }\n",
       "</style>\n",
       "<table border=\"1\" class=\"dataframe\">\n",
       "  <thead>\n",
       "    <tr style=\"text-align: right;\">\n",
       "      <th></th>\n",
       "      <th>Year</th>\n",
       "      <th>Month</th>\n",
       "      <th>Value_Ireland</th>\n",
       "      <th>Luas_Type_Encoded</th>\n",
       "    </tr>\n",
       "  </thead>\n",
       "  <tbody>\n",
       "    <tr>\n",
       "      <th>130</th>\n",
       "      <td>2018</td>\n",
       "      <td>1</td>\n",
       "      <td>3218649</td>\n",
       "      <td>0</td>\n",
       "    </tr>\n",
       "    <tr>\n",
       "      <th>131</th>\n",
       "      <td>2018</td>\n",
       "      <td>2</td>\n",
       "      <td>3118289</td>\n",
       "      <td>0</td>\n",
       "    </tr>\n",
       "  </tbody>\n",
       "</table>\n",
       "</div>"
      ],
      "text/plain": [
       "     Year  Month  Value_Ireland  Luas_Type_Encoded\n",
       "130  2018      1        3218649                  0\n",
       "131  2018      2        3118289                  0"
      ]
     },
     "execution_count": 23,
     "metadata": {},
     "output_type": "execute_result"
    }
   ],
   "source": [
    "df.head(2)"
   ]
  },
  {
   "cell_type": "code",
   "execution_count": 24,
   "id": "ccfca643",
   "metadata": {},
   "outputs": [
    {
     "data": {
      "text/plain": [
       "(65, 4)"
      ]
     },
     "execution_count": 24,
     "metadata": {},
     "output_type": "execute_result"
    }
   ],
   "source": [
    "df.shape"
   ]
  },
  {
   "cell_type": "code",
   "execution_count": 25,
   "id": "d2d427bf",
   "metadata": {},
   "outputs": [
    {
     "name": "stdout",
     "output_type": "stream",
     "text": [
      "<class 'pandas.core.frame.DataFrame'>\n",
      "Int64Index: 65 entries, 130 to 194\n",
      "Data columns (total 4 columns):\n",
      " #   Column             Non-Null Count  Dtype\n",
      "---  ------             --------------  -----\n",
      " 0   Year               65 non-null     int64\n",
      " 1   Month              65 non-null     int32\n",
      " 2   Value_Ireland      65 non-null     int64\n",
      " 3   Luas_Type_Encoded  65 non-null     int32\n",
      "dtypes: int32(2), int64(2)\n",
      "memory usage: 2.0 KB\n"
     ]
    }
   ],
   "source": [
    "df.info()"
   ]
  },
  {
   "cell_type": "code",
   "execution_count": 26,
   "id": "43c098e4",
   "metadata": {},
   "outputs": [
    {
     "data": {
      "text/html": [
       "<div>\n",
       "<style scoped>\n",
       "    .dataframe tbody tr th:only-of-type {\n",
       "        vertical-align: middle;\n",
       "    }\n",
       "\n",
       "    .dataframe tbody tr th {\n",
       "        vertical-align: top;\n",
       "    }\n",
       "\n",
       "    .dataframe thead th {\n",
       "        text-align: right;\n",
       "    }\n",
       "</style>\n",
       "<table border=\"1\" class=\"dataframe\">\n",
       "  <thead>\n",
       "    <tr style=\"text-align: right;\">\n",
       "      <th></th>\n",
       "      <th>Year</th>\n",
       "      <th>Month</th>\n",
       "      <th>Value_Ireland</th>\n",
       "      <th>Luas_Type_Encoded</th>\n",
       "    </tr>\n",
       "  </thead>\n",
       "  <tbody>\n",
       "    <tr>\n",
       "      <th>0</th>\n",
       "      <td>2018</td>\n",
       "      <td>1</td>\n",
       "      <td>1664495</td>\n",
       "      <td>1</td>\n",
       "    </tr>\n",
       "    <tr>\n",
       "      <th>1</th>\n",
       "      <td>2018</td>\n",
       "      <td>2</td>\n",
       "      <td>1657562</td>\n",
       "      <td>1</td>\n",
       "    </tr>\n",
       "    <tr>\n",
       "      <th>2</th>\n",
       "      <td>2018</td>\n",
       "      <td>3</td>\n",
       "      <td>1661098</td>\n",
       "      <td>1</td>\n",
       "    </tr>\n",
       "    <tr>\n",
       "      <th>3</th>\n",
       "      <td>2018</td>\n",
       "      <td>4</td>\n",
       "      <td>1794424</td>\n",
       "      <td>1</td>\n",
       "    </tr>\n",
       "    <tr>\n",
       "      <th>4</th>\n",
       "      <td>2018</td>\n",
       "      <td>5</td>\n",
       "      <td>1934553</td>\n",
       "      <td>1</td>\n",
       "    </tr>\n",
       "    <tr>\n",
       "      <th>...</th>\n",
       "      <td>...</td>\n",
       "      <td>...</td>\n",
       "      <td>...</td>\n",
       "      <td>...</td>\n",
       "    </tr>\n",
       "    <tr>\n",
       "      <th>97</th>\n",
       "      <td>2020</td>\n",
       "      <td>7</td>\n",
       "      <td>620358</td>\n",
       "      <td>0</td>\n",
       "    </tr>\n",
       "    <tr>\n",
       "      <th>98</th>\n",
       "      <td>2020</td>\n",
       "      <td>8</td>\n",
       "      <td>698594</td>\n",
       "      <td>0</td>\n",
       "    </tr>\n",
       "    <tr>\n",
       "      <th>99</th>\n",
       "      <td>2020</td>\n",
       "      <td>9</td>\n",
       "      <td>763488</td>\n",
       "      <td>0</td>\n",
       "    </tr>\n",
       "    <tr>\n",
       "      <th>100</th>\n",
       "      <td>2020</td>\n",
       "      <td>10</td>\n",
       "      <td>656545</td>\n",
       "      <td>0</td>\n",
       "    </tr>\n",
       "    <tr>\n",
       "      <th>101</th>\n",
       "      <td>2020</td>\n",
       "      <td>11</td>\n",
       "      <td>489420</td>\n",
       "      <td>0</td>\n",
       "    </tr>\n",
       "  </tbody>\n",
       "</table>\n",
       "<p>102 rows × 4 columns</p>\n",
       "</div>"
      ],
      "text/plain": [
       "     Year  Month  Value_Ireland  Luas_Type_Encoded\n",
       "0    2018      1        1664495                  1\n",
       "1    2018      2        1657562                  1\n",
       "2    2018      3        1661098                  1\n",
       "3    2018      4        1794424                  1\n",
       "4    2018      5        1934553                  1\n",
       "..    ...    ...            ...                ...\n",
       "97   2020      7         620358                  0\n",
       "98   2020      8         698594                  0\n",
       "99   2020      9         763488                  0\n",
       "100  2020     10         656545                  0\n",
       "101  2020     11         489420                  0\n",
       "\n",
       "[102 rows x 4 columns]"
      ]
     },
     "execution_count": 26,
     "metadata": {},
     "output_type": "execute_result"
    }
   ],
   "source": [
    "dft.head(102)"
   ]
  },
  {
   "cell_type": "code",
   "execution_count": 27,
   "id": "666b1edc",
   "metadata": {},
   "outputs": [],
   "source": [
    "dff= dft[dft['Month'] != 0]\n",
    "dft = dff.reset_index(drop=True)"
   ]
  },
  {
   "cell_type": "code",
   "execution_count": 28,
   "id": "37ba0340",
   "metadata": {},
   "outputs": [
    {
     "name": "stdout",
     "output_type": "stream",
     "text": [
      "     Year  Month  Value_Ireland  Luas_Type_Encoded\n",
      "0    2018      1        1664495                  1\n",
      "1    2018      2        1657562                  1\n",
      "2    2018      3        1661098                  1\n",
      "3    2018      4        1794424                  1\n",
      "4    2018      5        1934553                  1\n",
      "..    ...    ...            ...                ...\n",
      "115  2022      8        1547295                  0\n",
      "116  2022      9        1830015                  0\n",
      "117  2022     10        2063739                  0\n",
      "118  2022     11        2097731                  0\n",
      "119  2022     12        1972696                  0\n",
      "\n",
      "[120 rows x 4 columns]\n"
     ]
    }
   ],
   "source": [
    "print(dft)"
   ]
  },
  {
   "cell_type": "code",
   "execution_count": 29,
   "id": "2fb7e567",
   "metadata": {},
   "outputs": [
    {
     "data": {
      "text/plain": [
       "Month\n",
       "11    1656054.2\n",
       "10    1649255.7\n",
       "12    1593854.9\n",
       "9     1522247.0\n",
       "7     1399862.9\n",
       "8     1378975.0\n",
       "2     1349194.4\n",
       "1     1311528.8\n",
       "6     1278932.7\n",
       "3     1263196.0\n",
       "5     1241331.1\n",
       "4     1106512.0\n",
       "Name: Value_Ireland, dtype: float64"
      ]
     },
     "execution_count": 29,
     "metadata": {},
     "output_type": "execute_result"
    }
   ],
   "source": [
    "dft.groupby('Month')['Value_Ireland'].mean().sort_values(ascending=False)"
   ]
  },
  {
   "cell_type": "code",
   "execution_count": 30,
   "id": "195fe03d",
   "metadata": {},
   "outputs": [
    {
     "data": {
      "text/plain": [
       "(120, 4)"
      ]
     },
     "execution_count": 30,
     "metadata": {},
     "output_type": "execute_result"
    }
   ],
   "source": [
    "dft.shape"
   ]
  },
  {
   "cell_type": "markdown",
   "id": "85e315bc",
   "metadata": {},
   "source": [
    "All Luas line = 0\n",
    "\n",
    "Green line = 1\n",
    "\n",
    "Red line=2"
   ]
  },
  {
   "cell_type": "code",
   "execution_count": 31,
   "id": "0b205cb3",
   "metadata": {},
   "outputs": [
    {
     "name": "stdout",
     "output_type": "stream",
     "text": [
      "<class 'pandas.core.frame.DataFrame'>\n",
      "RangeIndex: 120 entries, 0 to 119\n",
      "Data columns (total 4 columns):\n",
      " #   Column             Non-Null Count  Dtype\n",
      "---  ------             --------------  -----\n",
      " 0   Year               120 non-null    int64\n",
      " 1   Month              120 non-null    int32\n",
      " 2   Value_Ireland      120 non-null    int64\n",
      " 3   Luas_Type_Encoded  120 non-null    int32\n",
      "dtypes: int32(2), int64(2)\n",
      "memory usage: 2.9 KB\n"
     ]
    }
   ],
   "source": [
    "dft.info()"
   ]
  },
  {
   "cell_type": "code",
   "execution_count": 32,
   "id": "e18e8bca",
   "metadata": {},
   "outputs": [
    {
     "name": "stdout",
     "output_type": "stream",
     "text": [
      "     Year  Month  Value_Ireland  Luas_Type_Encoded\n",
      "182  2022      1        1810277                  0\n",
      "183  2022      2        2232074                  0\n",
      "184  2022      3        2677589                  0\n",
      "185  2022      4        2719243                  0\n",
      "186  2022      5        3052020                  0\n",
      "187  2022      6        3185330                  0\n",
      "188  2022      7        3262491                  0\n",
      "189  2022      8        3292231                  0\n",
      "190  2022      9        3811093                  0\n",
      "191  2022     10        4219124                  0\n",
      "192  2022     11        4375705                  0\n",
      "193  2022     12        4030698                  0\n",
      "194  2022      0       38667875                  0\n"
     ]
    }
   ],
   "source": [
    "df_2022 = df[df['Year'] == 2022]\n",
    "\n",
    "print(df_2022)"
   ]
  },
  {
   "cell_type": "code",
   "execution_count": 33,
   "id": "ff63653a",
   "metadata": {},
   "outputs": [
    {
     "name": "stdout",
     "output_type": "stream",
     "text": [
      "     Year  Month  Value_Ireland  Luas_Type_Encoded\n",
      "182  2022      1        1810277                  0\n",
      "183  2022      2        2232074                  0\n",
      "184  2022      3        2677589                  0\n",
      "185  2022      4        2719243                  0\n",
      "186  2022      5        3052020                  0\n",
      "187  2022      6        3185330                  0\n",
      "188  2022      7        3262491                  0\n",
      "189  2022      8        3292231                  0\n",
      "190  2022      9        3811093                  0\n",
      "191  2022     10        4219124                  0\n",
      "192  2022     11        4375705                  0\n",
      "193  2022     12        4030698                  0\n"
     ]
    }
   ],
   "source": [
    "df2 = df_2022[df_2022['Month'] != 0]\n",
    "print(df2)"
   ]
  },
  {
   "cell_type": "markdown",
   "id": "19b0afe5",
   "metadata": {},
   "source": [
    "# df2 = All luas line, year 2022"
   ]
  },
  {
   "cell_type": "code",
   "execution_count": 34,
   "id": "46ae90fe",
   "metadata": {},
   "outputs": [],
   "source": [
    "missing_values = ['/',' ','-','--','na','Na','n/a','NA','n.a.','?','nan','Nan','nul','Nul','null','Null']\n",
    "\n",
    "df1=pd.read_csv(\"Turkey_Rail_Passenger_Number.csv\", encoding = 'latin-1' ,na_values=missing_values )\n"
   ]
  },
  {
   "cell_type": "code",
   "execution_count": 35,
   "id": "483d01ae",
   "metadata": {},
   "outputs": [
    {
     "data": {
      "text/plain": [
       "passage_cnt              0\n",
       "passanger_cnt            0\n",
       "transaction_year         0\n",
       "transaction_month        0\n",
       "transaction_day          0\n",
       "line                     0\n",
       "station_name          3657\n",
       "station_number        3657\n",
       "town                 51100\n",
       "age                      0\n",
       "longitude            85345\n",
       "latitude             85345\n",
       "dtype: int64"
      ]
     },
     "execution_count": 35,
     "metadata": {},
     "output_type": "execute_result"
    }
   ],
   "source": [
    "df1.isnull().sum()"
   ]
  },
  {
   "cell_type": "code",
   "execution_count": 36,
   "id": "aad01aa2",
   "metadata": {},
   "outputs": [
    {
     "data": {
      "text/plain": [
       "Index(['passage_cnt', 'passanger_cnt', 'transaction_year', 'transaction_month',\n",
       "       'transaction_day', 'line', 'station_name', 'station_number', 'town',\n",
       "       'age', 'longitude', 'latitude'],\n",
       "      dtype='object')"
      ]
     },
     "execution_count": 36,
     "metadata": {},
     "output_type": "execute_result"
    }
   ],
   "source": [
    "df1.columns"
   ]
  },
  {
   "cell_type": "code",
   "execution_count": 37,
   "id": "7b2938f7",
   "metadata": {},
   "outputs": [],
   "source": [
    "df1.drop(columns=[\"station_name\", \"passage_cnt\", \"station_number\", \"town\", \"longitude\", \"latitude\", \"line\"], inplace=True)"
   ]
  },
  {
   "cell_type": "code",
   "execution_count": 38,
   "id": "c48b7e7a",
   "metadata": {},
   "outputs": [],
   "source": [
    "df1.rename(columns={ 'transaction_year':'Year', 'transaction_month':'Month',\n",
    "                    'transaction_day':'Day_Turkey', 'passanger_cnt':'Value_Turkey', 'age': 'Age'}, inplace=True)"
   ]
  },
  {
   "cell_type": "code",
   "execution_count": 39,
   "id": "e03c11fb",
   "metadata": {},
   "outputs": [
    {
     "data": {
      "text/plain": [
       "Value_Turkey    0.0\n",
       "Year            0.0\n",
       "Month           0.0\n",
       "Day_Turkey      0.0\n",
       "Age             0.0\n",
       "dtype: float64"
      ]
     },
     "execution_count": 39,
     "metadata": {},
     "output_type": "execute_result"
    }
   ],
   "source": [
    "df1.isnull().sum() / len(df) * 100"
   ]
  },
  {
   "cell_type": "code",
   "execution_count": 40,
   "id": "3ad5a6d9",
   "metadata": {},
   "outputs": [],
   "source": [
    "df1[\"Age_Encoded\"] =l_encoder.fit_transform(df1[\"Age\"])"
   ]
  },
  {
   "cell_type": "code",
   "execution_count": 41,
   "id": "21058949",
   "metadata": {},
   "outputs": [],
   "source": [
    "df1.drop(columns=[\"Age\"], inplace=True)"
   ]
  },
  {
   "cell_type": "code",
   "execution_count": 42,
   "id": "b22bad1f",
   "metadata": {},
   "outputs": [
    {
     "data": {
      "text/html": [
       "<div>\n",
       "<style scoped>\n",
       "    .dataframe tbody tr th:only-of-type {\n",
       "        vertical-align: middle;\n",
       "    }\n",
       "\n",
       "    .dataframe tbody tr th {\n",
       "        vertical-align: top;\n",
       "    }\n",
       "\n",
       "    .dataframe thead th {\n",
       "        text-align: right;\n",
       "    }\n",
       "</style>\n",
       "<table border=\"1\" class=\"dataframe\">\n",
       "  <thead>\n",
       "    <tr style=\"text-align: right;\">\n",
       "      <th></th>\n",
       "      <th>Value_Turkey</th>\n",
       "      <th>Year</th>\n",
       "      <th>Month</th>\n",
       "      <th>Day_Turkey</th>\n",
       "      <th>Age_Encoded</th>\n",
       "    </tr>\n",
       "  </thead>\n",
       "  <tbody>\n",
       "    <tr>\n",
       "      <th>0</th>\n",
       "      <td>1656</td>\n",
       "      <td>2022</td>\n",
       "      <td>1</td>\n",
       "      <td>1</td>\n",
       "      <td>0</td>\n",
       "    </tr>\n",
       "    <tr>\n",
       "      <th>1</th>\n",
       "      <td>2469</td>\n",
       "      <td>2022</td>\n",
       "      <td>1</td>\n",
       "      <td>1</td>\n",
       "      <td>0</td>\n",
       "    </tr>\n",
       "    <tr>\n",
       "      <th>2</th>\n",
       "      <td>2119</td>\n",
       "      <td>2022</td>\n",
       "      <td>1</td>\n",
       "      <td>1</td>\n",
       "      <td>1</td>\n",
       "    </tr>\n",
       "    <tr>\n",
       "      <th>3</th>\n",
       "      <td>3085</td>\n",
       "      <td>2022</td>\n",
       "      <td>1</td>\n",
       "      <td>1</td>\n",
       "      <td>1</td>\n",
       "    </tr>\n",
       "    <tr>\n",
       "      <th>4</th>\n",
       "      <td>1006</td>\n",
       "      <td>2022</td>\n",
       "      <td>1</td>\n",
       "      <td>1</td>\n",
       "      <td>2</td>\n",
       "    </tr>\n",
       "  </tbody>\n",
       "</table>\n",
       "</div>"
      ],
      "text/plain": [
       "   Value_Turkey  Year  Month  Day_Turkey  Age_Encoded\n",
       "0          1656  2022      1           1            0\n",
       "1          2469  2022      1           1            0\n",
       "2          2119  2022      1           1            1\n",
       "3          3085  2022      1           1            1\n",
       "4          1006  2022      1           1            2"
      ]
     },
     "execution_count": 42,
     "metadata": {},
     "output_type": "execute_result"
    }
   ],
   "source": [
    "df1.head(5)"
   ]
  },
  {
   "cell_type": "code",
   "execution_count": 43,
   "id": "d765b12e",
   "metadata": {},
   "outputs": [
    {
     "name": "stdout",
     "output_type": "stream",
     "text": [
      "    Year  Month  Value_Turkey\n",
      "0   2022      1      61040332\n",
      "1   2022      2      63443256\n",
      "2   2022      3      74738772\n",
      "3   2022      4      71808241\n",
      "4   2022      5      77604746\n",
      "5   2022      6      75487693\n",
      "6   2022      7      62299224\n",
      "7   2022      8      67385807\n",
      "8   2022      9      74674312\n",
      "9   2022     10      89331529\n",
      "10  2022     11      85124266\n",
      "11  2022     12      87866824\n"
     ]
    }
   ],
   "source": [
    "df1['month_day'] = df1['Month'].astype(str).str.zfill(2) + '_' + df1['Day_Turkey'].astype(str).str.zfill(2)\n",
    "\n",
    "df1_2022 = df1.groupby(['Year', 'Month'])['Value_Turkey'].sum().reset_index()\n",
    "\n",
    "print(df1_2022)"
   ]
  },
  {
   "cell_type": "code",
   "execution_count": 44,
   "id": "76dc5c49",
   "metadata": {},
   "outputs": [
    {
     "data": {
      "text/plain": [
       "(12, 3)"
      ]
     },
     "execution_count": 44,
     "metadata": {},
     "output_type": "execute_result"
    }
   ],
   "source": [
    "df1_2022.shape"
   ]
  },
  {
   "cell_type": "code",
   "execution_count": 45,
   "id": "74cc3529",
   "metadata": {},
   "outputs": [
    {
     "data": {
      "text/plain": [
       "(12, 4)"
      ]
     },
     "execution_count": 45,
     "metadata": {},
     "output_type": "execute_result"
    }
   ],
   "source": [
    "df2.shape"
   ]
  },
  {
   "cell_type": "markdown",
   "id": "415a4464",
   "metadata": {},
   "source": [
    "# df1_2022 Turkey all rail, year 2022"
   ]
  },
  {
   "cell_type": "code",
   "execution_count": 46,
   "id": "9e137c58",
   "metadata": {},
   "outputs": [
    {
     "name": "stdout",
     "output_type": "stream",
     "text": [
      "    Year_x  Month  Value_Ireland  Luas_Type_Encoded  Year_y  Value_Turkey\n",
      "0     2022      1        1810277                  0    2022      61040332\n",
      "1     2022      2        2232074                  0    2022      63443256\n",
      "2     2022      3        2677589                  0    2022      74738772\n",
      "3     2022      4        2719243                  0    2022      71808241\n",
      "4     2022      5        3052020                  0    2022      77604746\n",
      "5     2022      6        3185330                  0    2022      75487693\n",
      "6     2022      7        3262491                  0    2022      62299224\n",
      "7     2022      8        3292231                  0    2022      67385807\n",
      "8     2022      9        3811093                  0    2022      74674312\n",
      "9     2022     10        4219124                  0    2022      89331529\n",
      "10    2022     11        4375705                  0    2022      85124266\n",
      "11    2022     12        4030698                  0    2022      87866824\n"
     ]
    }
   ],
   "source": [
    "merged_df = pd.merge(df2, df1_2022, on='Month', how='outer')\n",
    "\n",
    "print(merged_df)"
   ]
  },
  {
   "cell_type": "code",
   "execution_count": 47,
   "id": "5e58ecb0",
   "metadata": {},
   "outputs": [
    {
     "data": {
      "text/plain": [
       "(12, 6)"
      ]
     },
     "execution_count": 47,
     "metadata": {},
     "output_type": "execute_result"
    }
   ],
   "source": [
    "merged_df.shape"
   ]
  },
  {
   "cell_type": "markdown",
   "id": "46d7ffed",
   "metadata": {},
   "source": [
    "# merged_df = Ireland and Turkey 2022"
   ]
  },
  {
   "cell_type": "code",
   "execution_count": 48,
   "id": "c531a189",
   "metadata": {},
   "outputs": [
    {
     "data": {
      "text/plain": [
       "(65, 4)"
      ]
     },
     "execution_count": 48,
     "metadata": {},
     "output_type": "execute_result"
    }
   ],
   "source": [
    "df.shape"
   ]
  },
  {
   "cell_type": "code",
   "execution_count": 49,
   "id": "d2cc5697",
   "metadata": {},
   "outputs": [
    {
     "data": {
      "text/html": [
       "<div>\n",
       "<style scoped>\n",
       "    .dataframe tbody tr th:only-of-type {\n",
       "        vertical-align: middle;\n",
       "    }\n",
       "\n",
       "    .dataframe tbody tr th {\n",
       "        vertical-align: top;\n",
       "    }\n",
       "\n",
       "    .dataframe thead th {\n",
       "        text-align: right;\n",
       "    }\n",
       "</style>\n",
       "<table border=\"1\" class=\"dataframe\">\n",
       "  <thead>\n",
       "    <tr style=\"text-align: right;\">\n",
       "      <th></th>\n",
       "      <th>Year</th>\n",
       "      <th>Month</th>\n",
       "      <th>Value_Ireland</th>\n",
       "      <th>Luas_Type_Encoded</th>\n",
       "    </tr>\n",
       "  </thead>\n",
       "  <tbody>\n",
       "    <tr>\n",
       "      <th>130</th>\n",
       "      <td>2018</td>\n",
       "      <td>1</td>\n",
       "      <td>3218649</td>\n",
       "      <td>0</td>\n",
       "    </tr>\n",
       "    <tr>\n",
       "      <th>131</th>\n",
       "      <td>2018</td>\n",
       "      <td>2</td>\n",
       "      <td>3118289</td>\n",
       "      <td>0</td>\n",
       "    </tr>\n",
       "    <tr>\n",
       "      <th>132</th>\n",
       "      <td>2018</td>\n",
       "      <td>3</td>\n",
       "      <td>3097570</td>\n",
       "      <td>0</td>\n",
       "    </tr>\n",
       "    <tr>\n",
       "      <th>133</th>\n",
       "      <td>2018</td>\n",
       "      <td>4</td>\n",
       "      <td>3350056</td>\n",
       "      <td>0</td>\n",
       "    </tr>\n",
       "    <tr>\n",
       "      <th>134</th>\n",
       "      <td>2018</td>\n",
       "      <td>5</td>\n",
       "      <td>3622338</td>\n",
       "      <td>0</td>\n",
       "    </tr>\n",
       "  </tbody>\n",
       "</table>\n",
       "</div>"
      ],
      "text/plain": [
       "     Year  Month  Value_Ireland  Luas_Type_Encoded\n",
       "130  2018      1        3218649                  0\n",
       "131  2018      2        3118289                  0\n",
       "132  2018      3        3097570                  0\n",
       "133  2018      4        3350056                  0\n",
       "134  2018      5        3622338                  0"
      ]
     },
     "execution_count": 49,
     "metadata": {},
     "output_type": "execute_result"
    }
   ],
   "source": [
    "df.head(5)"
   ]
  },
  {
   "cell_type": "code",
   "execution_count": 50,
   "id": "c7d30d94",
   "metadata": {},
   "outputs": [
    {
     "data": {
      "text/html": [
       "<div>\n",
       "<style scoped>\n",
       "    .dataframe tbody tr th:only-of-type {\n",
       "        vertical-align: middle;\n",
       "    }\n",
       "\n",
       "    .dataframe tbody tr th {\n",
       "        vertical-align: top;\n",
       "    }\n",
       "\n",
       "    .dataframe thead th {\n",
       "        text-align: right;\n",
       "    }\n",
       "</style>\n",
       "<table border=\"1\" class=\"dataframe\">\n",
       "  <thead>\n",
       "    <tr style=\"text-align: right;\">\n",
       "      <th></th>\n",
       "      <th>count</th>\n",
       "      <th>mean</th>\n",
       "      <th>std</th>\n",
       "      <th>min</th>\n",
       "      <th>25%</th>\n",
       "      <th>50%</th>\n",
       "      <th>75%</th>\n",
       "      <th>max</th>\n",
       "    </tr>\n",
       "  </thead>\n",
       "  <tbody>\n",
       "    <tr>\n",
       "      <th>Year</th>\n",
       "      <td>65.0</td>\n",
       "      <td>2.020000e+03</td>\n",
       "      <td>1.425219e+00</td>\n",
       "      <td>2018.0</td>\n",
       "      <td>2019.0</td>\n",
       "      <td>2020.0</td>\n",
       "      <td>2021.0</td>\n",
       "      <td>2022.0</td>\n",
       "    </tr>\n",
       "    <tr>\n",
       "      <th>Month</th>\n",
       "      <td>65.0</td>\n",
       "      <td>6.000000e+00</td>\n",
       "      <td>3.770776e+00</td>\n",
       "      <td>0.0</td>\n",
       "      <td>3.0</td>\n",
       "      <td>6.0</td>\n",
       "      <td>9.0</td>\n",
       "      <td>12.0</td>\n",
       "    </tr>\n",
       "    <tr>\n",
       "      <th>Value_Ireland</th>\n",
       "      <td>65.0</td>\n",
       "      <td>5.154137e+06</td>\n",
       "      <td>8.979080e+06</td>\n",
       "      <td>228633.0</td>\n",
       "      <td>1821536.0</td>\n",
       "      <td>3292231.0</td>\n",
       "      <td>3919977.0</td>\n",
       "      <td>48347231.0</td>\n",
       "    </tr>\n",
       "    <tr>\n",
       "      <th>Luas_Type_Encoded</th>\n",
       "      <td>65.0</td>\n",
       "      <td>0.000000e+00</td>\n",
       "      <td>0.000000e+00</td>\n",
       "      <td>0.0</td>\n",
       "      <td>0.0</td>\n",
       "      <td>0.0</td>\n",
       "      <td>0.0</td>\n",
       "      <td>0.0</td>\n",
       "    </tr>\n",
       "  </tbody>\n",
       "</table>\n",
       "</div>"
      ],
      "text/plain": [
       "                   count          mean           std       min        25%  \\\n",
       "Year                65.0  2.020000e+03  1.425219e+00    2018.0     2019.0   \n",
       "Month               65.0  6.000000e+00  3.770776e+00       0.0        3.0   \n",
       "Value_Ireland       65.0  5.154137e+06  8.979080e+06  228633.0  1821536.0   \n",
       "Luas_Type_Encoded   65.0  0.000000e+00  0.000000e+00       0.0        0.0   \n",
       "\n",
       "                         50%        75%         max  \n",
       "Year                  2020.0     2021.0      2022.0  \n",
       "Month                    6.0        9.0        12.0  \n",
       "Value_Ireland      3292231.0  3919977.0  48347231.0  \n",
       "Luas_Type_Encoded        0.0        0.0         0.0  "
      ]
     },
     "execution_count": 50,
     "metadata": {},
     "output_type": "execute_result"
    }
   ],
   "source": [
    "df.describe().T"
   ]
  },
  {
   "cell_type": "code",
   "execution_count": 51,
   "id": "488a9db3",
   "metadata": {},
   "outputs": [
    {
     "data": {
      "text/html": [
       "<div>\n",
       "<style scoped>\n",
       "    .dataframe tbody tr th:only-of-type {\n",
       "        vertical-align: middle;\n",
       "    }\n",
       "\n",
       "    .dataframe tbody tr th {\n",
       "        vertical-align: top;\n",
       "    }\n",
       "\n",
       "    .dataframe thead th {\n",
       "        text-align: right;\n",
       "    }\n",
       "</style>\n",
       "<table border=\"1\" class=\"dataframe\">\n",
       "  <thead>\n",
       "    <tr style=\"text-align: right;\">\n",
       "      <th></th>\n",
       "      <th>Year</th>\n",
       "      <th>Month</th>\n",
       "      <th>Value_Ireland</th>\n",
       "      <th>Luas_Type_Encoded</th>\n",
       "    </tr>\n",
       "  </thead>\n",
       "  <tbody>\n",
       "    <tr>\n",
       "      <th>130</th>\n",
       "      <td>2018</td>\n",
       "      <td>1</td>\n",
       "      <td>3218649</td>\n",
       "      <td>0</td>\n",
       "    </tr>\n",
       "    <tr>\n",
       "      <th>131</th>\n",
       "      <td>2018</td>\n",
       "      <td>2</td>\n",
       "      <td>3118289</td>\n",
       "      <td>0</td>\n",
       "    </tr>\n",
       "  </tbody>\n",
       "</table>\n",
       "</div>"
      ],
      "text/plain": [
       "     Year  Month  Value_Ireland  Luas_Type_Encoded\n",
       "130  2018      1        3218649                  0\n",
       "131  2018      2        3118289                  0"
      ]
     },
     "execution_count": 51,
     "metadata": {},
     "output_type": "execute_result"
    }
   ],
   "source": [
    "df.head(2)"
   ]
  },
  {
   "cell_type": "code",
   "execution_count": 52,
   "id": "6c35ae3d",
   "metadata": {},
   "outputs": [],
   "source": [
    "values = df.loc[df['Value_Ireland'] != 0]"
   ]
  },
  {
   "cell_type": "code",
   "execution_count": 53,
   "id": "1b7d8baf",
   "metadata": {},
   "outputs": [
    {
     "data": {
      "text/html": [
       "<div>\n",
       "<style scoped>\n",
       "    .dataframe tbody tr th:only-of-type {\n",
       "        vertical-align: middle;\n",
       "    }\n",
       "\n",
       "    .dataframe tbody tr th {\n",
       "        vertical-align: top;\n",
       "    }\n",
       "\n",
       "    .dataframe thead th {\n",
       "        text-align: right;\n",
       "    }\n",
       "</style>\n",
       "<table border=\"1\" class=\"dataframe\">\n",
       "  <thead>\n",
       "    <tr style=\"text-align: right;\">\n",
       "      <th></th>\n",
       "      <th>Year</th>\n",
       "      <th>Month</th>\n",
       "      <th>Value_Ireland</th>\n",
       "      <th>Luas_Type_Encoded</th>\n",
       "    </tr>\n",
       "  </thead>\n",
       "  <tbody>\n",
       "    <tr>\n",
       "      <th>130</th>\n",
       "      <td>2018</td>\n",
       "      <td>1</td>\n",
       "      <td>3218649</td>\n",
       "      <td>0</td>\n",
       "    </tr>\n",
       "    <tr>\n",
       "      <th>131</th>\n",
       "      <td>2018</td>\n",
       "      <td>2</td>\n",
       "      <td>3118289</td>\n",
       "      <td>0</td>\n",
       "    </tr>\n",
       "    <tr>\n",
       "      <th>132</th>\n",
       "      <td>2018</td>\n",
       "      <td>3</td>\n",
       "      <td>3097570</td>\n",
       "      <td>0</td>\n",
       "    </tr>\n",
       "    <tr>\n",
       "      <th>133</th>\n",
       "      <td>2018</td>\n",
       "      <td>4</td>\n",
       "      <td>3350056</td>\n",
       "      <td>0</td>\n",
       "    </tr>\n",
       "    <tr>\n",
       "      <th>134</th>\n",
       "      <td>2018</td>\n",
       "      <td>5</td>\n",
       "      <td>3622338</td>\n",
       "      <td>0</td>\n",
       "    </tr>\n",
       "  </tbody>\n",
       "</table>\n",
       "</div>"
      ],
      "text/plain": [
       "     Year  Month  Value_Ireland  Luas_Type_Encoded\n",
       "130  2018      1        3218649                  0\n",
       "131  2018      2        3118289                  0\n",
       "132  2018      3        3097570                  0\n",
       "133  2018      4        3350056                  0\n",
       "134  2018      5        3622338                  0"
      ]
     },
     "execution_count": 53,
     "metadata": {},
     "output_type": "execute_result"
    }
   ],
   "source": [
    "df.head(5)"
   ]
  },
  {
   "cell_type": "code",
   "execution_count": 54,
   "id": "0f361c6c",
   "metadata": {},
   "outputs": [
    {
     "data": {
      "image/png": "[encoded data removed]",
      "text/plain": [
       "<Figure size 640x480 with 1 Axes>"
      ]
     },
     "metadata": {},
     "output_type": "display_data"
    }
   ],
   "source": [
    "import matplotlib.ticker as ticker\n",
    "\n",
    "# Apply sns.boxplot to visualise the distribution of passenger number in Ireland.\n",
    "# Use the 'values' dataframe as the data source and specify 'Value_Ireland' as the column to group the data by.\n",
    "\n",
    "sns.boxplot(data=values, x='Value_Ireland')\n",
    "\n",
    "# Set the title of the box plot using the plt.title() function\n",
    "\n",
    "plt.title('Passenger numbers')\n",
    "\n",
    "# Convert the years in the y-axis to integers for better visualization\n",
    "\n",
    "# Apply the .gca() method to get the current axes and apply the xaxis attribute set the x-axis tick locator to display\n",
    "# integers only\n",
    "\n",
    "plt.gca().xaxis.set_major_locator(ticker.MaxNLocator(integer=True))\n",
    "\n",
    "# Call the plt.show() function to display the box plot\n",
    "\n",
    "plt.show()"
   ]
  },
  {
   "cell_type": "code",
   "execution_count": 55,
   "id": "101c52dc",
   "metadata": {},
   "outputs": [
    {
     "data": {
      "text/html": [
       "<div>\n",
       "<style scoped>\n",
       "    .dataframe tbody tr th:only-of-type {\n",
       "        vertical-align: middle;\n",
       "    }\n",
       "\n",
       "    .dataframe tbody tr th {\n",
       "        vertical-align: top;\n",
       "    }\n",
       "\n",
       "    .dataframe thead th {\n",
       "        text-align: right;\n",
       "    }\n",
       "</style>\n",
       "<table border=\"1\" class=\"dataframe\">\n",
       "  <thead>\n",
       "    <tr style=\"text-align: right;\">\n",
       "      <th></th>\n",
       "      <th>Year</th>\n",
       "      <th>Month</th>\n",
       "      <th>Value_Ireland</th>\n",
       "      <th>Luas_Type_Encoded</th>\n",
       "    </tr>\n",
       "  </thead>\n",
       "  <tbody>\n",
       "    <tr>\n",
       "      <th>Year</th>\n",
       "      <td>1.000000e+00</td>\n",
       "      <td>2.435632e-14</td>\n",
       "      <td>-0.085967</td>\n",
       "      <td>NaN</td>\n",
       "    </tr>\n",
       "    <tr>\n",
       "      <th>Month</th>\n",
       "      <td>2.435632e-14</td>\n",
       "      <td>1.000000e+00</td>\n",
       "      <td>-0.399365</td>\n",
       "      <td>NaN</td>\n",
       "    </tr>\n",
       "    <tr>\n",
       "      <th>Value_Ireland</th>\n",
       "      <td>-8.596660e-02</td>\n",
       "      <td>-3.993647e-01</td>\n",
       "      <td>1.000000</td>\n",
       "      <td>NaN</td>\n",
       "    </tr>\n",
       "    <tr>\n",
       "      <th>Luas_Type_Encoded</th>\n",
       "      <td>NaN</td>\n",
       "      <td>NaN</td>\n",
       "      <td>NaN</td>\n",
       "      <td>NaN</td>\n",
       "    </tr>\n",
       "  </tbody>\n",
       "</table>\n",
       "</div>"
      ],
      "text/plain": [
       "                           Year         Month  Value_Ireland  \\\n",
       "Year               1.000000e+00  2.435632e-14      -0.085967   \n",
       "Month              2.435632e-14  1.000000e+00      -0.399365   \n",
       "Value_Ireland     -8.596660e-02 -3.993647e-01       1.000000   \n",
       "Luas_Type_Encoded           NaN           NaN            NaN   \n",
       "\n",
       "                   Luas_Type_Encoded  \n",
       "Year                             NaN  \n",
       "Month                            NaN  \n",
       "Value_Ireland                    NaN  \n",
       "Luas_Type_Encoded                NaN  "
      ]
     },
     "execution_count": 55,
     "metadata": {},
     "output_type": "execute_result"
    },
    {
     "data": {
      "image/png": "[encoded data removed]",
      "text/plain": [
       "<Figure size 2000x1000 with 2 Axes>"
      ]
     },
     "metadata": {},
     "output_type": "display_data"
    }
   ],
   "source": [
    "# Call the plt.figure() functionto determine the dimensions of the correlation heatmap\n",
    "\n",
    "plt.figure(figsize=(20,10))\n",
    "\n",
    "# Define the variable 'c' which is going to be a table containng the correlation coefficients\n",
    "\n",
    "c= df.corr()\n",
    "\n",
    "# Apply sns.heatmap() to plot the heatmap and include 'c', define the colormap as brown, blue, and green,\n",
    "# and apply annot=True so that the correlation coefficients are visible within the heatmap\n",
    "\n",
    "sns.heatmap(c,cmap=\"BrBG\",annot=True)\n",
    "\n",
    "# Print 'c' to show a table with the correlation coefficients\n",
    "\n",
    "c"
   ]
  },
  {
   "cell_type": "code",
   "execution_count": 56,
   "id": "437fa135",
   "metadata": {},
   "outputs": [
    {
     "data": {
      "image/png": "[encoded data removed]",
      "text/plain": [
       "<Figure size 640x480 with 1 Axes>"
      ]
     },
     "metadata": {},
     "output_type": "display_data"
    }
   ],
   "source": [
    "# Plot a scatter plot to visualize the relationship between units and years\n",
    "\n",
    "# Call the plt.scatter() function to create a scatter plot with the 'Units' as x-axis values and 'Completed_Year' as y-axis\n",
    "#values\n",
    "\n",
    "plt.scatter(df[\"Value_Ireland\"], df[\"Year\"])\n",
    "\n",
    "# Name the x axis, the y axis and the plot by applying the the plt.xlabel() function, the plt.ylabel() function, and the\n",
    "# plt.title() function respectively\n",
    "\n",
    "plt.xlabel(\"Passengers\")\n",
    "plt.ylabel(\"Year\")\n",
    "plt.title('Correlation between Passenger and Years')\n",
    "\n",
    "# Apply plt.gca() to get the current axes instance\n",
    "\n",
    "# Use the .yaxis attribute to access the y-axis of the current axes\n",
    "\n",
    "# Use the .set_major_locator() method to set the tick locator for the major ticks on the y-axis\n",
    "\n",
    "# Pass plt.MaxNLocator(integer=True) to the .set_major_locator() method to ensure that the tick locations are integers\n",
    "\n",
    "plt.gca().yaxis.set_major_locator(plt.MaxNLocator(integer=True))\n",
    "\n",
    "# Call plt.show() to display the plot\n",
    "\n",
    "plt.show()"
   ]
  },
  {
   "cell_type": "code",
   "execution_count": 57,
   "id": "804e7843",
   "metadata": {},
   "outputs": [
    {
     "name": "stdout",
     "output_type": "stream",
     "text": [
      "95.0% confidence interval for the average number of Passenger number by year': [2929229.83, 7379043.96]\n"
     ]
    }
   ],
   "source": [
    "from scipy import stats\n",
    "\n",
    "# Calculate the confidence intervals\n",
    "\n",
    "# Extract the data for the 'Value_Ireland' variable\n",
    "\n",
    "Values = df['Value_Ireland']\n",
    "\n",
    "# Calculate the sample mean and standard deviation\n",
    "sample_mean = np.mean(Values)\n",
    "sample_std = np.std(Values, ddof=1) # use ddof=1 to get the sample standard deviation\n",
    "n = len(Values)\n",
    "\n",
    "# Set the desired confidence level\n",
    "confidence_level = 0.95\n",
    "alpha = 1 - confidence_level\n",
    "\n",
    "# Calculate the margin of error\n",
    "margin_of_error = stats.t.ppf(1 - alpha/2, n-1) * sample_std / np.sqrt(n)\n",
    "\n",
    "# Calculate the confidence interval\n",
    "ci_lower = sample_mean - margin_of_error\n",
    "ci_upper = sample_mean + margin_of_error\n",
    "\n",
    "print(f\"{confidence_level*100:.1f}% confidence interval for the average number of Passenger number by year': [{ci_lower:.2f}, {ci_upper:.2f}]\")"
   ]
  },
  {
   "cell_type": "code",
   "execution_count": 58,
   "id": "fc7a60da",
   "metadata": {},
   "outputs": [
    {
     "data": {
      "image/png": "[encoded data removed]",
      "text/plain": [
       "<Figure size 1000x600 with 1 Axes>"
      ]
     },
     "metadata": {},
     "output_type": "display_data"
    }
   ],
   "source": [
    "Value_Year = df.groupby('Year')['Value_Ireland'].sum().reset_index()\n",
    "\n",
    "# Sort the Value_Year dataframe by the total number of units in descending order\n",
    "Value_Year = Value_Year.sort_values('Value_Ireland', ascending=False)\n",
    "\n",
    "# Set the figure size to (10, 6) inches\n",
    "\n",
    "plt.figure(figsize=(10, 6))\n",
    "\n",
    "# Create a countplot to visualize the passenger number in Year\n",
    "\n",
    "sns.barplot(data=Value_Year, x='Year', y='Value_Ireland')\n",
    "\n",
    "# Set the title,the x label, and the y label of the plot by applying the the plt.title() function, the plt.xlabel() function,\n",
    "# abd the plt.ylabel() function respectively\n",
    "\n",
    "plt.title('Passenger Number by Year')\n",
    "plt.xlabel('Year')\n",
    "plt.ylabel('Passenger Number')\n",
    "\n",
    "# Rotate the x-axis labels for better readability using the xticks() function\n",
    "\n",
    "plt.xticks(rotation=30)\n",
    "\n",
    "# Display the plot using the show() function\n",
    "\n",
    "plt.show()"
   ]
  },
  {
   "cell_type": "code",
   "execution_count": 59,
   "id": "64cdfa2f",
   "metadata": {},
   "outputs": [
    {
     "data": {
      "text/html": [
       "<div>\n",
       "<style scoped>\n",
       "    .dataframe tbody tr th:only-of-type {\n",
       "        vertical-align: middle;\n",
       "    }\n",
       "\n",
       "    .dataframe tbody tr th {\n",
       "        vertical-align: top;\n",
       "    }\n",
       "\n",
       "    .dataframe thead th {\n",
       "        text-align: right;\n",
       "    }\n",
       "</style>\n",
       "<table border=\"1\" class=\"dataframe\">\n",
       "  <thead>\n",
       "    <tr style=\"text-align: right;\">\n",
       "      <th></th>\n",
       "      <th>Year</th>\n",
       "      <th>Month</th>\n",
       "      <th>Value_Ireland</th>\n",
       "      <th>Luas_Type_Encoded</th>\n",
       "    </tr>\n",
       "  </thead>\n",
       "  <tbody>\n",
       "    <tr>\n",
       "      <th>0</th>\n",
       "      <td>2018</td>\n",
       "      <td>1</td>\n",
       "      <td>1664495</td>\n",
       "      <td>1</td>\n",
       "    </tr>\n",
       "    <tr>\n",
       "      <th>1</th>\n",
       "      <td>2018</td>\n",
       "      <td>2</td>\n",
       "      <td>1657562</td>\n",
       "      <td>1</td>\n",
       "    </tr>\n",
       "    <tr>\n",
       "      <th>2</th>\n",
       "      <td>2018</td>\n",
       "      <td>3</td>\n",
       "      <td>1661098</td>\n",
       "      <td>1</td>\n",
       "    </tr>\n",
       "    <tr>\n",
       "      <th>3</th>\n",
       "      <td>2018</td>\n",
       "      <td>4</td>\n",
       "      <td>1794424</td>\n",
       "      <td>1</td>\n",
       "    </tr>\n",
       "    <tr>\n",
       "      <th>4</th>\n",
       "      <td>2018</td>\n",
       "      <td>5</td>\n",
       "      <td>1934553</td>\n",
       "      <td>1</td>\n",
       "    </tr>\n",
       "  </tbody>\n",
       "</table>\n",
       "</div>"
      ],
      "text/plain": [
       "   Year  Month  Value_Ireland  Luas_Type_Encoded\n",
       "0  2018      1        1664495                  1\n",
       "1  2018      2        1657562                  1\n",
       "2  2018      3        1661098                  1\n",
       "3  2018      4        1794424                  1\n",
       "4  2018      5        1934553                  1"
      ]
     },
     "execution_count": 59,
     "metadata": {},
     "output_type": "execute_result"
    }
   ],
   "source": [
    "dft.head(5)"
   ]
  },
  {
   "cell_type": "code",
   "execution_count": 60,
   "id": "c04f2c22",
   "metadata": {},
   "outputs": [
    {
     "data": {
      "image/png": "[encoded data removed]",
      "text/plain": [
       "<Figure size 1500x1000 with 1 Axes>"
      ]
     },
     "metadata": {},
     "output_type": "display_data"
    }
   ],
   "source": [
    "plt.figure(figsize=(15, 10))\n",
    "sns.lineplot(data=dft, x='Year', y='Value_Ireland', hue='Luas_Type_Encoded')\n",
    "plt.show()"
   ]
  },
  {
   "cell_type": "code",
   "execution_count": 61,
   "id": "5a68c1b4",
   "metadata": {},
   "outputs": [
    {
     "data": {
      "text/html": [
       "<div>\n",
       "<style scoped>\n",
       "    .dataframe tbody tr th:only-of-type {\n",
       "        vertical-align: middle;\n",
       "    }\n",
       "\n",
       "    .dataframe tbody tr th {\n",
       "        vertical-align: top;\n",
       "    }\n",
       "\n",
       "    .dataframe thead th {\n",
       "        text-align: right;\n",
       "    }\n",
       "</style>\n",
       "<table border=\"1\" class=\"dataframe\">\n",
       "  <thead>\n",
       "    <tr style=\"text-align: right;\">\n",
       "      <th></th>\n",
       "      <th>Year</th>\n",
       "      <th>Month</th>\n",
       "      <th>Value_Ireland</th>\n",
       "      <th>Luas_Type_Encoded</th>\n",
       "    </tr>\n",
       "  </thead>\n",
       "  <tbody>\n",
       "    <tr>\n",
       "      <th>0</th>\n",
       "      <td>2018</td>\n",
       "      <td>1</td>\n",
       "      <td>1664495</td>\n",
       "      <td>1</td>\n",
       "    </tr>\n",
       "    <tr>\n",
       "      <th>1</th>\n",
       "      <td>2018</td>\n",
       "      <td>2</td>\n",
       "      <td>1657562</td>\n",
       "      <td>1</td>\n",
       "    </tr>\n",
       "  </tbody>\n",
       "</table>\n",
       "</div>"
      ],
      "text/plain": [
       "   Year  Month  Value_Ireland  Luas_Type_Encoded\n",
       "0  2018      1        1664495                  1\n",
       "1  2018      2        1657562                  1"
      ]
     },
     "execution_count": 61,
     "metadata": {},
     "output_type": "execute_result"
    }
   ],
   "source": [
    "dft.head(2)"
   ]
  },
  {
   "cell_type": "code",
   "execution_count": 62,
   "id": "e3f32b81",
   "metadata": {},
   "outputs": [
    {
     "data": {
      "text/html": [
       "<div>\n",
       "<style scoped>\n",
       "    .dataframe tbody tr th:only-of-type {\n",
       "        vertical-align: middle;\n",
       "    }\n",
       "\n",
       "    .dataframe tbody tr th {\n",
       "        vertical-align: top;\n",
       "    }\n",
       "\n",
       "    .dataframe thead th {\n",
       "        text-align: right;\n",
       "    }\n",
       "</style>\n",
       "<table border=\"1\" class=\"dataframe\">\n",
       "  <thead>\n",
       "    <tr style=\"text-align: right;\">\n",
       "      <th></th>\n",
       "      <th>Value_Turkey</th>\n",
       "      <th>Year</th>\n",
       "      <th>Month</th>\n",
       "      <th>Day_Turkey</th>\n",
       "      <th>Age_Encoded</th>\n",
       "      <th>month_day</th>\n",
       "    </tr>\n",
       "  </thead>\n",
       "  <tbody>\n",
       "    <tr>\n",
       "      <th>0</th>\n",
       "      <td>1656</td>\n",
       "      <td>2022</td>\n",
       "      <td>1</td>\n",
       "      <td>1</td>\n",
       "      <td>0</td>\n",
       "      <td>01_01</td>\n",
       "    </tr>\n",
       "    <tr>\n",
       "      <th>1</th>\n",
       "      <td>2469</td>\n",
       "      <td>2022</td>\n",
       "      <td>1</td>\n",
       "      <td>1</td>\n",
       "      <td>0</td>\n",
       "      <td>01_01</td>\n",
       "    </tr>\n",
       "  </tbody>\n",
       "</table>\n",
       "</div>"
      ],
      "text/plain": [
       "   Value_Turkey  Year  Month  Day_Turkey  Age_Encoded month_day\n",
       "0          1656  2022      1           1            0     01_01\n",
       "1          2469  2022      1           1            0     01_01"
      ]
     },
     "execution_count": 62,
     "metadata": {},
     "output_type": "execute_result"
    }
   ],
   "source": [
    "df1.head(2)"
   ]
  },
  {
   "cell_type": "code",
   "execution_count": 63,
   "id": "7525d115",
   "metadata": {},
   "outputs": [
    {
     "data": {
      "text/plain": [
       "Month\n",
       "11    1656054.2\n",
       "10    1649255.7\n",
       "12    1593854.9\n",
       "9     1522247.0\n",
       "7     1399862.9\n",
       "8     1378975.0\n",
       "2     1349194.4\n",
       "1     1311528.8\n",
       "6     1278932.7\n",
       "3     1263196.0\n",
       "5     1241331.1\n",
       "4     1106512.0\n",
       "Name: Value_Ireland, dtype: float64"
      ]
     },
     "execution_count": 63,
     "metadata": {},
     "output_type": "execute_result"
    }
   ],
   "source": [
    "dft.groupby('Month')['Value_Ireland'].mean().sort_values(ascending=False)"
   ]
  },
  {
   "cell_type": "code",
   "execution_count": 64,
   "id": "e093af67",
   "metadata": {},
   "outputs": [
    {
     "data": {
      "text/plain": [
       "Month\n",
       "10    1993.962836\n",
       "11    1962.564347\n",
       "12    1960.262895\n",
       "6     1767.985877\n",
       "5     1759.944347\n",
       "9     1746.849256\n",
       "3     1693.873309\n",
       "4     1680.196570\n",
       "2     1601.859718\n",
       "8     1527.260936\n",
       "7     1410.027024\n",
       "1     1392.502156\n",
       "Name: Value_Turkey, dtype: float64"
      ]
     },
     "execution_count": 64,
     "metadata": {},
     "output_type": "execute_result"
    }
   ],
   "source": [
    "df1.groupby('Month')['Value_Turkey'].mean().sort_values(ascending=False)"
   ]
  },
  {
   "cell_type": "markdown",
   "id": "10636479",
   "metadata": {},
   "source": [
    "# STATISTICS"
   ]
  },
  {
   "cell_type": "code",
   "execution_count": 65,
   "id": "4d1aba70",
   "metadata": {},
   "outputs": [],
   "source": [
    "from sklearn.model_selection import train_test_split,cross_val_score, GridSearchCV \n",
    "import numpy as np\n",
    "from sklearn import metrics\n",
    "from sklearn.metrics import r2_score\n",
    "from sklearn.preprocessing import StandardScaler\n",
    "from scipy.stats import wilcoxon\n",
    "from scipy.stats import ttest_1samp\n",
    "from scipy.stats import ttest_ind\n",
    "from scipy.stats import f_oneway\n",
    "from scipy.stats import chisquare\n",
    "\n",
    "\n",
    "# Random Forrest  \n",
    "# Decision Tree\n",
    "\n",
    "from sklearn.ensemble import RandomForestRegressor\n",
    "from sklearn import tree\n",
    "from sklearn.tree import DecisionTreeRegressor"
   ]
  },
  {
   "cell_type": "code",
   "execution_count": 66,
   "id": "179a603e",
   "metadata": {},
   "outputs": [
    {
     "name": "stdout",
     "output_type": "stream",
     "text": [
      "Statistic: 0.9234, p-value: 0.0000\n",
      "The data is not normally distributed\n"
     ]
    }
   ],
   "source": [
    "# Check normality to determine which tests to use\n",
    "\n",
    "# Import stats from the scipy library\n",
    "\n",
    "from scipy import stats\n",
    "\n",
    "# Extract data from the 'Obs_Value'\n",
    "\n",
    "data = dft['Value_Ireland']\n",
    "\n",
    "# Perform the Shapiro-Wilk test\n",
    "\n",
    "statistic, p_value = stats.shapiro(data)\n",
    "\n",
    "# Print the results\n",
    "\n",
    "print(f'Statistic: {statistic:.4f}, p-value: {p_value:.4f}')\n",
    "\n",
    "# Interpret the results\n",
    "\n",
    "alpha = 0.05\n",
    "if p_value > alpha:\n",
    "    print('The data is normally distributed')\n",
    "else:\n",
    "    print('The data is not normally distributed')"
   ]
  },
  {
   "cell_type": "markdown",
   "id": "e3d62bc3",
   "metadata": {},
   "source": [
    "A Kruskal-Wallis H-test will be applied to measure the difference in price index between two chosen countries: Turkey and Ireland, given that they have been the countries with higher passenger number. This test has been chosen because the data is not normally distributed.\n",
    "\n",
    "H0(null hypothesis): there is no significant difference between the average price in Turkey and Ireland\n",
    "\n",
    "H1(alternative hypothesis): there is a significant difference between the average price in Turkey and Ireland"
   ]
  },
  {
   "cell_type": "code",
   "execution_count": 67,
   "id": "9ee7c559",
   "metadata": {},
   "outputs": [
    {
     "data": {
      "text/plain": [
       "(65, 4)"
      ]
     },
     "execution_count": 67,
     "metadata": {},
     "output_type": "execute_result"
    }
   ],
   "source": [
    "df.shape"
   ]
  },
  {
   "cell_type": "code",
   "execution_count": 68,
   "id": "69131388",
   "metadata": {},
   "outputs": [
    {
     "data": {
      "text/plain": [
       "(120, 4)"
      ]
     },
     "execution_count": 68,
     "metadata": {},
     "output_type": "execute_result"
    }
   ],
   "source": [
    "dft.shape"
   ]
  },
  {
   "cell_type": "code",
   "execution_count": 69,
   "id": "9324102b",
   "metadata": {},
   "outputs": [
    {
     "data": {
      "text/plain": [
       "(521146, 6)"
      ]
     },
     "execution_count": 69,
     "metadata": {},
     "output_type": "execute_result"
    }
   ],
   "source": [
    "df1.shape"
   ]
  },
  {
   "cell_type": "code",
   "execution_count": 70,
   "id": "d8448a2f",
   "metadata": {},
   "outputs": [
    {
     "data": {
      "text/plain": [
       "Year\n",
       "2019    2.014468e+06\n",
       "2018    1.743207e+06\n",
       "2022    1.611161e+06\n",
       "2021    8.117216e+05\n",
       "2020    7.990024e+05\n",
       "Name: Value_Ireland, dtype: float64"
      ]
     },
     "execution_count": 70,
     "metadata": {},
     "output_type": "execute_result"
    }
   ],
   "source": [
    "dft.groupby('Year')['Value_Ireland'].mean().sort_values(ascending=False)"
   ]
  },
  {
   "cell_type": "code",
   "execution_count": 71,
   "id": "16618eb3",
   "metadata": {},
   "outputs": [],
   "source": [
    "dft = dft.drop_duplicates()"
   ]
  },
  {
   "cell_type": "code",
   "execution_count": 72,
   "id": "fcd1cf45",
   "metadata": {},
   "outputs": [],
   "source": [
    "dft = dft.dropna()"
   ]
  },
  {
   "cell_type": "code",
   "execution_count": 73,
   "id": "5c894ec8",
   "metadata": {},
   "outputs": [
    {
     "name": "stdout",
     "output_type": "stream",
     "text": [
      "Wilcoxon signed-rank test statistic: 0.0\n",
      "p-value: 1.1920928955078125e-07\n"
     ]
    }
   ],
   "source": [
    "\n",
    "# Select data for time period 1\n",
    "time_period1 = dft[dft['Year'] == 2022]['Value_Ireland']\n",
    "\n",
    "# Select data for time period 2\n",
    "time_period2 = dft[dft['Year'] == 2021]['Value_Ireland']\n",
    "\n",
    "# Conduct the Wilcoxon signed-rank test\n",
    "\n",
    "w, p = wilcoxon(time_period1, time_period2)\n",
    "\n",
    "# Print the results\n",
    "\n",
    "print(f'Wilcoxon signed-rank test statistic: {w}')\n",
    "print(f'p-value: {p}')"
   ]
  },
  {
   "cell_type": "code",
   "execution_count": 74,
   "id": "9402a5a1",
   "metadata": {},
   "outputs": [
    {
     "name": "stdout",
     "output_type": "stream",
     "text": [
      "We reject the null hypothesis\n"
     ]
    }
   ],
   "source": [
    "# Interpret the results\n",
    "\n",
    "if p_value < 0.05:\n",
    "    print(\"We reject the null hypothesis\")\n",
    "else:\n",
    "    print(\"We fail to reject the null hypothesis\")"
   ]
  },
  {
   "cell_type": "markdown",
   "id": "9e6b43ad",
   "metadata": {},
   "source": [
    "Given the p-value obtained, we fail to reject the null hypothesis and conclude that the passenger number has not significantly changed."
   ]
  },
  {
   "cell_type": "markdown",
   "id": "64847569",
   "metadata": {},
   "source": [
    "For this purpose, a one-sample chi-squared test has been chosen, as it is the most appropriate test for this type of hypothesis.\n",
    "\n",
    "H0(null hypothesis): Data are evenly distributed over the years.\n",
    "\n",
    "H1(alternative hypothesis): Data are not distributed equally across years."
   ]
  },
  {
   "cell_type": "code",
   "execution_count": 75,
   "id": "d7d2ea52",
   "metadata": {},
   "outputs": [
    {
     "name": "stdout",
     "output_type": "stream",
     "text": [
      "There is no significant difference between the observed and expected frequencies\n"
     ]
    }
   ],
   "source": [
    "from scipy import stats\n",
    "\n",
    "# Select the observed frequences from the 'Geo' column of the prices_eu dataframe by applying .value_counts and .sort_index()\n",
    "# Store the frequences in the 'observed_frequencies' variable.\n",
    "\n",
    "observed_frequencies = dft['Value_Ireland'].value_counts().sort_index()\n",
    "\n",
    "# Calculate the expected frequencies for a uniform distribution\n",
    "\n",
    "expected_frequencies = [len(dft) / len(observed_frequencies)] * len(observed_frequencies)\n",
    "\n",
    "# Perform a one-sample chi-squared test\n",
    "\n",
    "chi2, p_value = stats.chisquare(observed_frequencies, f_exp=expected_frequencies)\n",
    "\n",
    "# Check the p-value to determine if there is a significant difference between the observed and expected frequencies\n",
    "\n",
    "alpha = 0.05\n",
    "if p_value < alpha:\n",
    "    print(\"There is a significant difference between the observed and expected frequencies\")\n",
    "else:\n",
    "    print(\"There is no significant difference between the observed and expected frequencies\")"
   ]
  },
  {
   "cell_type": "code",
   "execution_count": 76,
   "id": "29149bad",
   "metadata": {},
   "outputs": [
    {
     "name": "stdout",
     "output_type": "stream",
     "text": [
      "We fail to reject the null hypothesis\n"
     ]
    }
   ],
   "source": [
    "# Interpret the results\n",
    "\n",
    "if p_value < 0.05:\n",
    "    print(\"We reject the null hypothesis\")\n",
    "else:\n",
    "    print(\"We fail to reject the null hypothesis\")"
   ]
  },
  {
   "cell_type": "markdown",
   "id": "89759739",
   "metadata": {},
   "source": [
    "Given the obtained p_value, we fail to reject the null hypothesis, and we can confirm that the data is evenly distributed over the years."
   ]
  },
  {
   "cell_type": "markdown",
   "id": "193ff096",
   "metadata": {},
   "source": [
    "H0(null): There is no significant difference between those using green line and red line in the Irish data set from 2018 to 2022.\n",
    "\n",
    "H1(alternative): There is a significant difference between green line and red line users in the Irish data set from 2018 to 2022.\n",
    "\n",
    "In order to meet the assignment requirements and utilise different types of hypothesis testing, a two-sample t-test has been used, even though the data is not normally distributed."
   ]
  },
  {
   "cell_type": "code",
   "execution_count": 77,
   "id": "7f106290",
   "metadata": {},
   "outputs": [
    {
     "name": "stdout",
     "output_type": "stream",
     "text": [
      "There is no significant difference between the means of the two groups\n"
     ]
    }
   ],
   "source": [
    "from scipy import stats\n",
    "\n",
    "# Filter the data to only include rows in the specified time range\n",
    "\n",
    "start_date = 2018\n",
    "end_date = 2022\n",
    "\n",
    "df3 = dft[(dft['Year'] >= start_date) & (dft['Year'] <= end_date)]\n",
    "\n",
    "# Assuming your data is stored in a dataframe with a categorical column named 'Geo' and a numerical column named 'Obs_Value'\n",
    "\n",
    "group1 = df3[df3['Luas_Type_Encoded'] == '1']['Value_Ireland']\n",
    "group2 = df3[df3['Luas_Type_Encoded'] == '0']['Value_Ireland']\n",
    "\n",
    "# Perform a two-sample t-test\n",
    "\n",
    "t_stat, p_value = stats.ttest_ind(group1, group2)\n",
    "\n",
    "# Check the p-value to determine if there is a significant difference between the means of the two groups\n",
    "\n",
    "alpha = 0.05\n",
    "if p_value < alpha:\n",
    "    print(\"There is a significant difference between the means of the two groups\")\n",
    "else:\n",
    "    print(\"There is no significant difference between the means of the two groups\")"
   ]
  },
  {
   "cell_type": "code",
   "execution_count": 78,
   "id": "47ac5f0b",
   "metadata": {},
   "outputs": [
    {
     "name": "stdout",
     "output_type": "stream",
     "text": [
      "We fail to reject the null hypothesis\n"
     ]
    }
   ],
   "source": [
    "# Interpret the results\n",
    "\n",
    "if p_value < 0.05:\n",
    "    print(\"We reject the null hypothesis\")\n",
    "else:\n",
    "    print(\"We fail to reject the null hypothesis\")"
   ]
  },
  {
   "cell_type": "markdown",
   "id": "fd7f246e",
   "metadata": {},
   "source": [
    "Given the obtained p-value, we accept the null hypothesis and conclude that there is no a significant difference between green line and red line users in the Irish data set from 2018 to 2022."
   ]
  },
  {
   "cell_type": "markdown",
   "id": "dbec7ce0",
   "metadata": {},
   "source": [
    "# MACHINE LEARNING"
   ]
  },
  {
   "cell_type": "code",
   "execution_count": 90,
   "id": "85edd7ba",
   "metadata": {},
   "outputs": [],
   "source": [
    "# Import the train_test_split function from the sklearn.model_selection module\n",
    "\n",
    "from sklearn.model_selection import train_test_split\n",
    "from sklearn.model_selection import StratifiedKFold"
   ]
  },
  {
   "cell_type": "code",
   "execution_count": 91,
   "id": "c344f2a9",
   "metadata": {},
   "outputs": [],
   "source": [
    "X = dft.drop('Value_Ireland', axis=1)\n",
    "\n",
    "y = dft[[\"Value_Ireland\"]]"
   ]
  },
  {
   "cell_type": "code",
   "execution_count": 92,
   "id": "9b37bd58",
   "metadata": {},
   "outputs": [],
   "source": [
    "\n",
    "# Split the data set into Training and Testing parts. The test_size parameter is conventionally set to 0.25, meaning that 25%\n",
    "# of the data will be used for testing and 75% for training.\n",
    "\n",
    "# The random_state is set to 0 for reproducibility.\n",
    "\n",
    "X_train, X_test, y_train, y_test = train_test_split(X, y, test_size = 0.25, random_state = 0)"
   ]
  },
  {
   "cell_type": "code",
   "execution_count": 93,
   "id": "943edb22",
   "metadata": {},
   "outputs": [
    {
     "data": {
      "text/plain": [
       "((120, 3), (120, 1), (90, 3), (30, 3), (90, 1), (30, 1))"
      ]
     },
     "execution_count": 93,
     "metadata": {},
     "output_type": "execute_result"
    }
   ],
   "source": [
    "# Display the number of rows and columns before (X, y) and after Splitting (X_train, X_test, y_train, y_test)\n",
    "\n",
    "X.shape, y.shape, X_train.shape, X_test.shape, y_train.shape, y_test.shape"
   ]
  },
  {
   "cell_type": "code",
   "execution_count": 94,
   "id": "9812fb19",
   "metadata": {},
   "outputs": [],
   "source": [
    "# Scale the data\n",
    "\n",
    "# Load the library 'sklearn.preprocessing'\n",
    "\n",
    "# Use MinMaxScaler because the dataset contains several outliers\n",
    "\n",
    "from sklearn.preprocessing import MinMaxScaler\n",
    "\n",
    "# Create and initialise an object by calling a method MinMax() to scale features by removing the mean and\n",
    "# scaling to unit variance\n",
    "\n",
    "sc = MinMaxScaler()\n",
    "\n",
    "# Convert the X_train and X_test into scaled format by applying the fit_transform method and the transform method\n",
    "\n",
    "X_train = sc.fit_transform(X_train)\n",
    "X_test = sc.transform(X_test)"
   ]
  },
  {
   "cell_type": "code",
   "execution_count": 95,
   "id": "ecb9de03",
   "metadata": {
    "scrolled": true
   },
   "outputs": [
    {
     "name": "stdout",
     "output_type": "stream",
     "text": [
      "(90, 3)\n",
      "(90, 1)\n"
     ]
    }
   ],
   "source": [
    "print(X_train.shape)\n",
    "print(y_train.shape)"
   ]
  },
  {
   "cell_type": "code",
   "execution_count": 96,
   "id": "f933a05b",
   "metadata": {},
   "outputs": [],
   "source": [
    "\n",
    "X = np.random.rand(90, 3)  \n",
    "y = np.random.randint(2, size=(90, 1)) \n",
    "\n",
    "\n",
    "n_samples_class1 = np.sum(y == 0)\n",
    "n_samples_class2 = np.sum(y == 1)\n",
    "\n",
    "\n",
    "n_splits = min(n_samples_class1, n_samples_class2)\n",
    "\n",
    "\n",
    "skf = StratifiedKFold(n_splits=n_splits, shuffle=True)\n",
    "\n",
    "\n",
    "for train_index, test_index in skf.split(X, y):\n",
    "    X_train, X_test = X[train_index], X[test_index]\n",
    "    y_train, y_test = y[train_index], y[test_index]\n",
    "\n",
    "\n"
   ]
  },
  {
   "cell_type": "code",
   "execution_count": 97,
   "id": "2e858884",
   "metadata": {},
   "outputs": [],
   "source": [
    "# Import the GridSearchCV class from the sklearn.model_selection module\n",
    "\n",
    "from sklearn.model_selection import GridSearchCV\n",
    "\n",
    "# Load the library 'sklearn.tree'\n",
    "\n",
    "from sklearn.tree import DecisionTreeClassifier\n",
    "\n",
    "# Define the parameter grid\n",
    "\n",
    "param_grid = {'max_depth': [1,2,3,4,5,6], 'criterion': ['gini', 'entropy']}\n",
    "\n",
    "# Create a GridSearchCV object and assign it to the variable 'grid_search'\n",
    "\n",
    "grid_search = GridSearchCV(DecisionTreeClassifier(random_state=0), param_grid)\n",
    "\n",
    "# Fit the grid search object to the data\n",
    "\n",
    "grid_search.fit(X_train, y_train)\n",
    "\n",
    "# Get the best combination of parameters\n",
    "\n",
    "best_params = grid_search.best_params_"
   ]
  },
  {
   "cell_type": "code",
   "execution_count": 98,
   "id": "8b0201c4",
   "metadata": {},
   "outputs": [
    {
     "data": {
      "text/html": [
       "<style>#sk-container-id-1 {color: black;}#sk-container-id-1 pre{padding: 0;}#sk-container-id-1 div.sk-toggleable {background-color: white;}#sk-container-id-1 label.sk-toggleable__label {cursor: pointer;display: block;width: 100%;margin-bottom: 0;padding: 0.3em;box-sizing: border-box;text-align: center;}#sk-container-id-1 label.sk-toggleable__label-arrow:before {content: \"▸\";float: left;margin-right: 0.25em;color: #696969;}#sk-container-id-1 label.sk-toggleable__label-arrow:hover:before {color: black;}#sk-container-id-1 div.sk-estimator:hover label.sk-toggleable__label-arrow:before {color: black;}#sk-container-id-1 div.sk-toggleable__content {max-height: 0;max-width: 0;overflow: hidden;text-align: left;background-color: #f0f8ff;}#sk-container-id-1 div.sk-toggleable__content pre {margin: 0.2em;color: black;border-radius: 0.25em;background-color: #f0f8ff;}#sk-container-id-1 input.sk-toggleable__control:checked~div.sk-toggleable__content {max-height: 200px;max-width: 100%;overflow: auto;}#sk-container-id-1 input.sk-toggleable__control:checked~label.sk-toggleable__label-arrow:before {content: \"▾\";}#sk-container-id-1 div.sk-estimator input.sk-toggleable__control:checked~label.sk-toggleable__label {background-color: #d4ebff;}#sk-container-id-1 div.sk-label input.sk-toggleable__control:checked~label.sk-toggleable__label {background-color: #d4ebff;}#sk-container-id-1 input.sk-hidden--visually {border: 0;clip: rect(1px 1px 1px 1px);clip: rect(1px, 1px, 1px, 1px);height: 1px;margin: -1px;overflow: hidden;padding: 0;position: absolute;width: 1px;}#sk-container-id-1 div.sk-estimator {font-family: monospace;background-color: #f0f8ff;border: 1px dotted black;border-radius: 0.25em;box-sizing: border-box;margin-bottom: 0.5em;}#sk-container-id-1 div.sk-estimator:hover {background-color: #d4ebff;}#sk-container-id-1 div.sk-parallel-item::after {content: \"\";width: 100%;border-bottom: 1px solid gray;flex-grow: 1;}#sk-container-id-1 div.sk-label:hover label.sk-toggleable__label {background-color: #d4ebff;}#sk-container-id-1 div.sk-serial::before {content: \"\";position: absolute;border-left: 1px solid gray;box-sizing: border-box;top: 0;bottom: 0;left: 50%;z-index: 0;}#sk-container-id-1 div.sk-serial {display: flex;flex-direction: column;align-items: center;background-color: white;padding-right: 0.2em;padding-left: 0.2em;position: relative;}#sk-container-id-1 div.sk-item {position: relative;z-index: 1;}#sk-container-id-1 div.sk-parallel {display: flex;align-items: stretch;justify-content: center;background-color: white;position: relative;}#sk-container-id-1 div.sk-item::before, #sk-container-id-1 div.sk-parallel-item::before {content: \"\";position: absolute;border-left: 1px solid gray;box-sizing: border-box;top: 0;bottom: 0;left: 50%;z-index: -1;}#sk-container-id-1 div.sk-parallel-item {display: flex;flex-direction: column;z-index: 1;position: relative;background-color: white;}#sk-container-id-1 div.sk-parallel-item:first-child::after {align-self: flex-end;width: 50%;}#sk-container-id-1 div.sk-parallel-item:last-child::after {align-self: flex-start;width: 50%;}#sk-container-id-1 div.sk-parallel-item:only-child::after {width: 0;}#sk-container-id-1 div.sk-dashed-wrapped {border: 1px dashed gray;margin: 0 0.4em 0.5em 0.4em;box-sizing: border-box;padding-bottom: 0.4em;background-color: white;}#sk-container-id-1 div.sk-label label {font-family: monospace;font-weight: bold;display: inline-block;line-height: 1.2em;}#sk-container-id-1 div.sk-label-container {text-align: center;}#sk-container-id-1 div.sk-container {/* jupyter's `normalize.less` sets `[hidden] { display: none; }` but bootstrap.min.css set `[hidden] { display: none !important; }` so we also need the `!important` here to be able to override the default hidden behavior on the sphinx rendered scikit-learn.org. See: https://github.com/scikit-learn/scikit-learn/issues/21755 */display: inline-block !important;position: relative;}#sk-container-id-1 div.sk-text-repr-fallback {display: none;}</style><div id=\"sk-container-id-1\" class=\"sk-top-container\"><div class=\"sk-text-repr-fallback\"><pre>DecisionTreeClassifier(max_depth=6)</pre><b>In a Jupyter environment, please rerun this cell to show the HTML representation or trust the notebook. <br />On GitHub, the HTML representation is unable to render, please try loading this page with nbviewer.org.</b></div><div class=\"sk-container\" hidden><div class=\"sk-item\"><div class=\"sk-estimator sk-toggleable\"><input class=\"sk-toggleable__control sk-hidden--visually\" id=\"sk-estimator-id-1\" type=\"checkbox\" checked><label for=\"sk-estimator-id-1\" class=\"sk-toggleable__label sk-toggleable__label-arrow\">DecisionTreeClassifier</label><div class=\"sk-toggleable__content\"><pre>DecisionTreeClassifier(max_depth=6)</pre></div></div></div></div></div>"
      ],
      "text/plain": [
       "DecisionTreeClassifier(max_depth=6)"
      ]
     },
     "execution_count": 98,
     "metadata": {},
     "output_type": "execute_result"
    }
   ],
   "source": [
    "# Create a DecisionTreeClassifier with the best hyperparameters found by GridSearchCV\n",
    "\n",
    "classifier = DecisionTreeClassifier(**best_params)\n",
    "\n",
    "# Train the classifier on the training data\n",
    "\n",
    "classifier.fit(X_train, y_train)"
   ]
  },
  {
   "cell_type": "code",
   "execution_count": 99,
   "id": "2ac951b7",
   "metadata": {},
   "outputs": [],
   "source": [
    "# Calculate the predicted vlaue by calling a method predict()\n",
    "y_pred = classifier.predict(X_test)"
   ]
  },
  {
   "cell_type": "code",
   "execution_count": 100,
   "id": "102d32da",
   "metadata": {},
   "outputs": [
    {
     "name": "stdout",
     "output_type": "stream",
     "text": [
      "              precision    recall  f1-score   support\n",
      "\n",
      "           0       0.50      1.00      0.67         1\n",
      "           1       0.00      0.00      0.00         1\n",
      "\n",
      "    accuracy                           0.50         2\n",
      "   macro avg       0.25      0.50      0.33         2\n",
      "weighted avg       0.25      0.50      0.33         2\n",
      "\n"
     ]
    },
    {
     "data": {
      "image/png": "[encoded data removed]",
      "text/plain": [
       "<Figure size 640x480 with 2 Axes>"
      ]
     },
     "metadata": {},
     "output_type": "display_data"
    }
   ],
   "source": [
    "# Evaluate the performance of the DecisionTreeClassifier\n",
    "\n",
    "from sklearn.metrics import classification_report, confusion_matrix\n",
    "\n",
    "# Calculate cm by calling a method named as 'confusion_matrix'\n",
    "cm = confusion_matrix(y_test, y_pred)\n",
    "\n",
    "# Call a method heatmap() to plot confusion matrix\n",
    "sns.heatmap(cm, annot = True)\n",
    "\n",
    "# print the classification_report based on y_test and y_predict\n",
    "print(classification_report(y_test, y_pred))"
   ]
  },
  {
   "cell_type": "code",
   "execution_count": 101,
   "id": "5a2449ec",
   "metadata": {},
   "outputs": [
    {
     "name": "stdout",
     "output_type": "stream",
     "text": [
      "Accuracy: 0.5\n"
     ]
    }
   ],
   "source": [
    "# Import scikit-learn metrics module for accuracy calculation\n",
    "\n",
    "from sklearn import metrics                           \n",
    "import warnings\n",
    "warnings.filterwarnings('ignore') # We can suppress the warnings\n",
    "\n",
    "# Model accuracy\n",
    "\n",
    "print(\"Accuracy:\",metrics.accuracy_score(y_test, y_pred))"
   ]
  },
  {
   "cell_type": "code",
   "execution_count": 102,
   "id": "47825886",
   "metadata": {},
   "outputs": [
    {
     "data": {
      "text/plain": [
       "0.4784313725490196"
      ]
     },
     "execution_count": 102,
     "metadata": {},
     "output_type": "execute_result"
    }
   ],
   "source": [
    "# Evaluate the model\n",
    "\n",
    "from sklearn.model_selection import cross_val_score\n",
    "\n",
    "# Perform 5-fold cross-validation on the training data\n",
    "scores = cross_val_score(DecisionTreeClassifier(random_state=0), X_train, y_train, cv=5)\n",
    "\n",
    "# Calculate the mean cross-validation score\n",
    "mean_score = scores.mean()\n",
    "mean_score"
   ]
  },
  {
   "cell_type": "code",
   "execution_count": 103,
   "id": "c6827a18",
   "metadata": {},
   "outputs": [
    {
     "data": {
      "text/plain": [
       "[Text(0.4782608695652174, 0.9285714285714286, 'x[0] <= 0.361\\ngini = 0.5\\nsamples = 88\\nvalue = [43, 45]'),\n",
       " Text(0.2391304347826087, 0.7857142857142857, 'x[2] <= 0.491\\ngini = 0.43\\nsamples = 32\\nvalue = [10, 22]'),\n",
       " Text(0.13043478260869565, 0.6428571428571429, 'x[2] <= 0.395\\ngini = 0.48\\nsamples = 10\\nvalue = [6, 4]'),\n",
       " Text(0.08695652173913043, 0.5, 'x[1] <= 0.399\\ngini = 0.444\\nsamples = 6\\nvalue = [2, 4]'),\n",
       " Text(0.043478260869565216, 0.35714285714285715, 'gini = 0.0\\nsamples = 4\\nvalue = [0, 4]'),\n",
       " Text(0.13043478260869565, 0.35714285714285715, 'gini = 0.0\\nsamples = 2\\nvalue = [2, 0]'),\n",
       " Text(0.17391304347826086, 0.5, 'gini = 0.0\\nsamples = 4\\nvalue = [4, 0]'),\n",
       " Text(0.34782608695652173, 0.6428571428571429, 'x[1] <= 0.391\\ngini = 0.298\\nsamples = 22\\nvalue = [4, 18]'),\n",
       " Text(0.2608695652173913, 0.5, 'x[1] <= 0.201\\ngini = 0.49\\nsamples = 7\\nvalue = [3, 4]'),\n",
       " Text(0.21739130434782608, 0.35714285714285715, 'x[0] <= 0.125\\ngini = 0.32\\nsamples = 5\\nvalue = [1, 4]'),\n",
       " Text(0.17391304347826086, 0.21428571428571427, 'gini = 0.0\\nsamples = 1\\nvalue = [1, 0]'),\n",
       " Text(0.2608695652173913, 0.21428571428571427, 'gini = 0.0\\nsamples = 4\\nvalue = [0, 4]'),\n",
       " Text(0.30434782608695654, 0.35714285714285715, 'gini = 0.0\\nsamples = 2\\nvalue = [2, 0]'),\n",
       " Text(0.43478260869565216, 0.5, 'x[2] <= 0.758\\ngini = 0.124\\nsamples = 15\\nvalue = [1, 14]'),\n",
       " Text(0.391304347826087, 0.35714285714285715, 'x[2] <= 0.697\\ngini = 0.375\\nsamples = 4\\nvalue = [1, 3]'),\n",
       " Text(0.34782608695652173, 0.21428571428571427, 'gini = 0.0\\nsamples = 3\\nvalue = [0, 3]'),\n",
       " Text(0.43478260869565216, 0.21428571428571427, 'gini = 0.0\\nsamples = 1\\nvalue = [1, 0]'),\n",
       " Text(0.4782608695652174, 0.35714285714285715, 'gini = 0.0\\nsamples = 11\\nvalue = [0, 11]'),\n",
       " Text(0.717391304347826, 0.7857142857142857, 'x[1] <= 0.366\\ngini = 0.484\\nsamples = 56\\nvalue = [33, 23]'),\n",
       " Text(0.5652173913043478, 0.6428571428571429, 'x[1] <= 0.034\\ngini = 0.32\\nsamples = 20\\nvalue = [16, 4]'),\n",
       " Text(0.5217391304347826, 0.5, 'gini = 0.0\\nsamples = 1\\nvalue = [0, 1]'),\n",
       " Text(0.6086956521739131, 0.5, 'x[2] <= 0.887\\ngini = 0.266\\nsamples = 19\\nvalue = [16, 3]'),\n",
       " Text(0.5652173913043478, 0.35714285714285715, 'x[0] <= 0.501\\ngini = 0.198\\nsamples = 18\\nvalue = [16, 2]'),\n",
       " Text(0.5217391304347826, 0.21428571428571427, 'x[1] <= 0.215\\ngini = 0.48\\nsamples = 5\\nvalue = [3, 2]'),\n",
       " Text(0.4782608695652174, 0.07142857142857142, 'gini = 0.0\\nsamples = 2\\nvalue = [2, 0]'),\n",
       " Text(0.5652173913043478, 0.07142857142857142, 'gini = 0.444\\nsamples = 3\\nvalue = [1, 2]'),\n",
       " Text(0.6086956521739131, 0.21428571428571427, 'gini = 0.0\\nsamples = 13\\nvalue = [13, 0]'),\n",
       " Text(0.6521739130434783, 0.35714285714285715, 'gini = 0.0\\nsamples = 1\\nvalue = [0, 1]'),\n",
       " Text(0.8695652173913043, 0.6428571428571429, 'x[1] <= 0.905\\ngini = 0.498\\nsamples = 36\\nvalue = [17, 19]'),\n",
       " Text(0.8260869565217391, 0.5, 'x[2] <= 0.84\\ngini = 0.489\\nsamples = 33\\nvalue = [14, 19]'),\n",
       " Text(0.7391304347826086, 0.35714285714285715, 'x[0] <= 0.368\\ngini = 0.459\\nsamples = 28\\nvalue = [10, 18]'),\n",
       " Text(0.6956521739130435, 0.21428571428571427, 'gini = 0.0\\nsamples = 1\\nvalue = [1, 0]'),\n",
       " Text(0.782608695652174, 0.21428571428571427, 'x[2] <= 0.731\\ngini = 0.444\\nsamples = 27\\nvalue = [9, 18]'),\n",
       " Text(0.7391304347826086, 0.07142857142857142, 'gini = 0.469\\nsamples = 24\\nvalue = [9, 15]'),\n",
       " Text(0.8260869565217391, 0.07142857142857142, 'gini = 0.0\\nsamples = 3\\nvalue = [0, 3]'),\n",
       " Text(0.9130434782608695, 0.35714285714285715, 'x[1] <= 0.78\\ngini = 0.32\\nsamples = 5\\nvalue = [4, 1]'),\n",
       " Text(0.8695652173913043, 0.21428571428571427, 'gini = 0.0\\nsamples = 4\\nvalue = [4, 0]'),\n",
       " Text(0.9565217391304348, 0.21428571428571427, 'gini = 0.0\\nsamples = 1\\nvalue = [0, 1]'),\n",
       " Text(0.9130434782608695, 0.5, 'gini = 0.0\\nsamples = 3\\nvalue = [3, 0]')]"
      ]
     },
     "execution_count": 103,
     "metadata": {},
     "output_type": "execute_result"
    },
    {
     "data": {
      "image/png": "[encoded data removed]",
      "text/plain": [
       "<Figure size 1200x1200 with 1 Axes>"
      ]
     },
     "metadata": {},
     "output_type": "display_data"
    }
   ],
   "source": [
    "plt.figure(figsize=(12,12))\n",
    "\n",
    "from sklearn import tree\n",
    "\n",
    "tree.plot_tree(classifier.fit(X_train, y_train)) "
   ]
  },
  {
   "cell_type": "code",
   "execution_count": 104,
   "id": "16678eda",
   "metadata": {},
   "outputs": [],
   "source": [
    "# Import KMeans from the sklearn.cluster module\n",
    "\n",
    "from sklearn.cluster import KMeans"
   ]
  },
  {
   "cell_type": "code",
   "execution_count": 105,
   "id": "ad712fb2",
   "metadata": {},
   "outputs": [],
   "source": [
    "# Select the values to perform the clustering\n",
    "\n",
    "X = dft['Value_Ireland'].values"
   ]
  },
  {
   "cell_type": "code",
   "execution_count": 106,
   "id": "90463a9e",
   "metadata": {},
   "outputs": [],
   "source": [
    "# Create an instance of the class, which is assigned to the variable scaler\n",
    "\n",
    "scaler = MinMaxScaler()"
   ]
  },
  {
   "cell_type": "code",
   "execution_count": 107,
   "id": "e4fe7fcb",
   "metadata": {},
   "outputs": [],
   "source": [
    "# Reshape the X array so that it fits the scaler\n",
    "\n",
    "X = X.reshape(-1, 1)"
   ]
  },
  {
   "cell_type": "code",
   "execution_count": 108,
   "id": "59dfc445",
   "metadata": {},
   "outputs": [],
   "source": [
    "# Scale the data in the array X using the fit_transform method\n",
    "\n",
    "X_scaled = scaler.fit_transform(X)"
   ]
  },
  {
   "cell_type": "code",
   "execution_count": 109,
   "id": "b0358e20",
   "metadata": {},
   "outputs": [],
   "source": [
    "# Determine the optimal number of clusters using the elbow method\n",
    "\n",
    "# Create an empty list inertia to store the inertia values\n",
    "\n",
    "inertia = []\n",
    "\n",
    "# Use a for loop to iterate over a range of values for k, the number of clusters.\n",
    "\n",
    "# For each value of k, create an instance of the KMeans class with n_clusters=k and random_state=42\n",
    "\n",
    "for k in range(1,15):\n",
    "    kmeans = KMeans(n_clusters=k, random_state=42)\n",
    "    \n",
    "    # Fit the k-means model to the data in X using the fit method.\n",
    "    kmeans.fit(X_scaled)\n",
    "    \n",
    "    # Append the inertia value of the fitted model to the inertia list using the inertia_ attribute of the kmeans object\n",
    "    inertia.append(kmeans.inertia_)"
   ]
  },
  {
   "cell_type": "code",
   "execution_count": 110,
   "id": "c2f442ae",
   "metadata": {},
   "outputs": [
    {
     "data": {
      "image/png": "[encoded data removed]",
      "text/plain": [
       "<Figure size 640x480 with 1 Axes>"
      ]
     },
     "metadata": {},
     "output_type": "display_data"
    }
   ],
   "source": [
    "# Create a plot to visualize the inertia values for different numbers of clusters\n",
    "\n",
    "# Apply the plot function from the matplotlib.pyplot module to create a line plot of the inertia values.\n",
    "# The x-coordinates of the points are given by range(1,15) and the y-coordinates are given by inertia.\n",
    "\n",
    "plt.plot(range(1,15), inertia)\n",
    "\n",
    "# Apply tge xlabel and ylabel functions to add labels to the x- and y-axes of the plot.\n",
    "plt.xlabel('Number of clusters')\n",
    "plt.ylabel('Inertia')\n",
    "\n",
    "# Apply the show function to display the plot.\n",
    "plt.show()"
   ]
  },
  {
   "cell_type": "code",
   "execution_count": 111,
   "id": "67ea4687",
   "metadata": {},
   "outputs": [],
   "source": [
    "# Fit a final k-means model using the optimal value of k\n",
    "\n",
    "# Create an instance of the KMeans class with n_clusters=3\n",
    "\n",
    "kmeans = KMeans(n_clusters=3) \n",
    "\n",
    "# Fit the k-means model to the data in X using the fit method.\n",
    "kmeans.fit(X_scaled)\n",
    "\n",
    "# Access the cluster assignments for each data point using the labels_ attribute of the kmeans object and store them in a new\n",
    "# variable labels.\n",
    "\n",
    "labels = kmeans.labels_"
   ]
  },
  {
   "cell_type": "code",
   "execution_count": 112,
   "id": "f8a9a47b",
   "metadata": {},
   "outputs": [],
   "source": [
    "# Add a new column 'Cluster' to the housing dataframe and assign the cluster assignments from the labels variable to\n",
    "# this column. This is done using the assignment operator = to assign the values in labels to the 'Cluster' column of the\n",
    "# housing_new dataframe. The labels variable contains the cluster assignments for each data point that were obtained by\n",
    "# fitting a k-means clustering model to the data in X. By adding these cluster assignments to the housing_new dataframe as a\n",
    "# new column, it is possible to see which cluster each row in the dataframe belongs to.\n",
    "\n",
    "dft['Cluster'] = labels"
   ]
  },
  {
   "cell_type": "code",
   "execution_count": 114,
   "id": "5672e2f2",
   "metadata": {},
   "outputs": [
    {
     "data": {
      "image/png": "[encoded data removed]",
      "text/plain": [
       "<Figure size 640x480 with 1 Axes>"
      ]
     },
     "metadata": {},
     "output_type": "display_data"
    }
   ],
   "source": [
    "# Create a scatter plot to visualize the results of the k-means clustering analysis.\n",
    "\n",
    "\n",
    "# Call the scatterplot function with the data=housing_new, x='Completed_Year', y='Units', and hue='Cluster' arguments.\n",
    "# This tells the function to create a scatter plot using the data in the melted_prices dataframe, with the 'Year' column on the\n",
    "# x-axis and the 'Units' column on the y-axis. The hue='Cluster' argument tells the function to color the points in the plot\n",
    "# based on their cluster assignments in the 'Cluster' column.\n",
    "\n",
    "sns.scatterplot(data=dft, x='Year', y='Value_Ireland', hue='Cluster')\n",
    "\n",
    "# Apply the gca and xaxis.set_major_locator functions from the matplotlib.pyplot module to set the x-axis tick locations to\n",
    "# integer values\n",
    "\n",
    "plt.gca().xaxis.set_major_locator(plt.MaxNLocator(integer=True))\n",
    "\n",
    "# Apply the show function to display the plot\n",
    "\n",
    "plt.show()"
   ]
  },
  {
   "cell_type": "code",
   "execution_count": 117,
   "id": "3e24f976",
   "metadata": {},
   "outputs": [
    {
     "data": {
      "image/png": "[encoded data removed]",
      "text/plain": [
       "<Figure size 500x500 with 6 Axes>"
      ]
     },
     "metadata": {},
     "output_type": "display_data"
    }
   ],
   "source": [
    "sns.set(style='whitegrid', context='notebook')\n",
    "\n",
    "# Consider the following columns from the entire dataset\n",
    "\n",
    "cols = ['Year', 'Value_Ireland']\n",
    "\n",
    "\n",
    "# Display the pairplot using the above-mentioned columns\n",
    "sns.pairplot(dft[cols], height = 2.5)\n",
    "\n",
    "plt.tight_layout()\n",
    "\n",
    "plt.show()"
   ]
  },
  {
   "cell_type": "code",
   "execution_count": 118,
   "id": "2e8c4798",
   "metadata": {},
   "outputs": [
    {
     "data": {
      "image/png": "[encoded data removed]",
      "text/plain": [
       "<Figure size 640x480 with 2 Axes>"
      ]
     },
     "metadata": {},
     "output_type": "display_data"
    }
   ],
   "source": [
    "# Explore the correlation between the variables\n",
    "\n",
    "# Initialise an object (cm) using np object\n",
    "\n",
    "cm = np.corrcoef(dft[cols].values.T)\n",
    "\n",
    "# Set the font size of the plot\n",
    "sns.set(font_scale = 1.1)\n",
    "\n",
    "hm = sns.heatmap(cm, \n",
    "            cbar=True,\n",
    "            annot=True, \n",
    "            square=True,\n",
    "            fmt='.2f',\n",
    "            annot_kws={'size': 13},\n",
    "            yticklabels=cols,\n",
    "            xticklabels=cols)\n",
    "\n",
    "plt.tight_layout()\n",
    "# plt.savefig('./figures/corr_mat.png', dpi=300)\n",
    "plt.show()"
   ]
  },
  {
   "cell_type": "code",
   "execution_count": 119,
   "id": "0734b08f",
   "metadata": {},
   "outputs": [
    {
     "data": {
      "text/plain": [
       "<Axes: >"
      ]
     },
     "execution_count": 119,
     "metadata": {},
     "output_type": "execute_result"
    },
    {
     "data": {
      "image/png": "[encoded data removed]",
      "text/plain": [
       "<Figure size 640x480 with 1 Axes>"
      ]
     },
     "metadata": {},
     "output_type": "display_data"
    }
   ],
   "source": [
    "dft['Value_Ireland'].hist()"
   ]
  },
  {
   "cell_type": "code",
   "execution_count": 120,
   "id": "c0e6c93c",
   "metadata": {},
   "outputs": [],
   "source": [
    "# Define the values for the model\n",
    "\n",
    "X = dft['Year'].values\n",
    "y = dft['Value_Ireland'].values"
   ]
  },
  {
   "cell_type": "code",
   "execution_count": 121,
   "id": "aeb66b1f",
   "metadata": {},
   "outputs": [
    {
     "data": {
      "text/plain": [
       "((120,), (120,))"
      ]
     },
     "execution_count": 121,
     "metadata": {},
     "output_type": "execute_result"
    }
   ],
   "source": [
    "# Check the shape of the arrays\n",
    "\n",
    "X.shape, y.shape"
   ]
  },
  {
   "cell_type": "code",
   "execution_count": 124,
   "id": "2144b9a5",
   "metadata": {},
   "outputs": [],
   "source": [
    "# Reshape the arrays to fit the scaler\n",
    "\n",
    "X = X.reshape(-1,1)\n",
    "y = y.reshape(-1,1)"
   ]
  },
  {
   "cell_type": "code",
   "execution_count": 125,
   "id": "4e1275ab",
   "metadata": {},
   "outputs": [
    {
     "data": {
      "text/plain": [
       "((120, 1), (120, 1))"
      ]
     },
     "execution_count": 125,
     "metadata": {},
     "output_type": "execute_result"
    }
   ],
   "source": [
    "# Verify the shape\n",
    "\n",
    "X.shape, y.shape"
   ]
  },
  {
   "cell_type": "code",
   "execution_count": 126,
   "id": "18a92536",
   "metadata": {},
   "outputs": [],
   "source": [
    "# Import StandardScaler from sklearn.preprocessing\n",
    "\n",
    "from sklearn.preprocessing import StandardScaler\n",
    "\n",
    "# Initialise the objects using StandardScaler()\n",
    "\n",
    "sc_x = StandardScaler()\n",
    "sc_y = StandardScaler()\n",
    "\n",
    "# Train the objects using fit_transform()\n",
    "\n",
    "X_std = sc_x.fit_transform(X)\n",
    "y_std = sc_y.fit_transform(y)"
   ]
  },
  {
   "cell_type": "code",
   "execution_count": 127,
   "id": "178be54c",
   "metadata": {},
   "outputs": [],
   "source": [
    "# Split the data into training and testing sets and set the test_size conventionally to 0.25, meaning that 25%\n",
    "# of the data will be used for testing and 75% for training.\n",
    "\n",
    "X_train, X_test, y_train, y_test = train_test_split(X_std, y_std, test_size=0.25)"
   ]
  },
  {
   "cell_type": "code",
   "execution_count": 128,
   "id": "56b52726",
   "metadata": {},
   "outputs": [],
   "source": [
    "# Import the DecisionTreeRegressor from sklearn.tree\n",
    "\n",
    "from sklearn.tree import DecisionTreeRegressor\n",
    "\n",
    "# Create a decision tree regressor\n",
    "\n",
    "regressor = DecisionTreeRegressor()"
   ]
  },
  {
   "cell_type": "code",
   "execution_count": 129,
   "id": "df2122ce",
   "metadata": {},
   "outputs": [
    {
     "name": "stdout",
     "output_type": "stream",
     "text": [
      "Best hyperparameters: {'criterion': 'squared_error', 'max_depth': 2, 'min_samples_split': 2}\n"
     ]
    }
   ],
   "source": [
    "# Import GridSearchCV from klearn.model_selection\n",
    "\n",
    "from sklearn.model_selection import GridSearchCV\n",
    "\n",
    "# Define the parameters\n",
    "\n",
    "param_grid = {\n",
    "    'criterion': ['squared_error', 'absolute_error','friedman_mse'],\n",
    "    'max_depth': [2, 4, 6, 8],\n",
    "    'min_samples_split': [2, 5, 10]\n",
    "}\n",
    "\n",
    "# Create a grid search object\n",
    "\n",
    "grid_search = GridSearchCV(regressor, param_grid, cv=5)\n",
    "\n",
    "# Fit the grid search to the data\n",
    "\n",
    "grid_search.fit(X_train, y_train)\n",
    "\n",
    "# Print the best hyperparameters\n",
    "\n",
    "print(f'Best hyperparameters: {grid_search.best_params_}')"
   ]
  },
  {
   "cell_type": "code",
   "execution_count": 130,
   "id": "ae76c8e8",
   "metadata": {},
   "outputs": [
    {
     "data": {
      "text/html": [
       "<style>#sk-container-id-2 {color: black;}#sk-container-id-2 pre{padding: 0;}#sk-container-id-2 div.sk-toggleable {background-color: white;}#sk-container-id-2 label.sk-toggleable__label {cursor: pointer;display: block;width: 100%;margin-bottom: 0;padding: 0.3em;box-sizing: border-box;text-align: center;}#sk-container-id-2 label.sk-toggleable__label-arrow:before {content: \"▸\";float: left;margin-right: 0.25em;color: #696969;}#sk-container-id-2 label.sk-toggleable__label-arrow:hover:before {color: black;}#sk-container-id-2 div.sk-estimator:hover label.sk-toggleable__label-arrow:before {color: black;}#sk-container-id-2 div.sk-toggleable__content {max-height: 0;max-width: 0;overflow: hidden;text-align: left;background-color: #f0f8ff;}#sk-container-id-2 div.sk-toggleable__content pre {margin: 0.2em;color: black;border-radius: 0.25em;background-color: #f0f8ff;}#sk-container-id-2 input.sk-toggleable__control:checked~div.sk-toggleable__content {max-height: 200px;max-width: 100%;overflow: auto;}#sk-container-id-2 input.sk-toggleable__control:checked~label.sk-toggleable__label-arrow:before {content: \"▾\";}#sk-container-id-2 div.sk-estimator input.sk-toggleable__control:checked~label.sk-toggleable__label {background-color: #d4ebff;}#sk-container-id-2 div.sk-label input.sk-toggleable__control:checked~label.sk-toggleable__label {background-color: #d4ebff;}#sk-container-id-2 input.sk-hidden--visually {border: 0;clip: rect(1px 1px 1px 1px);clip: rect(1px, 1px, 1px, 1px);height: 1px;margin: -1px;overflow: hidden;padding: 0;position: absolute;width: 1px;}#sk-container-id-2 div.sk-estimator {font-family: monospace;background-color: #f0f8ff;border: 1px dotted black;border-radius: 0.25em;box-sizing: border-box;margin-bottom: 0.5em;}#sk-container-id-2 div.sk-estimator:hover {background-color: #d4ebff;}#sk-container-id-2 div.sk-parallel-item::after {content: \"\";width: 100%;border-bottom: 1px solid gray;flex-grow: 1;}#sk-container-id-2 div.sk-label:hover label.sk-toggleable__label {background-color: #d4ebff;}#sk-container-id-2 div.sk-serial::before {content: \"\";position: absolute;border-left: 1px solid gray;box-sizing: border-box;top: 0;bottom: 0;left: 50%;z-index: 0;}#sk-container-id-2 div.sk-serial {display: flex;flex-direction: column;align-items: center;background-color: white;padding-right: 0.2em;padding-left: 0.2em;position: relative;}#sk-container-id-2 div.sk-item {position: relative;z-index: 1;}#sk-container-id-2 div.sk-parallel {display: flex;align-items: stretch;justify-content: center;background-color: white;position: relative;}#sk-container-id-2 div.sk-item::before, #sk-container-id-2 div.sk-parallel-item::before {content: \"\";position: absolute;border-left: 1px solid gray;box-sizing: border-box;top: 0;bottom: 0;left: 50%;z-index: -1;}#sk-container-id-2 div.sk-parallel-item {display: flex;flex-direction: column;z-index: 1;position: relative;background-color: white;}#sk-container-id-2 div.sk-parallel-item:first-child::after {align-self: flex-end;width: 50%;}#sk-container-id-2 div.sk-parallel-item:last-child::after {align-self: flex-start;width: 50%;}#sk-container-id-2 div.sk-parallel-item:only-child::after {width: 0;}#sk-container-id-2 div.sk-dashed-wrapped {border: 1px dashed gray;margin: 0 0.4em 0.5em 0.4em;box-sizing: border-box;padding-bottom: 0.4em;background-color: white;}#sk-container-id-2 div.sk-label label {font-family: monospace;font-weight: bold;display: inline-block;line-height: 1.2em;}#sk-container-id-2 div.sk-label-container {text-align: center;}#sk-container-id-2 div.sk-container {/* jupyter's `normalize.less` sets `[hidden] { display: none; }` but bootstrap.min.css set `[hidden] { display: none !important; }` so we also need the `!important` here to be able to override the default hidden behavior on the sphinx rendered scikit-learn.org. See: https://github.com/scikit-learn/scikit-learn/issues/21755 */display: inline-block !important;position: relative;}#sk-container-id-2 div.sk-text-repr-fallback {display: none;}</style><div id=\"sk-container-id-2\" class=\"sk-top-container\"><div class=\"sk-text-repr-fallback\"><pre>DecisionTreeRegressor(max_depth=2)</pre><b>In a Jupyter environment, please rerun this cell to show the HTML representation or trust the notebook. <br />On GitHub, the HTML representation is unable to render, please try loading this page with nbviewer.org.</b></div><div class=\"sk-container\" hidden><div class=\"sk-item\"><div class=\"sk-estimator sk-toggleable\"><input class=\"sk-toggleable__control sk-hidden--visually\" id=\"sk-estimator-id-2\" type=\"checkbox\" checked><label for=\"sk-estimator-id-2\" class=\"sk-toggleable__label sk-toggleable__label-arrow\">DecisionTreeRegressor</label><div class=\"sk-toggleable__content\"><pre>DecisionTreeRegressor(max_depth=2)</pre></div></div></div></div></div>"
      ],
      "text/plain": [
       "DecisionTreeRegressor(max_depth=2)"
      ]
     },
     "execution_count": 130,
     "metadata": {},
     "output_type": "execute_result"
    }
   ],
   "source": [
    "# Set the best hyperparameters\n",
    "\n",
    "best_params = grid_search.best_params_\n",
    "max_depth = best_params['max_depth']\n",
    "min_samples_split = best_params['min_samples_split']\n",
    "\n",
    "# Create a decision tree regressor with the best hyperparameters\n",
    "\n",
    "regressor = DecisionTreeRegressor(max_depth=max_depth, min_samples_split=min_samples_split)\n",
    "\n",
    "# Fit the model to the training data\n",
    "\n",
    "regressor.fit(X_train, y_train)"
   ]
  },
  {
   "cell_type": "code",
   "execution_count": 131,
   "id": "7a39863e",
   "metadata": {},
   "outputs": [],
   "source": [
    "# Make predictions on the testing data\n",
    "\n",
    "y_pred = regressor.predict(X_test)"
   ]
  },
  {
   "cell_type": "code",
   "execution_count": 132,
   "id": "bd148d9c",
   "metadata": {},
   "outputs": [
    {
     "name": "stdout",
     "output_type": "stream",
     "text": [
      "Mean squared error: 0.54\n"
     ]
    }
   ],
   "source": [
    "from sklearn.metrics import mean_squared_error\n",
    "\n",
    "# Calculate the mean squared error of the predictions\n",
    "mse = mean_squared_error(y_test, y_pred)\n",
    "\n",
    "# Print the result\n",
    "print(f'Mean squared error: {mse:.2f}')"
   ]
  },
  {
   "cell_type": "code",
   "execution_count": 133,
   "id": "2bd7d302",
   "metadata": {},
   "outputs": [],
   "source": [
    "# Predict the results for the training and testing\n",
    "\n",
    "y_train_pred = regressor.predict(X_train)\n",
    "y_test_pred = regressor.predict(X_test)"
   ]
  },
  {
   "cell_type": "code",
   "execution_count": 134,
   "id": "ce9a1d3c",
   "metadata": {},
   "outputs": [
    {
     "name": "stdout",
     "output_type": "stream",
     "text": [
      "MSE train: 0.271, test: 0.536\n",
      "R^2 train: 0.740, test: 0.379\n"
     ]
    }
   ],
   "source": [
    "# Calculate the r2_score and mean squared error\n",
    "from sklearn.metrics import r2_score\n",
    "from sklearn.metrics import mean_squared_error\n",
    "\n",
    "# Display the means squared error and r2 score values\n",
    "print('MSE train: %.3f, test: %.3f' % (mean_squared_error(y_train, y_train_pred), mean_squared_error(y_test, y_test_pred)))\n",
    "print('R^2 train: %.3f, test: %.3f' % (r2_score(y_train, y_train_pred), r2_score(y_test, y_test_pred)))"
   ]
  },
  {
   "cell_type": "code",
   "execution_count": 135,
   "id": "54177490",
   "metadata": {},
   "outputs": [
    {
     "data": {
      "image/png": "[encoded data removed]",
      "text/plain": [
       "<Figure size 640x480 with 1 Axes>"
      ]
     },
     "metadata": {},
     "output_type": "display_data"
    }
   ],
   "source": [
    "import matplotlib.pyplot as plt\n",
    "\n",
    "# Plot the training data\n",
    "plt.scatter(X_train, y_train, label='Training data')\n",
    "\n",
    "# Plot the testing data\n",
    "plt.scatter(X_test, y_test, label='Testing data')\n",
    "\n",
    "# Plot the model's predictions\n",
    "X = np.linspace(X_train.min(), X_train.max(), 100).reshape(-1, 1)\n",
    "y_pred = regressor.predict(X)\n",
    "plt.plot(X, y_pred, color='red', label='Decision tree regression')\n",
    "\n",
    "# Add labels and legend\n",
    "plt.xlabel('Observed Value')\n",
    "plt.ylabel('Time Period')\n",
    "plt.legend()\n",
    "\n",
    "# Show the plot\n",
    "plt.show()"
   ]
  },
  {
   "cell_type": "code",
   "execution_count": 139,
   "id": "00dcdb0a",
   "metadata": {},
   "outputs": [],
   "source": [
    "# Import 'MultinomialNB' from 'sklearn.naive_bayes' and 'train_test_split' from 'sklearn.model_selection'\n",
    "\n",
    "from sklearn.naive_bayes import MultinomialNB\n",
    "from sklearn.model_selection import train_test_split\n",
    "\n",
    "# Instantiate an object model by calling a method MultinomialNB()\n",
    "\n",
    "# The choice of the MultinomialNB() has been determined by common practice.\n",
    "\n",
    "model = MultinomialNB()"
   ]
  },
  {
   "cell_type": "code",
   "execution_count": 138,
   "id": "b53a100d",
   "metadata": {},
   "outputs": [
    {
     "ename": "ValueError",
     "evalue": "Found input variables with inconsistent numbers of samples: [30, 100]",
     "output_type": "error",
     "traceback": [
      "\u001b[1;31m---------------------------------------------------------------------------\u001b[0m",
      "\u001b[1;31mValueError\u001b[0m                                Traceback (most recent call last)",
      "Cell \u001b[1;32mIn[138], line 7\u001b[0m\n\u001b[0;32m      3\u001b[0m \u001b[38;5;28;01mfrom\u001b[39;00m \u001b[38;5;21;01msklearn\u001b[39;00m\u001b[38;5;21;01m.\u001b[39;00m\u001b[38;5;21;01mmetrics\u001b[39;00m \u001b[38;5;28;01mimport\u001b[39;00m classification_report\n\u001b[0;32m      5\u001b[0m \u001b[38;5;66;03m# Instantiate a mthod named as Cf\u001b[39;00m\n\u001b[1;32m----> 7\u001b[0m cf \u001b[38;5;241m=\u001b[39m classification_report(y_test, y_pred)\n\u001b[0;32m      9\u001b[0m \u001b[38;5;66;03m# Display the values of an object cf\u001b[39;00m\n\u001b[0;32m     11\u001b[0m \u001b[38;5;28mprint\u001b[39m(cf)\n",
      "File \u001b[1;32m~\\anaconda3\\Lib\\site-packages\\sklearn\\utils\\_param_validation.py:211\u001b[0m, in \u001b[0;36mvalidate_params.<locals>.decorator.<locals>.wrapper\u001b[1;34m(*args, **kwargs)\u001b[0m\n\u001b[0;32m    205\u001b[0m \u001b[38;5;28;01mtry\u001b[39;00m:\n\u001b[0;32m    206\u001b[0m     \u001b[38;5;28;01mwith\u001b[39;00m config_context(\n\u001b[0;32m    207\u001b[0m         skip_parameter_validation\u001b[38;5;241m=\u001b[39m(\n\u001b[0;32m    208\u001b[0m             prefer_skip_nested_validation \u001b[38;5;129;01mor\u001b[39;00m global_skip_validation\n\u001b[0;32m    209\u001b[0m         )\n\u001b[0;32m    210\u001b[0m     ):\n\u001b[1;32m--> 211\u001b[0m         \u001b[38;5;28;01mreturn\u001b[39;00m func(\u001b[38;5;241m*\u001b[39margs, \u001b[38;5;241m*\u001b[39m\u001b[38;5;241m*\u001b[39mkwargs)\n\u001b[0;32m    212\u001b[0m \u001b[38;5;28;01mexcept\u001b[39;00m InvalidParameterError \u001b[38;5;28;01mas\u001b[39;00m e:\n\u001b[0;32m    213\u001b[0m     \u001b[38;5;66;03m# When the function is just a wrapper around an estimator, we allow\u001b[39;00m\n\u001b[0;32m    214\u001b[0m     \u001b[38;5;66;03m# the function to delegate validation to the estimator, but we replace\u001b[39;00m\n\u001b[0;32m    215\u001b[0m     \u001b[38;5;66;03m# the name of the estimator by the name of the function in the error\u001b[39;00m\n\u001b[0;32m    216\u001b[0m     \u001b[38;5;66;03m# message to avoid confusion.\u001b[39;00m\n\u001b[0;32m    217\u001b[0m     msg \u001b[38;5;241m=\u001b[39m re\u001b[38;5;241m.\u001b[39msub(\n\u001b[0;32m    218\u001b[0m         \u001b[38;5;124mr\u001b[39m\u001b[38;5;124m\"\u001b[39m\u001b[38;5;124mparameter of \u001b[39m\u001b[38;5;124m\\\u001b[39m\u001b[38;5;124mw+ must be\u001b[39m\u001b[38;5;124m\"\u001b[39m,\n\u001b[0;32m    219\u001b[0m         \u001b[38;5;124mf\u001b[39m\u001b[38;5;124m\"\u001b[39m\u001b[38;5;124mparameter of \u001b[39m\u001b[38;5;132;01m{\u001b[39;00mfunc\u001b[38;5;241m.\u001b[39m\u001b[38;5;18m__qualname__\u001b[39m\u001b[38;5;132;01m}\u001b[39;00m\u001b[38;5;124m must be\u001b[39m\u001b[38;5;124m\"\u001b[39m,\n\u001b[0;32m    220\u001b[0m         \u001b[38;5;28mstr\u001b[39m(e),\n\u001b[0;32m    221\u001b[0m     )\n",
      "File \u001b[1;32m~\\anaconda3\\Lib\\site-packages\\sklearn\\metrics\\_classification.py:2539\u001b[0m, in \u001b[0;36mclassification_report\u001b[1;34m(y_true, y_pred, labels, target_names, sample_weight, digits, output_dict, zero_division)\u001b[0m\n\u001b[0;32m   2405\u001b[0m \u001b[38;5;129m@validate_params\u001b[39m(\n\u001b[0;32m   2406\u001b[0m     {\n\u001b[0;32m   2407\u001b[0m         \u001b[38;5;124m\"\u001b[39m\u001b[38;5;124my_true\u001b[39m\u001b[38;5;124m\"\u001b[39m: [\u001b[38;5;124m\"\u001b[39m\u001b[38;5;124marray-like\u001b[39m\u001b[38;5;124m\"\u001b[39m, \u001b[38;5;124m\"\u001b[39m\u001b[38;5;124msparse matrix\u001b[39m\u001b[38;5;124m\"\u001b[39m],\n\u001b[1;32m   (...)\u001b[0m\n\u001b[0;32m   2430\u001b[0m     zero_division\u001b[38;5;241m=\u001b[39m\u001b[38;5;124m\"\u001b[39m\u001b[38;5;124mwarn\u001b[39m\u001b[38;5;124m\"\u001b[39m,\n\u001b[0;32m   2431\u001b[0m ):\n\u001b[0;32m   2432\u001b[0m \u001b[38;5;250m    \u001b[39m\u001b[38;5;124;03m\"\"\"Build a text report showing the main classification metrics.\u001b[39;00m\n\u001b[0;32m   2433\u001b[0m \n\u001b[0;32m   2434\u001b[0m \u001b[38;5;124;03m    Read more in the :ref:`User Guide <classification_report>`.\u001b[39;00m\n\u001b[1;32m   (...)\u001b[0m\n\u001b[0;32m   2536\u001b[0m \u001b[38;5;124;03m    <BLANKLINE>\u001b[39;00m\n\u001b[0;32m   2537\u001b[0m \u001b[38;5;124;03m    \"\"\"\u001b[39;00m\n\u001b[1;32m-> 2539\u001b[0m     y_type, y_true, y_pred \u001b[38;5;241m=\u001b[39m _check_targets(y_true, y_pred)\n\u001b[0;32m   2541\u001b[0m     \u001b[38;5;28;01mif\u001b[39;00m labels \u001b[38;5;129;01mis\u001b[39;00m \u001b[38;5;28;01mNone\u001b[39;00m:\n\u001b[0;32m   2542\u001b[0m         labels \u001b[38;5;241m=\u001b[39m unique_labels(y_true, y_pred)\n",
      "File \u001b[1;32m~\\anaconda3\\Lib\\site-packages\\sklearn\\metrics\\_classification.py:84\u001b[0m, in \u001b[0;36m_check_targets\u001b[1;34m(y_true, y_pred)\u001b[0m\n\u001b[0;32m     57\u001b[0m \u001b[38;5;28;01mdef\u001b[39;00m \u001b[38;5;21m_check_targets\u001b[39m(y_true, y_pred):\n\u001b[0;32m     58\u001b[0m \u001b[38;5;250m    \u001b[39m\u001b[38;5;124;03m\"\"\"Check that y_true and y_pred belong to the same classification task.\u001b[39;00m\n\u001b[0;32m     59\u001b[0m \n\u001b[0;32m     60\u001b[0m \u001b[38;5;124;03m    This converts multiclass or binary types to a common shape, and raises a\u001b[39;00m\n\u001b[1;32m   (...)\u001b[0m\n\u001b[0;32m     82\u001b[0m \u001b[38;5;124;03m    y_pred : array or indicator matrix\u001b[39;00m\n\u001b[0;32m     83\u001b[0m \u001b[38;5;124;03m    \"\"\"\u001b[39;00m\n\u001b[1;32m---> 84\u001b[0m     check_consistent_length(y_true, y_pred)\n\u001b[0;32m     85\u001b[0m     type_true \u001b[38;5;241m=\u001b[39m type_of_target(y_true, input_name\u001b[38;5;241m=\u001b[39m\u001b[38;5;124m\"\u001b[39m\u001b[38;5;124my_true\u001b[39m\u001b[38;5;124m\"\u001b[39m)\n\u001b[0;32m     86\u001b[0m     type_pred \u001b[38;5;241m=\u001b[39m type_of_target(y_pred, input_name\u001b[38;5;241m=\u001b[39m\u001b[38;5;124m\"\u001b[39m\u001b[38;5;124my_pred\u001b[39m\u001b[38;5;124m\"\u001b[39m)\n",
      "File \u001b[1;32m~\\anaconda3\\Lib\\site-packages\\sklearn\\utils\\validation.py:409\u001b[0m, in \u001b[0;36mcheck_consistent_length\u001b[1;34m(*arrays)\u001b[0m\n\u001b[0;32m    407\u001b[0m uniques \u001b[38;5;241m=\u001b[39m np\u001b[38;5;241m.\u001b[39munique(lengths)\n\u001b[0;32m    408\u001b[0m \u001b[38;5;28;01mif\u001b[39;00m \u001b[38;5;28mlen\u001b[39m(uniques) \u001b[38;5;241m>\u001b[39m \u001b[38;5;241m1\u001b[39m:\n\u001b[1;32m--> 409\u001b[0m     \u001b[38;5;28;01mraise\u001b[39;00m \u001b[38;5;167;01mValueError\u001b[39;00m(\n\u001b[0;32m    410\u001b[0m         \u001b[38;5;124m\"\u001b[39m\u001b[38;5;124mFound input variables with inconsistent numbers of samples: \u001b[39m\u001b[38;5;132;01m%r\u001b[39;00m\u001b[38;5;124m\"\u001b[39m\n\u001b[0;32m    411\u001b[0m         \u001b[38;5;241m%\u001b[39m [\u001b[38;5;28mint\u001b[39m(l) \u001b[38;5;28;01mfor\u001b[39;00m l \u001b[38;5;129;01min\u001b[39;00m lengths]\n\u001b[0;32m    412\u001b[0m     )\n",
      "\u001b[1;31mValueError\u001b[0m: Found input variables with inconsistent numbers of samples: [30, 100]"
     ]
    }
   ],
   "source": [
    "# Import classification_report from sklearn.metrics\n",
    "\n",
    "from sklearn.metrics import classification_report\n",
    "\n",
    "# Instantiate a mthod named as Cf\n",
    "\n",
    "cf = classification_report(y_test, y_pred)\n",
    "\n",
    "# Display the values of an object cf\n",
    "\n",
    "print(cf)"
   ]
  },
  {
   "cell_type": "code",
   "execution_count": null,
   "id": "8acce81e",
   "metadata": {},
   "outputs": [],
   "source": []
  }
 ],
 "metadata": {
  "kernelspec": {
   "display_name": "Python 3 (ipykernel)",
   "language": "python",
   "name": "python3"
  },
  "language_info": {
   "codemirror_mode": {
    "name": "ipython",
    "version": 3
   },
   "file_extension": ".py",
   "mimetype": "text/x-python",
   "name": "python",
   "nbconvert_exporter": "python",
   "pygments_lexer": "ipython3",
   "version": "3.11.4"
  }
 },
 "nbformat": 4,
 "nbformat_minor": 5
}
